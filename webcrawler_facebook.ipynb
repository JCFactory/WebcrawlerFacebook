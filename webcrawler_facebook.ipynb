{
 "cells": [
  {
   "cell_type": "markdown",
   "metadata": {},
   "source": [
    "## Installation: Packages\n",
    "### pip install facebook-sdk"
   ]
  },
  {
   "cell_type": "code",
   "execution_count": 44,
   "metadata": {},
   "outputs": [
    {
     "ename": "AttributeError",
     "evalue": "'str' object has no attribute 'posts'",
     "output_type": "error",
     "traceback": [
      "\u001b[1;31m---------------------------------------------------------------------------\u001b[0m",
      "\u001b[1;31mAttributeError\u001b[0m                            Traceback (most recent call last)",
      "\u001b[1;32m<ipython-input-44-7b14337376a5>\u001b[0m in \u001b[0;36m<module>\u001b[1;34m\u001b[0m\n\u001b[0;32m     27\u001b[0m \u001b[1;32mfor\u001b[0m \u001b[0mel\u001b[0m \u001b[1;32min\u001b[0m \u001b[0mr\u001b[0m\u001b[1;33m:\u001b[0m\u001b[1;33m\u001b[0m\u001b[1;33m\u001b[0m\u001b[0m\n\u001b[0;32m     28\u001b[0m     \u001b[0mstr\u001b[0m \u001b[1;33m=\u001b[0m \u001b[0mel\u001b[0m\u001b[1;33m.\u001b[0m\u001b[0mdecode\u001b[0m\u001b[1;33m(\u001b[0m\u001b[1;34m\"utf-8\"\u001b[0m\u001b[1;33m)\u001b[0m\u001b[1;33m\u001b[0m\u001b[1;33m\u001b[0m\u001b[0m\n\u001b[1;32m---> 29\u001b[1;33m     \u001b[0mprint\u001b[0m\u001b[1;33m(\u001b[0m\u001b[0mstr\u001b[0m\u001b[1;33m.\u001b[0m\u001b[0mposts\u001b[0m\u001b[1;33m[\u001b[0m\u001b[0mdata\u001b[0m\u001b[1;33m[\u001b[0m\u001b[0mcomments\u001b[0m\u001b[1;33m]\u001b[0m\u001b[1;33m]\u001b[0m\u001b[1;33m)\u001b[0m\u001b[1;33m\u001b[0m\u001b[1;33m\u001b[0m\u001b[0m\n\u001b[0m\u001b[0;32m     30\u001b[0m     \u001b[1;31m#print(json.dumps(el))\u001b[0m\u001b[1;33m\u001b[0m\u001b[1;33m\u001b[0m\u001b[1;33m\u001b[0m\u001b[0m\n\u001b[0;32m     31\u001b[0m     \u001b[1;31m#parsed_json = (json.loads(el))\u001b[0m\u001b[1;33m\u001b[0m\u001b[1;33m\u001b[0m\u001b[1;33m\u001b[0m\u001b[0m\n",
      "\u001b[1;31mAttributeError\u001b[0m: 'str' object has no attribute 'posts'"
     ]
    },
    {
     "name": "stdout",
     "output_type": "stream",
     "text": [
      "Sat Sep 28 14:31:35 2019\n",
      "b'{\"id\":\"111346246934625\",\"name\":\"Burghard Lachmann\",\"posts\":{\"data\":[{\"id\":\"111346246934625_111339746935275\",\"comments\":{\"data\":['\n",
      "b'{\"created_time\":\"2019-09-28T09:29:49+0000\",\"from\":{\"name\":\"Burghard Lachmann\",\"id\":\"111346246934625\"},\"message\":\"Super Positiv \\\\'\n",
      "b'ud83d\\\\ude0d\",\"id\":\"111339746935275_111343456934904\"},{\"created_time\":\"2019-09-28T09:30:09+0000\",\"from\":{\"name\":\"Burghard Lachman'\n",
      "b'n\",\"id\":\"111346246934625\"},\"message\":\"Super Negativ \\\\ud83e\\\\udd2c\",\"id\":\"111339746935275_111343890268194\"}],\"paging\":{\"cursors\":{'\n",
      "b'\"before\":\"WTI5dGJXVnVkRjlqZAFhKemIzSTZANVEV4TXpRek5EVTJPVE0wT1RBME9qRTFOamsyTmpJNU9Eaz0ZD\",\"after\":\"WTI5dGJXVnVkRjlqZAFhKemIzSTZ'\n",
      "b'ANVEV4TXpRek9Ea3dNalk0TVRrME9qRTFOamsyTmpNd01Eaz0ZD\"}}}},{\"id\":\"111346246934625_111306320271951\"}],\"paging\":{\"previous\":\"https:\\\\'\n",
      "b'/\\\\/graph.facebook.com\\\\/v4.0\\\\/111346246934625\\\\/posts?fields=comments,sharedposts&since=1569662789&access_token=EAAlcIv35CUUBAD8Kg'\n",
      "b'Rx7BFj6uoQmpO9OVaJy9mgXGgYoISxQeQ7IHcLlLZBCmeBFCwC3MAAm1BvT9Drd0ZA9uPZAyr4PSpWPInqlQs1T9ndAFZBMj90pUGfe4Be5A3CLOWfUqB9oq3ex9OU9S'\n",
      "b'QD57z95EbHBkTgBPTBhJTXytMobSvIPsmlR&limit=25&__paging_token=enc_AdAH3gDDyRlvu4d09OUIW95lJKFMHEeQo9E2KJL2nqQtRpKmUebPuddzaEiZAYTN'\n",
      "b'L6cA1qUZBbRdRCrjCKQ8sv2cqYw7c5HzNyps7LkyLIDKDWMQZDZD&__previous=1\",\"next\":\"https:\\\\/\\\\/graph.facebook.com\\\\/v4.0\\\\/111346246934625\\\\/'\n",
      "b'posts?fields=comments,sharedposts&access_token=EAAlcIv35CUUBAD8KgRx7BFj6uoQmpO9OVaJy9mgXGgYoISxQeQ7IHcLlLZBCmeBFCwC3MAAm1BvT9Drd'\n",
      "b'0ZA9uPZAyr4PSpWPInqlQs1T9ndAFZBMj90pUGfe4Be5A3CLOWfUqB9oq3ex9OU9SQD57z95EbHBkTgBPTBhJTXytMobSvIPsmlR&limit=25&until=-620758800&_'\n",
      "b'_paging_token=enc_AdBYNLWPYLZBzKIVZAk0ZBy8spbBt1HKHFdbY4tVK7QpPlw8QnAPImAptI0sT35oZCfM9ZB29ZCwrxJ6D6l5RsUUoukdBewmrYnHQvy3RqfLzG'\n",
      "b'AYFuRQZDZD\"}}}'\n"
     ]
    }
   ],
   "source": [
    "# import libraries\n",
    "import requests\n",
    "import time, threading\n",
    "import json\n",
    "\n",
    "# api-endpoint\n",
    "burghard_api_url = \"https://graph.facebook.com/v4.0/me?fields=id%2Cname%2Cposts%7Bcomments%2Clikes%2Creactions%7Bname%2Ctype%2Cid%7D%7D%2Cfeed&access_token=EAAlcIv35CUUBACAL7BAOaT1Fm4mn84wsn0yqOr2UU9R5FG59beXoymQAdA47G4jQqtcW9iZBhCrwlW0VxOQNEUTNgWK4ZBM6vjTA9BthBw7jwM55RKKVgYRt0V4tFcQZAthLHPMZBAZBZBnoHRpD3PXeZBZBilgnaxHJuHoMg7E4dpYdhZAbioeaA33hviyR6DZAj6ZBWh3896phZAo8ft9yV26Y\"\n",
    "\n",
    "lachmann_cruises_api_url = \"https://graph.facebook.com/v4.0/me?fields=id%2Cname%2Cposts%7Bcomments%2Csharedposts%7D&access_token=EAAlcIv35CUUBAD8KgRx7BFj6uoQmpO9OVaJy9mgXGgYoISxQeQ7IHcLlLZBCmeBFCwC3MAAm1BvT9Drd0ZA9uPZAyr4PSpWPInqlQs1T9ndAFZBMj90pUGfe4Be5A3CLOWfUqB9oq3ex9OU9SQD57z95EbHBkTgBPTBhJTXytMobSvIPsmlR\" \n",
    "\n",
    "\n",
    "# define \n",
    "# WAIT_SECONDS = 900\n",
    "\n",
    "# sending get request and saving the response as response object\n",
    "#def api_request():\n",
    " #   print(time.ctime())\n",
    "  #  threading.Timer(WAIT_SECONDS, api_request).start()\n",
    "   # r = requests.get(url=lachmann_cruises_api_url)\n",
    "    #for el in r:\n",
    "     #   print(el)\n",
    "    \n",
    "#api_request()\n",
    "#x = requests.get(url=burghard_api_url)\n",
    "r = requests.get(url=lachmann_cruises_api_url)\n",
    "\n",
    "for el in r:\n",
    "    str = el.decode(\"utf-8\") \n",
    "    print(str)\n",
    "    #print(json.dumps(el))\n",
    "    #parsed_json = (json.loads(el))\n",
    "    #print(json.dumps(parsed_json, indent=4, sort_keys=True))\n",
    "    \n",
    "\n"
   ]
  },
  {
   "cell_type": "code",
   "execution_count": null,
   "metadata": {},
   "outputs": [],
   "source": []
  },
  {
   "cell_type": "code",
   "execution_count": null,
   "metadata": {},
   "outputs": [],
   "source": []
  },
  {
   "cell_type": "code",
   "execution_count": null,
   "metadata": {},
   "outputs": [],
   "source": []
  },
  {
   "cell_type": "markdown",
   "metadata": {},
   "source": [
    "## Send email to Burghard Lachmann \n",
    "### condition: negative comments >= 40% / innerhalb von 5 Minuten 10 negative Kommentare"
   ]
  },
  {
   "cell_type": "code",
   "execution_count": 5,
   "metadata": {
    "scrolled": true
   },
   "outputs": [
    {
     "name": "stdout",
     "output_type": "stream",
     "text": [
      "Sat Sep 28 14:00:05 2019\n",
      "b'{\"id\":\"120017582730394\",\"name\":\"Lachmann Cruises\",\"posts\":{\"data\":[{\"id\":\"120017582730394_120025842729568\"},{\"comments\":{\"data\":'\n",
      "b'[{\"created_time\":\"2019-09-28T10:27:13+0000\",\"from\":{\"name\":\"Lachmann Cruises\",\"id\":\"120017582730394\"},\"message\":\"Super Kreuzfahr'\n",
      "b't!\",\"id\":\"120019479396871_120029062729246\"},{\"created_time\":\"2019-09-28T10:17:21+0000\",\"from\":{\"name\":\"Lachmann Cruises\",\"id\":\"1'\n",
      "b'20017582730394\"},\"message\":\"Positiver Kommentar\",\"id\":\"120019479396871_120019766063509\"},{\"created_time\":\"2019-09-28T10:17:26+00'\n",
      "b'00\",\"from\":{\"name\":\"Lachmann Cruises\",\"id\":\"120017582730394\"},\"message\":\"Negativer Kommentar\",\"id\":\"120019479396871_120019822730'\n",
      "b'170\"},{\"created_time\":\"2019-09-28T10:28:32+0000\",\"from\":{\"name\":\"Burghard Lachmann\",\"id\":\"2495727930493423\"},\"message\":\"Positive'\n",
      "b'r Kommentar von Burghard :)\",\"id\":\"120019479396871_120031472729005\"}],\"paging\":{\"cursors\":{\"before\":\"NAZDZD\",\"after\":\"MQZDZD\"}}}'\n",
      "b',\"id\":\"120017582730394_120019479396871\"}],\"paging\":{\"cursors\":{\"before\":\"Q2c4U1pXNTBYM0YxWlhKNVgzTjBiM0o1WDJsa0R5TXhNakF3TVRjMU9'\n",
      "b'ESTNNekF6T1RRNk5UUTNNemd5TnpJME5ERXhNREUxTVRVMU5ROE1ZAWEJwWDNOMGIzSjVYMmxrRHg4eE1qQXdNVGMxT0RJM016QXpPVFJmTVRJd01ESTFPRFF5TnpJNU'\n",
      "b'5UWTREd1IwYVcxbEJsMlBOTW9C\",\"after\":\"Q2c4U1pXNTBYM0YxWlhKNVgzTjBiM0o1WDJsa0R5TXhNakF3TVRjMU9ESTNNekF6T1RRNk1UUTNPREU0TnpJNE56UXh'\n",
      "b'OalExTXpjME13OE1ZAWEJwWDNOMGIzSjVYMmxrRHg4eE1qQXdNVGMxT0RJM016QXpPVFJmTVRJd01ERTVORGM1TXprMk9EY3hEd1IwYVcxbEJsMlBNeDBC\"}}}}'\n",
      "Sat Sep 28 14:00:15 2019\n",
      "b'{\"error\":{\"message\":\"Error validating access token: Session has expired on Saturday, 28-Sep-19 05:00:00 PDT. The current time is'\n",
      "b' Saturday, 28-Sep-19 05:00:08 PDT.\",\"type\":\"OAuthException\",\"code\":190,\"error_subcode\":463,\"fbtrace_id\":\"AcyjzgYDBWFrTngC9rzwutt'\n",
      "b'\"}}'\n",
      "Sat Sep 28 14:00:25 2019\n",
      "b'{\"error\":{\"message\":\"Error validating access token: Session has expired on Saturday, 28-Sep-19 05:00:00 PDT. The current time is'\n",
      "b' Saturday, 28-Sep-19 05:00:18 PDT.\",\"type\":\"OAuthException\",\"code\":190,\"error_subcode\":463,\"fbtrace_id\":\"AJYbq2BEIKBXWaAdujSLUHT'\n",
      "b'\"}}'\n",
      "Sat Sep 28 14:00:35 2019\n",
      "b'{\"error\":{\"message\":\"Error validating access token: Session has expired on Saturday, 28-Sep-19 05:00:00 PDT. The current time is'\n",
      "b' Saturday, 28-Sep-19 05:00:28 PDT.\",\"type\":\"OAuthException\",\"code\":190,\"error_subcode\":463,\"fbtrace_id\":\"A_QzLlcxyzkojEpwdJjArtR'\n",
      "b'\"}}'\n",
      "Sat Sep 28 14:00:45 2019\n",
      "b'{\"error\":{\"message\":\"Error validating access token: Session has expired on Saturday, 28-Sep-19 05:00:00 PDT. The current time is'\n",
      "b' Saturday, 28-Sep-19 05:00:38 PDT.\",\"type\":\"OAuthException\",\"code\":190,\"error_subcode\":463,\"fbtrace_id\":\"A2SD8ENxKyIaqZUJg2XWOIf'\n",
      "b'\"}}'\n",
      "Sat Sep 28 14:00:55 2019\n",
      "b'{\"error\":{\"message\":\"Error validating access token: Session has expired on Saturday, 28-Sep-19 05:00:00 PDT. The current time is'\n",
      "b' Saturday, 28-Sep-19 05:00:48 PDT.\",\"type\":\"OAuthException\",\"code\":190,\"error_subcode\":463,\"fbtrace_id\":\"Al6Mt-5wEaWqYe8RLYPrY5I'\n",
      "b'\"}}'\n",
      "Sat Sep 28 14:01:05 2019\n",
      "b'{\"error\":{\"message\":\"Error validating access token: Session has expired on Saturday, 28-Sep-19 05:00:00 PDT. The current time is'\n",
      "b' Saturday, 28-Sep-19 05:00:58 PDT.\",\"type\":\"OAuthException\",\"code\":190,\"error_subcode\":463,\"fbtrace_id\":\"AlAbi-ZzigElDwCvDYIM66b'\n",
      "b'\"}}'\n",
      "Sat Sep 28 14:01:15 2019\n",
      "b'{\"error\":{\"message\":\"Error validating access token: Session has expired on Saturday, 28-Sep-19 05:00:00 PDT. The current time is'\n",
      "b' Saturday, 28-Sep-19 05:01:08 PDT.\",\"type\":\"OAuthException\",\"code\":190,\"error_subcode\":463,\"fbtrace_id\":\"ApdpjQ3svKdIs9NZtlgrV-5'\n",
      "b'\"}}'\n"
     ]
    }
   ],
   "source": [
    "import smtplib, ssl\n",
    "\n",
    "port = 587  # For starttls\n",
    "smtp_server = \"smtp.gmail.com\"\n",
    "sender_email = \"burghard.lachmann@gmail.com\"\n",
    "receiver_email = \"jackyaudrey2015@gmail.com\"\n",
    "password = 'Brunhilde'\n",
    "message = \"\"\"\\\n",
    "Subject: Hi there\n",
    "\n",
    "This message is sent from Python.\"\"\"\n",
    "\n",
    "context = ssl.create_default_context()\n",
    "with smtplib.SMTP(smtp_server, port) as server:\n",
    "   # server.ehlo()  # Can be omitted\n",
    "    server.starttls(context=context)\n",
    "    #server.ehlo()  # Can be omitted\n",
    "    server.login(sender_email, password)\n",
    "    server.sendmail(sender_email, receiver_email, message)"
   ]
  },
  {
   "cell_type": "code",
   "execution_count": null,
   "metadata": {},
   "outputs": [],
   "source": []
  },
  {
   "cell_type": "code",
   "execution_count": null,
   "metadata": {},
   "outputs": [],
   "source": []
  },
  {
   "cell_type": "code",
   "execution_count": null,
   "metadata": {},
   "outputs": [],
   "source": []
  },
  {
   "cell_type": "code",
   "execution_count": null,
   "metadata": {},
   "outputs": [],
   "source": []
  },
  {
   "cell_type": "code",
   "execution_count": null,
   "metadata": {},
   "outputs": [],
   "source": []
  }
 ],
 "metadata": {
  "kernelspec": {
   "display_name": "Python 3",
   "language": "python",
   "name": "python3"
  },
  "language_info": {
   "codemirror_mode": {
    "name": "ipython",
    "version": 3
   },
   "file_extension": ".py",
   "mimetype": "text/x-python",
   "name": "python",
   "nbconvert_exporter": "python",
   "pygments_lexer": "ipython3",
   "version": "3.7.3"
  }
 },
 "nbformat": 4,
 "nbformat_minor": 2
}
