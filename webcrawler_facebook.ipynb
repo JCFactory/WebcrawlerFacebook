{
 "cells": [
  {
   "cell_type": "markdown",
   "metadata": {},
   "source": [
    "## Installation: Packages\n",
    "### pip install facebook-sdk"
   ]
  },
  {
   "cell_type": "code",
   "execution_count": 2,
   "metadata": {},
   "outputs": [
    {
     "name": "stdout",
     "output_type": "stream",
     "text": [
      "Sat Sep 28 13:44:14 2019\n",
      "b'{\"id\":\"120017582730394\",\"name\":\"Lachmann Cruises\",\"posts\":{\"data\":[{\"id\":\"120017582730394_120025842729568\"},{\"comments\":{\"data\":'\n",
      "b'[{\"created_time\":\"2019-09-28T10:27:13+0000\",\"from\":{\"name\":\"Lachmann Cruises\",\"id\":\"120017582730394\"},\"message\":\"Super Kreuzfahr'\n",
      "b't!\",\"id\":\"120019479396871_120029062729246\"},{\"created_time\":\"2019-09-28T10:17:21+0000\",\"from\":{\"name\":\"Lachmann Cruises\",\"id\":\"1'\n",
      "b'20017582730394\"},\"message\":\"Positiver Kommentar\",\"id\":\"120019479396871_120019766063509\"},{\"created_time\":\"2019-09-28T10:17:26+00'\n",
      "b'00\",\"from\":{\"name\":\"Lachmann Cruises\",\"id\":\"120017582730394\"},\"message\":\"Negativer Kommentar\",\"id\":\"120019479396871_120019822730'\n",
      "b'170\"},{\"created_time\":\"2019-09-28T10:28:32+0000\",\"from\":{\"name\":\"Burghard Lachmann\",\"id\":\"2495727930493423\"},\"message\":\"Positive'\n",
      "b'r Kommentar von Burghard :)\",\"id\":\"120019479396871_120031472729005\"}],\"paging\":{\"cursors\":{\"before\":\"NAZDZD\",\"after\":\"MQZDZD\"}}}'\n",
      "b',\"id\":\"120017582730394_120019479396871\"}],\"paging\":{\"cursors\":{\"before\":\"Q2c4U1pXNTBYM0YxWlhKNVgzTjBiM0o1WDJsa0R5TXhNakF3TVRjMU9'\n",
      "b'ESTNNekF6T1RRNk5UUTNNemd5TnpJME5ERXhNREUxTVRVMU5ROE1ZAWEJwWDNOMGIzSjVYMmxrRHg4eE1qQXdNVGMxT0RJM016QXpPVFJmTVRJd01ESTFPRFF5TnpJNU'\n",
      "b'5UWTREd1IwYVcxbEJsMlBOTW9C\",\"after\":\"Q2c4U1pXNTBYM0YxWlhKNVgzTjBiM0o1WDJsa0R5TXhNakF3TVRjMU9ESTNNekF6T1RRNk1UUTNPREU0TnpJNE56UXh'\n",
      "b'OalExTXpjME13OE1ZAWEJwWDNOMGIzSjVYMmxrRHg4eE1qQXdNVGMxT0RJM016QXpPVFJmTVRJd01ERTVORGM1TXprMk9EY3hEd1IwYVcxbEJsMlBNeDBC\"}}}}'\n",
      "Sat Sep 28 13:44:24 2019\n",
      "b'{\"id\":\"120017582730394\",\"name\":\"Lachmann Cruises\",\"posts\":{\"data\":[{\"id\":\"120017582730394_120025842729568\"},{\"comments\":{\"data\":'\n",
      "b'[{\"created_time\":\"2019-09-28T10:27:13+0000\",\"from\":{\"name\":\"Lachmann Cruises\",\"id\":\"120017582730394\"},\"message\":\"Super Kreuzfahr'\n",
      "b't!\",\"id\":\"120019479396871_120029062729246\"},{\"created_time\":\"2019-09-28T10:17:21+0000\",\"from\":{\"name\":\"Lachmann Cruises\",\"id\":\"1'\n",
      "b'20017582730394\"},\"message\":\"Positiver Kommentar\",\"id\":\"120019479396871_120019766063509\"},{\"created_time\":\"2019-09-28T10:17:26+00'\n",
      "b'00\",\"from\":{\"name\":\"Lachmann Cruises\",\"id\":\"120017582730394\"},\"message\":\"Negativer Kommentar\",\"id\":\"120019479396871_120019822730'\n",
      "b'170\"},{\"created_time\":\"2019-09-28T10:28:32+0000\",\"from\":{\"name\":\"Burghard Lachmann\",\"id\":\"2495727930493423\"},\"message\":\"Positive'\n",
      "b'r Kommentar von Burghard :)\",\"id\":\"120019479396871_120031472729005\"}],\"paging\":{\"cursors\":{\"before\":\"NAZDZD\",\"after\":\"MQZDZD\"}}}'\n",
      "b',\"id\":\"120017582730394_120019479396871\"}],\"paging\":{\"cursors\":{\"before\":\"Q2c4U1pXNTBYM0YxWlhKNVgzTjBiM0o1WDJsa0R5TXhNakF3TVRjMU9'\n",
      "b'ESTNNekF6T1RRNk5UUTNNemd5TnpJME5ERXhNREUxTVRVMU5ROE1ZAWEJwWDNOMGIzSjVYMmxrRHg4eE1qQXdNVGMxT0RJM016QXpPVFJmTVRJd01ESTFPRFF5TnpJNU'\n",
      "b'5UWTREd1IwYVcxbEJsMlBOTW9C\",\"after\":\"Q2c4U1pXNTBYM0YxWlhKNVgzTjBiM0o1WDJsa0R5TXhNakF3TVRjMU9ESTNNekF6T1RRNk1UUTNPREU0TnpJNE56UXh'\n",
      "b'OalExTXpjME13OE1ZAWEJwWDNOMGIzSjVYMmxrRHg4eE1qQXdNVGMxT0RJM016QXpPVFJmTVRJd01ERTVORGM1TXprMk9EY3hEd1IwYVcxbEJsMlBNeDBC\"}}}}'\n",
      "Sat Sep 28 13:44:34 2019\n",
      "b'{\"id\":\"120017582730394\",\"name\":\"Lachmann Cruises\",\"posts\":{\"data\":[{\"id\":\"120017582730394_120025842729568\"},{\"comments\":{\"data\":'\n",
      "b'[{\"created_time\":\"2019-09-28T10:27:13+0000\",\"from\":{\"name\":\"Lachmann Cruises\",\"id\":\"120017582730394\"},\"message\":\"Super Kreuzfahr'\n",
      "b't!\",\"id\":\"120019479396871_120029062729246\"},{\"created_time\":\"2019-09-28T10:17:21+0000\",\"from\":{\"name\":\"Lachmann Cruises\",\"id\":\"1'\n",
      "b'20017582730394\"},\"message\":\"Positiver Kommentar\",\"id\":\"120019479396871_120019766063509\"},{\"created_time\":\"2019-09-28T10:17:26+00'\n",
      "b'00\",\"from\":{\"name\":\"Lachmann Cruises\",\"id\":\"120017582730394\"},\"message\":\"Negativer Kommentar\",\"id\":\"120019479396871_120019822730'\n",
      "b'170\"},{\"created_time\":\"2019-09-28T10:28:32+0000\",\"from\":{\"name\":\"Burghard Lachmann\",\"id\":\"2495727930493423\"},\"message\":\"Positive'\n",
      "b'r Kommentar von Burghard :)\",\"id\":\"120019479396871_120031472729005\"}],\"paging\":{\"cursors\":{\"before\":\"NAZDZD\",\"after\":\"MQZDZD\"}}}'\n",
      "b',\"id\":\"120017582730394_120019479396871\"}],\"paging\":{\"cursors\":{\"before\":\"Q2c4U1pXNTBYM0YxWlhKNVgzTjBiM0o1WDJsa0R5TXhNakF3TVRjMU9'\n",
      "b'ESTNNekF6T1RRNk5UUTNNemd5TnpJME5ERXhNREUxTVRVMU5ROE1ZAWEJwWDNOMGIzSjVYMmxrRHg4eE1qQXdNVGMxT0RJM016QXpPVFJmTVRJd01ESTFPRFF5TnpJNU'\n",
      "b'5UWTREd1IwYVcxbEJsMlBOTW9C\",\"after\":\"Q2c4U1pXNTBYM0YxWlhKNVgzTjBiM0o1WDJsa0R5TXhNakF3TVRjMU9ESTNNekF6T1RRNk1UUTNPREU0TnpJNE56UXh'\n",
      "b'OalExTXpjME13OE1ZAWEJwWDNOMGIzSjVYMmxrRHg4eE1qQXdNVGMxT0RJM016QXpPVFJmTVRJd01ERTVORGM1TXprMk9EY3hEd1IwYVcxbEJsMlBNeDBC\"}}}}'\n",
      "Sat Sep 28 13:44:44 2019\n",
      "b'{\"id\":\"120017582730394\",\"name\":\"Lachmann Cruises\",\"posts\":{\"data\":[{\"id\":\"120017582730394_120025842729568\"},{\"comments\":{\"data\":'\n",
      "b'[{\"created_time\":\"2019-09-28T10:27:13+0000\",\"from\":{\"name\":\"Lachmann Cruises\",\"id\":\"120017582730394\"},\"message\":\"Super Kreuzfahr'\n",
      "b't!\",\"id\":\"120019479396871_120029062729246\"},{\"created_time\":\"2019-09-28T10:17:21+0000\",\"from\":{\"name\":\"Lachmann Cruises\",\"id\":\"1'\n",
      "b'20017582730394\"},\"message\":\"Positiver Kommentar\",\"id\":\"120019479396871_120019766063509\"},{\"created_time\":\"2019-09-28T10:17:26+00'\n",
      "b'00\",\"from\":{\"name\":\"Lachmann Cruises\",\"id\":\"120017582730394\"},\"message\":\"Negativer Kommentar\",\"id\":\"120019479396871_120019822730'\n",
      "b'170\"},{\"created_time\":\"2019-09-28T10:28:32+0000\",\"from\":{\"name\":\"Burghard Lachmann\",\"id\":\"2495727930493423\"},\"message\":\"Positive'\n",
      "b'r Kommentar von Burghard :)\",\"id\":\"120019479396871_120031472729005\"}],\"paging\":{\"cursors\":{\"before\":\"NAZDZD\",\"after\":\"MQZDZD\"}}}'\n",
      "b',\"id\":\"120017582730394_120019479396871\"}],\"paging\":{\"cursors\":{\"before\":\"Q2c4U1pXNTBYM0YxWlhKNVgzTjBiM0o1WDJsa0R5TXhNakF3TVRjMU9'\n",
      "b'ESTNNekF6T1RRNk5UUTNNemd5TnpJME5ERXhNREUxTVRVMU5ROE1ZAWEJwWDNOMGIzSjVYMmxrRHg4eE1qQXdNVGMxT0RJM016QXpPVFJmTVRJd01ESTFPRFF5TnpJNU'\n",
      "b'5UWTREd1IwYVcxbEJsMlBOTW9C\",\"after\":\"Q2c4U1pXNTBYM0YxWlhKNVgzTjBiM0o1WDJsa0R5TXhNakF3TVRjMU9ESTNNekF6T1RRNk1UUTNPREU0TnpJNE56UXh'\n",
      "b'OalExTXpjME13OE1ZAWEJwWDNOMGIzSjVYMmxrRHg4eE1qQXdNVGMxT0RJM016QXpPVFJmTVRJd01ERTVORGM1TXprMk9EY3hEd1IwYVcxbEJsMlBNeDBC\"}}}}'\n"
     ]
    }
   ],
   "source": [
    "# import libraries\n",
    "import requests\n",
    "import time, threading\n",
    "\n",
    "# api-endpoint\n",
    "burghard_api_url = \"https://graph.facebook.com/v4.0/me?fields=id%2Cname%2Cposts%7Bcomments%2Clikes%2Creactions%7Bname%2Ctype%2Cid%7D%7D%2Cfeed&access_token=EAAlcIv35CUUBACAL7BAOaT1Fm4mn84wsn0yqOr2UU9R5FG59beXoymQAdA47G4jQqtcW9iZBhCrwlW0VxOQNEUTNgWK4ZBM6vjTA9BthBw7jwM55RKKVgYRt0V4tFcQZAthLHPMZBAZBZBnoHRpD3PXeZBZBilgnaxHJuHoMg7E4dpYdhZAbioeaA33hviyR6DZAj6ZBWh3896phZAo8ft9yV26Y\"\n",
    "\n",
    "lachmann_cruises_api_url = \"https://graph.facebook.com/v4.0/me?fields=id%2Cname%2Cposts%7Bcomments%2Csharedposts%7D&access_token=EAAlcIv35CUUBAJAbSZAZAB1HUEfir4RTWIJYdz4nKfn7FAfDJf2bb7fy5g4y1oEHZCrYLcvaXuUoev3VwyARULxxFCaZBzgqkANu2OVrI8XCw8lBB5vNzBC9I1hr7XmD15lmcCiWbwFJ4YlZBQvRpOXnvbzUHq7gpvGgD6Mv2vYRbQWR4i8JdPPPPATOFDfpOV5Vt95tYfspZCS8V9CbGz\" \n",
    "# sending get request and saving the response as response object\n",
    "\n",
    "WAIT_SECONDS = 900\n",
    "\n",
    "def api_request():\n",
    "    print(time.ctime())\n",
    "    threading.Timer(WAIT_SECONDS, api_request).start()\n",
    "    r = requests.get(url=lachmann_cruises_api_url)\n",
    "    for el in r:\n",
    "        print(el)\n",
    "    \n",
    "api_request()\n"
   ]
  },
  {
   "cell_type": "code",
   "execution_count": null,
   "metadata": {},
   "outputs": [],
   "source": []
  },
  {
   "cell_type": "code",
   "execution_count": null,
   "metadata": {},
   "outputs": [],
   "source": []
  },
  {
   "cell_type": "code",
   "execution_count": null,
   "metadata": {},
   "outputs": [],
   "source": []
  },
  {
   "cell_type": "markdown",
   "metadata": {},
   "source": [
    "## Send email to Burghard Lachmann \n",
    "### condition: negative comments >= 40% / innerhalb von 5 Minuten 10 negative Kommentare"
   ]
  },
  {
   "cell_type": "code",
   "execution_count": null,
   "metadata": {
    "scrolled": true
   },
   "outputs": [],
   "source": [
    "import smtplib, ssl\n",
    "\n",
    "port = 587  # For starttls\n",
    "smtp_server = \"smtp.gmail.com\"\n",
    "sender_email = \"jackyaudrey2015@gmail.com\"\n",
    "receiver_email = \"burghard.lachmann@gmail.com\"\n",
    "password = 'Brunhilde'\n",
    "message = \"\"\"\\\n",
    "Subject: Hi there\n",
    "\n",
    "This message is sent from Python.\"\"\"\n",
    "\n",
    "context = ssl.create_default_context()\n",
    "with smtplib.SMTP(smtp_server, port) as server:\n",
    "   # server.ehlo()  # Can be omitted\n",
    "    server.starttls(context=context)\n",
    "    #server.ehlo()  # Can be omitted\n",
    "    server.login(sender_email, password)\n",
    "    server.sendmail(sender_email, receiver_email, message)"
   ]
  },
  {
   "cell_type": "code",
   "execution_count": null,
   "metadata": {},
   "outputs": [],
   "source": []
  }
 ],
 "metadata": {
  "kernelspec": {
   "display_name": "Python 3",
   "language": "python",
   "name": "python3"
  },
  "language_info": {
   "codemirror_mode": {
    "name": "ipython",
    "version": 3
   },
   "file_extension": ".py",
   "mimetype": "text/x-python",
   "name": "python",
   "nbconvert_exporter": "python",
   "pygments_lexer": "ipython3",
   "version": "3.7.1"
  }
 },
 "nbformat": 4,
 "nbformat_minor": 2
}
