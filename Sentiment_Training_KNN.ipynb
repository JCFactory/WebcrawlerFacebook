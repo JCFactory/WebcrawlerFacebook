{
 "cells": [
  {
   "cell_type": "code",
   "execution_count": 3,
   "metadata": {},
   "outputs": [
    {
     "name": "stderr",
     "output_type": "stream",
     "text": [
      "/anaconda3/lib/python3.7/site-packages/tensorflow/python/framework/dtypes.py:526: FutureWarning: Passing (type, 1) or '1type' as a synonym of type is deprecated; in a future version of numpy, it will be understood as (type, (1,)) / '(1,)type'.\n",
      "  _np_qint8 = np.dtype([(\"qint8\", np.int8, 1)])\n",
      "/anaconda3/lib/python3.7/site-packages/tensorflow/python/framework/dtypes.py:527: FutureWarning: Passing (type, 1) or '1type' as a synonym of type is deprecated; in a future version of numpy, it will be understood as (type, (1,)) / '(1,)type'.\n",
      "  _np_quint8 = np.dtype([(\"quint8\", np.uint8, 1)])\n",
      "/anaconda3/lib/python3.7/site-packages/tensorflow/python/framework/dtypes.py:528: FutureWarning: Passing (type, 1) or '1type' as a synonym of type is deprecated; in a future version of numpy, it will be understood as (type, (1,)) / '(1,)type'.\n",
      "  _np_qint16 = np.dtype([(\"qint16\", np.int16, 1)])\n",
      "/anaconda3/lib/python3.7/site-packages/tensorflow/python/framework/dtypes.py:529: FutureWarning: Passing (type, 1) or '1type' as a synonym of type is deprecated; in a future version of numpy, it will be understood as (type, (1,)) / '(1,)type'.\n",
      "  _np_quint16 = np.dtype([(\"quint16\", np.uint16, 1)])\n",
      "/anaconda3/lib/python3.7/site-packages/tensorflow/python/framework/dtypes.py:530: FutureWarning: Passing (type, 1) or '1type' as a synonym of type is deprecated; in a future version of numpy, it will be understood as (type, (1,)) / '(1,)type'.\n",
      "  _np_qint32 = np.dtype([(\"qint32\", np.int32, 1)])\n",
      "/anaconda3/lib/python3.7/site-packages/tensorflow/python/framework/dtypes.py:535: FutureWarning: Passing (type, 1) or '1type' as a synonym of type is deprecated; in a future version of numpy, it will be understood as (type, (1,)) / '(1,)type'.\n",
      "  np_resource = np.dtype([(\"resource\", np.ubyte, 1)])\n",
      "Using TensorFlow backend.\n"
     ]
    },
    {
     "name": "stdout",
     "output_type": "stream",
     "text": [
      "   User_ID  \\\n",
      "0  id10326   \n",
      "1  id10327   \n",
      "2  id10328   \n",
      "\n",
      "                                                                                           Description  \\\n",
      "0  The room was kind of clean but had a VERY strong smell of dogs. Generally below average but ok f...   \n",
      "1  I stayed at the Crown Plaza April -- - April --, ----. The staff was friendly and attentive. The...   \n",
      "2  I booked this hotel through Hotwire at the lowest price I could find. When we got there the fron...   \n",
      "\n",
      "        Browser_Used Device_Used Is_Response  \n",
      "0               Edge      Mobile   not happy  \n",
      "1  Internet Explorer      Mobile   not happy  \n",
      "2            Mozilla      Tablet   not happy  \n"
     ]
    }
   ],
   "source": [
    "# Build neural network\n",
    "\n",
    "# read training data\n",
    "import tensorflow as tf\n",
    "import pandas as pd\n",
    "import numpy as np\n",
    "import re\n",
    "import nltk\n",
    "from nltk.corpus import stopwords\n",
    "\n",
    "from numpy import array\n",
    "from keras.preprocessing.text import one_hot\n",
    "from keras.preprocessing.sequence import pad_sequences\n",
    "from keras.models import Sequential\n",
    "from keras.layers.core import Activation, Dropout, Dense\n",
    "from keras.layers import Flatten\n",
    "from keras.layers import GlobalMaxPooling1D\n",
    "from keras.layers.embeddings import Embedding\n",
    "from sklearn.model_selection import train_test_split\n",
    "from keras.preprocessing.text import Tokenizer\n",
    "\n",
    "#df = pd.Dataframe()\n",
    "df_train = pd.read_csv('./measuring-customer-happiness/train_hp.csv', encoding='utf-8')\n",
    "print(df_train.head(3))\n",
    "\n",
    "#df_test = pd.read_csv('./measuring-customer-happiness/test_hp.csv', encoding='utf-8')\n",
    "#print(df_test.head(3))"
   ]
  },
  {
   "cell_type": "code",
   "execution_count": 4,
   "metadata": {},
   "outputs": [
    {
     "name": "stdout",
     "output_type": "stream",
     "text": [
      "                                                                                           Description  \\\n",
      "0  The room was kind of clean but had a VERY strong smell of dogs. Generally below average but ok f...   \n",
      "1  I stayed at the Crown Plaza April -- - April --, ----. The staff was friendly and attentive. The...   \n",
      "2  I booked this hotel through Hotwire at the lowest price I could find. When we got there the fron...   \n",
      "3  Stayed here with husband and sons on the way to an Alaska Cruise. We all loved the hotel, great ...   \n",
      "4  My girlfriends and I stayed here to celebrate our --th birthdays. We had planned this weekend ge...   \n",
      "\n",
      "  Is_Response  \n",
      "0   not happy  \n",
      "1   not happy  \n",
      "2   not happy  \n",
      "3       happy  \n",
      "4   not happy  \n"
     ]
    }
   ],
   "source": [
    "df_train = df_train[['Description', 'Is_Response']]\n",
    "print(df_train.head())"
   ]
  },
  {
   "cell_type": "code",
   "execution_count": 5,
   "metadata": {},
   "outputs": [
    {
     "name": "stdout",
     "output_type": "stream",
     "text": [
      "                                                                                               Description  \\\n",
      "3      Stayed here with husband and sons on the way to an Alaska Cruise. We all loved the hotel, great ...   \n",
      "5      We had - rooms. One was very nice and clearly had been updated more recently than the other. The...   \n",
      "7      My wife & I stayed in this glorious city a while back. SF is expensive, but we found this little...   \n",
      "8      My boyfriend and I stayed at the Fairmont on a recent trip to San Francisco. I could not recomme...   \n",
      "10                           Steps off Times Square, nice rooms, stayed - nights, great for a short visit.   \n",
      "11     Me, the Wife and - kids stayed here on Valentine's weekend ----. Really a nice hotel in a great ...   \n",
      "13     I highly recommend the Hawthorne Terrace as an affordable, comfortable spot in Chicago. The staf...   \n",
      "14     I found the hotel clean and nicely located. Good, free shuttle to the airport leaves twice per h...   \n",
      "15     Stayed at the Elan from --th to --th October and, as we liked it so much, returned there after o...   \n",
      "18     We stayed here for - nights and were really happy with it. It is located about --mins walk from ...   \n",
      "21     This is everything you could want from a hotel - convenient location a short walk from everythin...   \n",
      "23     I really liked this hotel. The staff were wonderful and quite helpful in providing advice about ...   \n",
      "24     My wife and spent - days there this month as a New York getaway vacation Christmas present to ea...   \n",
      "26     Took a girls trip to LA and had no idea where to stay. After research we settled on Elan. I'm so...   \n",
      "27     Stayed with my girlfriend for a long weekend. \\nThey gave us a nice comp upgrade at check-in...t...   \n",
      "28     I have stayed here numerous times and never been disappointed. The staff is helpful but not over...   \n",
      "31     I really liked this hotel alot. \\nStaff was extemely friendly and helpful. Rooms and common area...   \n",
      "32     We could easily have stayed here for longer on our trip through California. It's a delightful In...   \n",
      "33     I booked three nights at the Inn at El Gaucho based on the reviews from tripadvisor.com. When my...   \n",
      "34     Looking for a tranquil retreat in Denver that is close to great restaurants, shopping, the Botan...   \n",
      "35     Booked - rooms, at check-in they upgraded all of us--- rooms to suites. The front desk staff AJ,...   \n",
      "37     I'm not a fan of hotels so hate business travel but this hotel was a real pleasure. Fantastic po...   \n",
      "40     Okay the hotel-motel may not be a - star appearance and the rooms are well they are rooms.. but ...   \n",
      "41     We are starwood preffered guest members and got a rate of --- for a saturday night so we jumped ...   \n",
      "42     I was in town for a conference at McCormick Place and stayed at the Wyndham Blake for two nights...   \n",
      "43     We stayed at the hotel just two weeks ago and I'm still so impressed. \\nFrom the moment we walke...   \n",
      "44     Comfortable rooms,a little glitzy for my taste which tend to be reasonably priced. Thats because...   \n",
      "45     Got a awesome rate here - $-- a night for a Radisson in NYC. Good location - about - blocks from...   \n",
      "47     We spent - nights at the Sofitel Washington from Friday -------- to Tuesday --------. The check ...   \n",
      "48     The lobby and rooms are clean, chic and lovely, and we found an attentive staff who promptly del...   \n",
      "...                                                                                                    ...   \n",
      "38883  I stayed here two nights on business in a standard room with a king bed. The hotel is less than ...   \n",
      "38884  Location superb and rooms (almost uniquely in New York) are properly soundproofed. Cheerful serv...   \n",
      "38885  We stayed - nights over Memorial weekend. SF was hopping! Ours was a mother-daughter trip, with ...   \n",
      "38887  We had three nights in the Embassy Suites at the start of our holiday and a final night before w...   \n",
      "38888  The hotel was nice but the service I received at the front desk was the bestbi have seen. I trav...   \n",
      "38891  We had a wonderful overnight stay here--beautiful room, lovely public areas, and above all, a gr...   \n",
      "38892  I travel to NYC every summer from Oregon as I am a fan of the Yankees and Broadway musicals. Hav...   \n",
      "38893  I stayed here for about a month for work and it was such a wonderful experience. The staff is si...   \n",
      "38894  Stayed at the Econo Lodge for - nights whilst visiting New York.\\nNever been to New York before,...   \n",
      "38897  Gearing up for my first trip to Chicago, I consulted TripAdvisor and looked at the postings for ...   \n",
      "38900  If you are in downtown San Jose for a conference and have to stay over, you'll notice that almos...   \n",
      "38902  After having stayed at the Waldorf many times, I think what you get is going to be potluck as fa...   \n",
      "38903  This hotel is a great choice for those staying in Manhattan. I booked it as a package deal and i...   \n",
      "38904  Although New York is a large city, whenever I go I must see at least one show. Because of this a...   \n",
      "38906  I've stayed at the Hilton, Hyatt, Magnolia and Club Quarters in Houston. I would rank this as #-...   \n",
      "38907  Great Location,short walk from Amtrak station, Link or to a game. Price perfect for downtown Sea...   \n",
      "38908  When we booked this was a Renaissance Hotel but it had changed hands by the time we arrived on -...   \n",
      "38910  I have to admit I tried rebooking since I was afraid of the bad reviews on the website. Upon wal...   \n",
      "38911  Room was nice, everything seemed pretty new. Room felt clean and fresh. Nice non-smoking room. D...   \n",
      "38912  then a great place to stay is this hotel. Not too big and impersonal just lovely friendly staff ...   \n",
      "38915  pretty cool hotel. stayed for a few days in mid-july & had a blast. the bar-whiskey blue rocks. ...   \n",
      "38916  We stopped over in LAX on the way to Canada and loved staying at the Sheraton Gateway. The most ...   \n",
      "38917  I love this hotel and will stay again for several reasons, despite the one gripe I have. It is c...   \n",
      "38919  I didn't get to see much of Seattle but the hotel is in a good location (near the market and rig...   \n",
      "38920  My husband and I stayed one night at the Heartbreak Hotel and we loved it. The Jungle Room bar i...   \n",
      "38921  We staed at the Handlery Hotel to Visit San Diego before going on a cruise to Vancouver. A good ...   \n",
      "38924  We booked a room with two single beds. Upon arrival, we upgrade for a two doble beds room. It wa...   \n",
      "38925  Arrived via taxi from La Guardia - driving into --th from -th saw \\nscaffolding on left which ob...   \n",
      "38927  We arrived late at night and walked in to a check-in area that had been completely flooded. Ther...   \n",
      "38931  The Westin is a wonderfully restored grande dame hotel. The beds and linens are excellent. Have ...   \n",
      "\n",
      "      Is_Response  \n",
      "3           happy  \n",
      "5           happy  \n",
      "7           happy  \n",
      "8           happy  \n",
      "10          happy  \n",
      "11          happy  \n",
      "13          happy  \n",
      "14          happy  \n",
      "15          happy  \n",
      "18          happy  \n",
      "21          happy  \n",
      "23          happy  \n",
      "24          happy  \n",
      "26          happy  \n",
      "27          happy  \n",
      "28          happy  \n",
      "31          happy  \n",
      "32          happy  \n",
      "33          happy  \n",
      "34          happy  \n",
      "35          happy  \n",
      "37          happy  \n",
      "40          happy  \n",
      "41          happy  \n",
      "42          happy  \n",
      "43          happy  \n",
      "44          happy  \n",
      "45          happy  \n",
      "47          happy  \n",
      "48          happy  \n",
      "...           ...  \n",
      "38883       happy  \n",
      "38884       happy  \n",
      "38885       happy  \n",
      "38887       happy  \n",
      "38888       happy  \n",
      "38891       happy  \n",
      "38892       happy  \n",
      "38893       happy  \n",
      "38894       happy  \n",
      "38897       happy  \n",
      "38900       happy  \n",
      "38902       happy  \n",
      "38903       happy  \n",
      "38904       happy  \n",
      "38906       happy  \n",
      "38907       happy  \n",
      "38908       happy  \n",
      "38910       happy  \n",
      "38911       happy  \n",
      "38912       happy  \n",
      "38915       happy  \n",
      "38916       happy  \n",
      "38917       happy  \n",
      "38919       happy  \n",
      "38920       happy  \n",
      "38921       happy  \n",
      "38924       happy  \n",
      "38925       happy  \n",
      "38927       happy  \n",
      "38931       happy  \n",
      "\n",
      "[26521 rows x 2 columns]\n"
     ]
    }
   ],
   "source": [
    "# select only rows with happy values and reduce happy values to same amount as not happy values\n",
    "df_happy = df_train.loc[df_train['Is_Response'] == 'happy']\n",
    "df_not_happy = df_train.loc[df_train['Is_Response'] == 'not happy']\n",
    "print(df_happy)"
   ]
  },
  {
   "cell_type": "code",
   "execution_count": 6,
   "metadata": {},
   "outputs": [
    {
     "name": "stdout",
     "output_type": "stream",
     "text": [
      "                                                                                               Description  \\\n",
      "3      Stayed here with husband and sons on the way to an Alaska Cruise. We all loved the hotel, great ...   \n",
      "5      We had - rooms. One was very nice and clearly had been updated more recently than the other. The...   \n",
      "7      My wife & I stayed in this glorious city a while back. SF is expensive, but we found this little...   \n",
      "8      My boyfriend and I stayed at the Fairmont on a recent trip to San Francisco. I could not recomme...   \n",
      "10                           Steps off Times Square, nice rooms, stayed - nights, great for a short visit.   \n",
      "11     Me, the Wife and - kids stayed here on Valentine's weekend ----. Really a nice hotel in a great ...   \n",
      "13     I highly recommend the Hawthorne Terrace as an affordable, comfortable spot in Chicago. The staf...   \n",
      "14     I found the hotel clean and nicely located. Good, free shuttle to the airport leaves twice per h...   \n",
      "15     Stayed at the Elan from --th to --th October and, as we liked it so much, returned there after o...   \n",
      "18     We stayed here for - nights and were really happy with it. It is located about --mins walk from ...   \n",
      "21     This is everything you could want from a hotel - convenient location a short walk from everythin...   \n",
      "23     I really liked this hotel. The staff were wonderful and quite helpful in providing advice about ...   \n",
      "24     My wife and spent - days there this month as a New York getaway vacation Christmas present to ea...   \n",
      "26     Took a girls trip to LA and had no idea where to stay. After research we settled on Elan. I'm so...   \n",
      "27     Stayed with my girlfriend for a long weekend. \\nThey gave us a nice comp upgrade at check-in...t...   \n",
      "28     I have stayed here numerous times and never been disappointed. The staff is helpful but not over...   \n",
      "31     I really liked this hotel alot. \\nStaff was extemely friendly and helpful. Rooms and common area...   \n",
      "32     We could easily have stayed here for longer on our trip through California. It's a delightful In...   \n",
      "33     I booked three nights at the Inn at El Gaucho based on the reviews from tripadvisor.com. When my...   \n",
      "34     Looking for a tranquil retreat in Denver that is close to great restaurants, shopping, the Botan...   \n",
      "35     Booked - rooms, at check-in they upgraded all of us--- rooms to suites. The front desk staff AJ,...   \n",
      "37     I'm not a fan of hotels so hate business travel but this hotel was a real pleasure. Fantastic po...   \n",
      "40     Okay the hotel-motel may not be a - star appearance and the rooms are well they are rooms.. but ...   \n",
      "41     We are starwood preffered guest members and got a rate of --- for a saturday night so we jumped ...   \n",
      "42     I was in town for a conference at McCormick Place and stayed at the Wyndham Blake for two nights...   \n",
      "43     We stayed at the hotel just two weeks ago and I'm still so impressed. \\nFrom the moment we walke...   \n",
      "44     Comfortable rooms,a little glitzy for my taste which tend to be reasonably priced. Thats because...   \n",
      "45     Got a awesome rate here - $-- a night for a Radisson in NYC. Good location - about - blocks from...   \n",
      "47     We spent - nights at the Sofitel Washington from Friday -------- to Tuesday --------. The check ...   \n",
      "48     The lobby and rooms are clean, chic and lovely, and we found an attentive staff who promptly del...   \n",
      "...                                                                                                    ...   \n",
      "18176  This hotel has all the bells and whistles. Rooms are beautifully appointed, and are equipped wit...   \n",
      "18179  Beautiful place and convenient to so many things. On the water. Can see Navy Pier and easily wal...   \n",
      "18180  RECOMMENDED. NYC is known for noise, small and strangely shaped hotel rooms and sometimes poor c...   \n",
      "18181  I stayed here a week for business. The hotel has it's swimming pool in the center of the complex...   \n",
      "18182  Nice wooded hotel setting (except the association with the Mayo Clinic is a little creepy).\\nPos...   \n",
      "18183  Stayed here while attending --th grammy awards, great location and close to every place i had to...   \n",
      "18184  We stayed here for a week for the Rock n Roll marathon. Location is wonderful and we had several...   \n",
      "18185  For a NYC hotel room, it was enormous. Wonderful bedding. Nice big bathroom, fabulous bathroom a...   \n",
      "18186  First off, the booking. We used Virtuoso and got a fantastic rate. $----night, $-- Spa Gift Card...   \n",
      "18188  We stayed here for one night before our flight back home. the staff were terrific, we wanted to ...   \n",
      "18189  We visited the Wellington Hotel in November -- as part of a leisurely shopping break. The hotel ...   \n",
      "18190  Wonderful hotel in a very convenient location. Short walk to monorail and Pike Market. We stayed...   \n",
      "18191  The location of this motel is excellent. It is on a street one block south of Lombard street. An...   \n",
      "18192  The hotel staff is awesome! Very friendly and will go out of their way to make your stay comfort...   \n",
      "18193  Stayed here for two nights with my sixteen year old daughter and husband while making a college ...   \n",
      "18195  I stayed for - nights at this cozy boutique-style hotel during my conference in May. I arrived v...   \n",
      "18197  The Affinia Dumont is certainly all the reviews make out. We picked it after many hours of seach...   \n",
      "18198  The Mark Hopkins was exceptional. Everything is \"\"\"\"\"\"\"\"\"\"\"\"\"\"\"\"\"\"\"\"\"\"\"\"\"\"\"\"\"\"\"\"top of the Mark!...   \n",
      "18200  I recently spent three nights at the Marriott Marina San Diego with my bf. for my birthday. It w...   \n",
      "18201  The location was great, walking distance to the mall - even with my - and - year old daughters. ...   \n",
      "18202  This is a great location near the Inner Harbor - very convenient. I've lived near Baltimore almo...   \n",
      "18203  Clean rooms, comfortable beds and pillows, friendly and helpful staff, excellent location, beaut...   \n",
      "18204  I have actually yet to stay at this hotel. Why right the review in that case? I have spent the l...   \n",
      "18206  After a long flight to New York, we arrived to the hotel at --:-- a.m. Check-in time was not unt...   \n",
      "18207  Better than average breakfast so get the bed & breakfast package if you can. Free wifi in the ro...   \n",
      "18208  Staff here very cooperative and responded to our request for a quiet room. There are conventions...   \n",
      "18209  We stayed at the Old Town Inn for three nights. It is a charming little hotel with a good centra...   \n",
      "18211  My family of my husband, a - year old and - children --, --, and --, stayed at this hotel for th...   \n",
      "18212  Hyatt Place is my preferred hotel when I travel on business. The quality can vary a bit, but is ...   \n",
      "18213  On the downside, the shower was really uncomfortable, the room was slightly cramped, there were ...   \n",
      "\n",
      "      Is_Response  \n",
      "3           happy  \n",
      "5           happy  \n",
      "7           happy  \n",
      "8           happy  \n",
      "10          happy  \n",
      "11          happy  \n",
      "13          happy  \n",
      "14          happy  \n",
      "15          happy  \n",
      "18          happy  \n",
      "21          happy  \n",
      "23          happy  \n",
      "24          happy  \n",
      "26          happy  \n",
      "27          happy  \n",
      "28          happy  \n",
      "31          happy  \n",
      "32          happy  \n",
      "33          happy  \n",
      "34          happy  \n",
      "35          happy  \n",
      "37          happy  \n",
      "40          happy  \n",
      "41          happy  \n",
      "42          happy  \n",
      "43          happy  \n",
      "44          happy  \n",
      "45          happy  \n",
      "47          happy  \n",
      "48          happy  \n",
      "...           ...  \n",
      "18176       happy  \n",
      "18179       happy  \n",
      "18180       happy  \n",
      "18181       happy  \n",
      "18182       happy  \n",
      "18183       happy  \n",
      "18184       happy  \n",
      "18185       happy  \n",
      "18186       happy  \n",
      "18188       happy  \n",
      "18189       happy  \n",
      "18190       happy  \n",
      "18191       happy  \n",
      "18192       happy  \n",
      "18193       happy  \n",
      "18195       happy  \n",
      "18197       happy  \n",
      "18198       happy  \n",
      "18200       happy  \n",
      "18201       happy  \n",
      "18202       happy  \n",
      "18203       happy  \n",
      "18204       happy  \n",
      "18206       happy  \n",
      "18207       happy  \n",
      "18208       happy  \n",
      "18209       happy  \n",
      "18211       happy  \n",
      "18212       happy  \n",
      "18213       happy  \n",
      "\n",
      "[12411 rows x 2 columns]\n"
     ]
    }
   ],
   "source": [
    "# only get the first 12411 rows of happy dataframe\n",
    "df_happy = df_happy.head(12411)\n",
    "print(df_happy)"
   ]
  },
  {
   "cell_type": "code",
   "execution_count": 7,
   "metadata": {},
   "outputs": [
    {
     "name": "stdout",
     "output_type": "stream",
     "text": [
      "                                                                                               Description  \\\n",
      "3      Stayed here with husband and sons on the way to an Alaska Cruise. We all loved the hotel, great ...   \n",
      "5      We had - rooms. One was very nice and clearly had been updated more recently than the other. The...   \n",
      "7      My wife & I stayed in this glorious city a while back. SF is expensive, but we found this little...   \n",
      "8      My boyfriend and I stayed at the Fairmont on a recent trip to San Francisco. I could not recomme...   \n",
      "10                           Steps off Times Square, nice rooms, stayed - nights, great for a short visit.   \n",
      "11     Me, the Wife and - kids stayed here on Valentine's weekend ----. Really a nice hotel in a great ...   \n",
      "13     I highly recommend the Hawthorne Terrace as an affordable, comfortable spot in Chicago. The staf...   \n",
      "14     I found the hotel clean and nicely located. Good, free shuttle to the airport leaves twice per h...   \n",
      "15     Stayed at the Elan from --th to --th October and, as we liked it so much, returned there after o...   \n",
      "18     We stayed here for - nights and were really happy with it. It is located about --mins walk from ...   \n",
      "21     This is everything you could want from a hotel - convenient location a short walk from everythin...   \n",
      "23     I really liked this hotel. The staff were wonderful and quite helpful in providing advice about ...   \n",
      "24     My wife and spent - days there this month as a New York getaway vacation Christmas present to ea...   \n",
      "26     Took a girls trip to LA and had no idea where to stay. After research we settled on Elan. I'm so...   \n",
      "27     Stayed with my girlfriend for a long weekend. \\nThey gave us a nice comp upgrade at check-in...t...   \n",
      "28     I have stayed here numerous times and never been disappointed. The staff is helpful but not over...   \n",
      "31     I really liked this hotel alot. \\nStaff was extemely friendly and helpful. Rooms and common area...   \n",
      "32     We could easily have stayed here for longer on our trip through California. It's a delightful In...   \n",
      "33     I booked three nights at the Inn at El Gaucho based on the reviews from tripadvisor.com. When my...   \n",
      "34     Looking for a tranquil retreat in Denver that is close to great restaurants, shopping, the Botan...   \n",
      "35     Booked - rooms, at check-in they upgraded all of us--- rooms to suites. The front desk staff AJ,...   \n",
      "37     I'm not a fan of hotels so hate business travel but this hotel was a real pleasure. Fantastic po...   \n",
      "40     Okay the hotel-motel may not be a - star appearance and the rooms are well they are rooms.. but ...   \n",
      "41     We are starwood preffered guest members and got a rate of --- for a saturday night so we jumped ...   \n",
      "42     I was in town for a conference at McCormick Place and stayed at the Wyndham Blake for two nights...   \n",
      "43     We stayed at the hotel just two weeks ago and I'm still so impressed. \\nFrom the moment we walke...   \n",
      "44     Comfortable rooms,a little glitzy for my taste which tend to be reasonably priced. Thats because...   \n",
      "45     Got a awesome rate here - $-- a night for a Radisson in NYC. Good location - about - blocks from...   \n",
      "47     We spent - nights at the Sofitel Washington from Friday -------- to Tuesday --------. The check ...   \n",
      "48     The lobby and rooms are clean, chic and lovely, and we found an attentive staff who promptly del...   \n",
      "...                                                                                                    ...   \n",
      "38849  Like all the other Trip A reviewers, this is the ultimate in a bad hotel. I've stayed at budget ...   \n",
      "38855  I read so many positive reviews that led me to stay at the Marquis. I brought my -- year old dau...   \n",
      "38859  I don't know when the Highland Gardens had it's last renovation but it definitely felt like a ti...   \n",
      "38866  My family which incudes - yr old twin girls decided a weekend getaway Jan -----th. We often stay...   \n",
      "38869  I got a good deal on this hotel on the Web with airfare, etc. It is in a great location, curb ap...   \n",
      "38871  The location of this hotel is amazing! We walked everywhere. Taking the Airtrain and LIRR from J...   \n",
      "38872  We arrived very early and they were able to accommodate us which is always a nice gesture. \\nRoo...   \n",
      "38875  The room was confortable and clean. The view overlooking the the river was was wonderful. The pu...   \n",
      "38878  We stayed at crowne plaza for our son's wedding in charlotte. I know it's an older hotel, but we...   \n",
      "38881  My main point would be - for the money you can get much better hotels in NYC\\nThe rooms are dark...   \n",
      "38882  As an avid (---+ nights a year) traveler, I have to say that the Grand Hyatt NYC falls way short...   \n",
      "38886  All the poor reviews were true. Very cold, not clean, inconsistent customer service. In an atmos...   \n",
      "38889  I had reservations for --------- and “STAR”the lady behind the counter was a nice lady at first....   \n",
      "38890  I had to stay here for travel because the Marriott next door was full. Next time I will sleep in...   \n",
      "38895  Check in went fast. The front desk was courteous but seemed like they would much rather be worki...   \n",
      "38896  We chose The Clift because it looked fun and unique from it's web site. It is unique in decor wi...   \n",
      "38898  Crack pipe wrapped in tissue was found. Woke up with bed bug bites. Will not give a detailed rec...   \n",
      "38899  Bugs in the room. Told the front desk and they said they would fix it; came back at the end of t...   \n",
      "38901  Booked this through hotwire at $--- a night. The staff were very friendly, though inexperienced ...   \n",
      "38905  I used to live in Austin, so when I moved away and could stay in a hotel in Austin on business, ...   \n",
      "38909  Hotel is an old style Red Roof and has not been renovated up to the new standard, but the price ...   \n",
      "38913  I will never ever stay at this Hotel again. I stayed there a few weeks ago, and I had my doubts ...   \n",
      "38914  After being on a bus for -- hours and finally arriving at the Hotel Lawerence at - am, I bawled ...   \n",
      "38918  We were excited about our stay at the Blu Aqua. A new hotel in downtown Chicago. It's architectu...   \n",
      "38922  This hotel has a great location if you want to be right at Times Square and the theaters. It was...   \n",
      "38923  I am pretty impartial to this hotel. I would definitely never tell anyone not to stay here, but ...   \n",
      "38926  I tend to post reviews only when I’ve had an exceptionally experience, either good or bad. I’m s...   \n",
      "38928  The only positive impression is location and public parking on the opposite site of the street. ...   \n",
      "38929  Traveling with friends for shopping and a show. The location is Great, but that is the best I ca...   \n",
      "38930  The experience was just ok. We paid extra for a view of the pool, but we just got a view of a pa...   \n",
      "\n",
      "      Is_Response  \n",
      "3           happy  \n",
      "5           happy  \n",
      "7           happy  \n",
      "8           happy  \n",
      "10          happy  \n",
      "11          happy  \n",
      "13          happy  \n",
      "14          happy  \n",
      "15          happy  \n",
      "18          happy  \n",
      "21          happy  \n",
      "23          happy  \n",
      "24          happy  \n",
      "26          happy  \n",
      "27          happy  \n",
      "28          happy  \n",
      "31          happy  \n",
      "32          happy  \n",
      "33          happy  \n",
      "34          happy  \n",
      "35          happy  \n",
      "37          happy  \n",
      "40          happy  \n",
      "41          happy  \n",
      "42          happy  \n",
      "43          happy  \n",
      "44          happy  \n",
      "45          happy  \n",
      "47          happy  \n",
      "48          happy  \n",
      "...           ...  \n",
      "38849   not happy  \n",
      "38855   not happy  \n",
      "38859   not happy  \n",
      "38866   not happy  \n",
      "38869   not happy  \n",
      "38871   not happy  \n",
      "38872   not happy  \n",
      "38875   not happy  \n",
      "38878   not happy  \n",
      "38881   not happy  \n",
      "38882   not happy  \n",
      "38886   not happy  \n",
      "38889   not happy  \n",
      "38890   not happy  \n",
      "38895   not happy  \n",
      "38896   not happy  \n",
      "38898   not happy  \n",
      "38899   not happy  \n",
      "38901   not happy  \n",
      "38905   not happy  \n",
      "38909   not happy  \n",
      "38913   not happy  \n",
      "38914   not happy  \n",
      "38918   not happy  \n",
      "38922   not happy  \n",
      "38923   not happy  \n",
      "38926   not happy  \n",
      "38928   not happy  \n",
      "38929   not happy  \n",
      "38930   not happy  \n",
      "\n",
      "[24822 rows x 2 columns]\n"
     ]
    }
   ],
   "source": [
    "frames = [df_happy, df_not_happy]\n",
    "df_train = pd.concat(frames)\n",
    "print(df_train)"
   ]
  },
  {
   "cell_type": "code",
   "execution_count": 8,
   "metadata": {},
   "outputs": [
    {
     "data": {
      "text/plain": [
       "<matplotlib.axes._subplots.AxesSubplot at 0x11b532828>"
      ]
     },
     "execution_count": 8,
     "metadata": {},
     "output_type": "execute_result"
    }
   ],
   "source": [
    "import seaborn as sns\n",
    "\n",
    "sns.countplot(x='Is_Response', data=df_train)"
   ]
  },
  {
   "cell_type": "code",
   "execution_count": 9,
   "metadata": {},
   "outputs": [],
   "source": [
    "# Data Preprocessing\n",
    "\n",
    "def preprocess_text(sen):\n",
    "    # Removing html tags\n",
    "    sentence = remove_tags(sen)\n",
    "\n",
    "    # Remove punctuations and numbers\n",
    "    sentence = re.sub('[^a-zA-Z]', ' ', sentence)\n",
    "\n",
    "    # Single character removal\n",
    "    sentence = re.sub(r\"\\s+[a-zA-Z]\\s+\", ' ', sentence)\n",
    "\n",
    "    # Removing multiple spaces\n",
    "    sentence = re.sub(r'\\s+', ' ', sentence)\n",
    "\n",
    "    return sentence\n",
    "\n",
    "TAG_RE = re.compile(r'<[^>]+>')\n",
    "\n",
    "def remove_tags(text):\n",
    "    return TAG_RE.sub('', text)\n",
    "\n",
    "X = []\n",
    "sentences = list(df_train['Description'])\n",
    "for sen in sentences:\n",
    "    X.append(preprocess_text(sen))"
   ]
  },
  {
   "cell_type": "code",
   "execution_count": 10,
   "metadata": {},
   "outputs": [
    {
     "data": {
      "text/plain": [
       "'My boyfriend and stayed at the Fairmont on recent trip to San Francisco could not recommend this hotel more called the hotel few weeks before to order cake to be delivered to our room on our first night to celebrate my boyfriend birthday was immediately connected directly to the pastry chef who helped me to design the most delicious cake have ever eaten in my entire life The rooms are large and luxurious with wonderful old world feel Most importantly don miss dinner at the Tonga Room What fun restaurant Definitely order Scorpion Bowl but only if you re staying in the hotel they re strong '"
      ]
     },
     "execution_count": 10,
     "metadata": {},
     "output_type": "execute_result"
    }
   ],
   "source": [
    "X[3]\n"
   ]
  },
  {
   "cell_type": "code",
   "execution_count": 11,
   "metadata": {},
   "outputs": [],
   "source": [
    "# binary classification for happy and not_happy \n",
    "\n",
    "y = df_train['Is_Response']\n",
    "\n",
    "y = np.array(list(map(lambda x: 1 if x==\"happy\" else 0, y)))"
   ]
  },
  {
   "cell_type": "markdown",
   "metadata": {},
   "source": [
    "# 1) Simple Neural Network"
   ]
  },
  {
   "cell_type": "code",
   "execution_count": 12,
   "metadata": {},
   "outputs": [],
   "source": [
    "X_train, X_test, y_train, y_test = train_test_split(X, y, test_size=0.20, random_state=42)"
   ]
  },
  {
   "cell_type": "code",
   "execution_count": 13,
   "metadata": {},
   "outputs": [],
   "source": [
    "# Prepare embedding layer\n",
    "tokenizer = Tokenizer(num_words=5000)\n",
    "tokenizer.fit_on_texts(X_train)\n",
    "\n",
    "X_train = tokenizer.texts_to_sequences(X_train)\n",
    "X_test = tokenizer.texts_to_sequences(X_test)"
   ]
  },
  {
   "cell_type": "code",
   "execution_count": 14,
   "metadata": {},
   "outputs": [],
   "source": [
    "# Adding 1 because of reserved 0 index\n",
    "vocab_size = len(tokenizer.word_index) + 1\n",
    "\n",
    "maxlen = 100\n",
    "\n",
    "X_train = pad_sequences(X_train, padding='post', maxlen=maxlen)\n",
    "X_test = pad_sequences(X_test, padding='post', maxlen=maxlen)\n"
   ]
  },
  {
   "cell_type": "code",
   "execution_count": 15,
   "metadata": {},
   "outputs": [],
   "source": [
    "from numpy import array\n",
    "from numpy import asarray\n",
    "from numpy import zeros\n",
    "\n",
    "embeddings_dictionary = dict()\n",
    "glove_file = open('./glove.twitter.27B/glove.twitter.27B.100d.txt', encoding=\"utf8\")\n",
    "\n",
    "for line in glove_file:\n",
    "    records = line.split()\n",
    "    word = records[0]\n",
    "    vector_dimensions = asarray(records[1:], dtype='float32')\n",
    "    embeddings_dictionary [word] = vector_dimensions\n",
    "glove_file.close()"
   ]
  },
  {
   "cell_type": "code",
   "execution_count": 16,
   "metadata": {},
   "outputs": [],
   "source": [
    "embedding_matrix = zeros((vocab_size, 100))\n",
    "for word, index in tokenizer.word_index.items():\n",
    "    embedding_vector = embeddings_dictionary.get(word)\n",
    "    if embedding_vector is not None:\n",
    "        embedding_matrix[index] = embedding_vector\n"
   ]
  },
  {
   "cell_type": "code",
   "execution_count": 17,
   "metadata": {},
   "outputs": [
    {
     "name": "stdout",
     "output_type": "stream",
     "text": [
      "WARNING:tensorflow:From /anaconda3/lib/python3.7/site-packages/tensorflow/python/framework/op_def_library.py:263: colocate_with (from tensorflow.python.framework.ops) is deprecated and will be removed in a future version.\n",
      "Instructions for updating:\n",
      "Colocations handled automatically by placer.\n"
     ]
    }
   ],
   "source": [
    "model = Sequential()\n",
    "embedding_layer = Embedding(vocab_size, 100, weights=[embedding_matrix], input_length=maxlen , trainable=False)\n",
    "model.add(embedding_layer)\n",
    "\n",
    "model.add(Flatten())\n",
    "model.add(Dense(1, activation='sigmoid'))"
   ]
  },
  {
   "cell_type": "code",
   "execution_count": 18,
   "metadata": {},
   "outputs": [
    {
     "name": "stdout",
     "output_type": "stream",
     "text": [
      "_________________________________________________________________\n",
      "Layer (type)                 Output Shape              Param #   \n",
      "=================================================================\n",
      "embedding_1 (Embedding)      (None, 100, 100)          3451700   \n",
      "_________________________________________________________________\n",
      "flatten_1 (Flatten)          (None, 10000)             0         \n",
      "_________________________________________________________________\n",
      "dense_1 (Dense)              (None, 1)                 10001     \n",
      "=================================================================\n",
      "Total params: 3,461,701\n",
      "Trainable params: 10,001\n",
      "Non-trainable params: 3,451,700\n",
      "_________________________________________________________________\n",
      "None\n"
     ]
    }
   ],
   "source": [
    "model.compile(optimizer='adam', loss='binary_crossentropy', metrics=['acc'])\n",
    "\n",
    "print(model.summary())"
   ]
  },
  {
   "cell_type": "markdown",
   "metadata": {},
   "source": [
    "# Model training"
   ]
  },
  {
   "cell_type": "code",
   "execution_count": 19,
   "metadata": {},
   "outputs": [
    {
     "name": "stdout",
     "output_type": "stream",
     "text": [
      "WARNING:tensorflow:From /anaconda3/lib/python3.7/site-packages/tensorflow/python/ops/math_ops.py:3066: to_int32 (from tensorflow.python.ops.math_ops) is deprecated and will be removed in a future version.\n",
      "Instructions for updating:\n",
      "Use tf.cast instead.\n",
      "Train on 15885 samples, validate on 3972 samples\n",
      "Epoch 1/6\n",
      "15885/15885 [==============================] - 1s 61us/step - loss: 0.5512 - acc: 0.7162 - val_loss: 0.5138 - val_acc: 0.7563\n",
      "Epoch 2/6\n",
      "15885/15885 [==============================] - 1s 36us/step - loss: 0.4213 - acc: 0.8099 - val_loss: 0.4880 - val_acc: 0.7661\n",
      "Epoch 3/6\n",
      "15885/15885 [==============================] - 1s 41us/step - loss: 0.3773 - acc: 0.8382 - val_loss: 0.4901 - val_acc: 0.7674\n",
      "Epoch 4/6\n",
      "15885/15885 [==============================] - 1s 42us/step - loss: 0.3451 - acc: 0.8541 - val_loss: 0.5133 - val_acc: 0.7570\n",
      "Epoch 5/6\n",
      "15885/15885 [==============================] - 1s 34us/step - loss: 0.3237 - acc: 0.8672 - val_loss: 0.5158 - val_acc: 0.7596\n",
      "Epoch 6/6\n",
      "15885/15885 [==============================] - 1s 40us/step - loss: 0.3033 - acc: 0.8789 - val_loss: 0.5251 - val_acc: 0.7540\n"
     ]
    }
   ],
   "source": [
    "history = model.fit(X_train, y_train, batch_size=128, epochs=6, verbose=1, validation_split=0.2)"
   ]
  },
  {
   "cell_type": "markdown",
   "metadata": {},
   "source": [
    "# Evaluation of model "
   ]
  },
  {
   "cell_type": "code",
   "execution_count": 20,
   "metadata": {},
   "outputs": [
    {
     "name": "stdout",
     "output_type": "stream",
     "text": [
      "4965/4965 [==============================] - 0s 28us/step\n"
     ]
    }
   ],
   "source": [
    "score = model.evaluate(X_test, y_test, verbose=1)"
   ]
  },
  {
   "cell_type": "code",
   "execution_count": 21,
   "metadata": {},
   "outputs": [
    {
     "name": "stdout",
     "output_type": "stream",
     "text": [
      "Test Score: 0.5297669132790657\n",
      "Test Accuracy: 0.7570996978851964\n"
     ]
    }
   ],
   "source": [
    "print(\"Test Score:\", score[0])\n",
    "print(\"Test Accuracy:\", score[1])"
   ]
  },
  {
   "cell_type": "code",
   "execution_count": 22,
   "metadata": {},
   "outputs": [
    {
     "data": {
      "image/png": "[encoded data removed]",
      "text/plain": [
       "<Figure size 432x288 with 1 Axes>"
      ]
     },
     "metadata": {
      "needs_background": "light"
     },
     "output_type": "display_data"
    },
    {
     "data": {
      "image/png": "[encoded data removed]",
      "text/plain": [
       "<Figure size 432x288 with 1 Axes>"
      ]
     },
     "metadata": {
      "needs_background": "light"
     },
     "output_type": "display_data"
    }
   ],
   "source": [
    "import matplotlib.pyplot as plt\n",
    "\n",
    "plt.title('model accuracy')\n",
    "plt.ylabel('accuracy')\n",
    "plt.xlabel('epoch')\n",
    "plt.legend(['train','test'], loc='upper left')\n",
    "plt.show()\n",
    "\n",
    "plt.plot(history.history['loss'])\n",
    "plt.plot(history.history['val_loss'])\n",
    "\n",
    "plt.title('model loss')\n",
    "plt.ylabel('loss')\n",
    "plt.xlabel('epoch')\n",
    "plt.legend(['train','test'], loc='upper left')\n",
    "plt.show()"
   ]
  },
  {
   "cell_type": "markdown",
   "metadata": {},
   "source": [
    "# 2) Convolutional Neural Network"
   ]
  },
  {
   "cell_type": "code",
   "execution_count": 23,
   "metadata": {},
   "outputs": [],
   "source": [
    "from keras.layers.convolutional import Conv1D\n",
    "model = Sequential()\n",
    "\n",
    "embedding_layer = Embedding(vocab_size, 100, weights=[embedding_matrix], input_length=maxlen , trainable=False)\n",
    "model.add(embedding_layer)\n",
    "\n",
    "model.add(Conv1D(128, 5, activation='relu'))\n",
    "model.add(GlobalMaxPooling1D())\n",
    "model.add(Dense(1, activation='sigmoid'))\n",
    "model.compile(optimizer='adam', loss='binary_crossentropy', metrics=['acc'])"
   ]
  },
  {
   "cell_type": "code",
   "execution_count": 24,
   "metadata": {},
   "outputs": [
    {
     "name": "stdout",
     "output_type": "stream",
     "text": [
      "_________________________________________________________________\n",
      "Layer (type)                 Output Shape              Param #   \n",
      "=================================================================\n",
      "embedding_2 (Embedding)      (None, 100, 100)          3451700   \n",
      "_________________________________________________________________\n",
      "conv1d_1 (Conv1D)            (None, 96, 128)           64128     \n",
      "_________________________________________________________________\n",
      "global_max_pooling1d_1 (Glob (None, 128)               0         \n",
      "_________________________________________________________________\n",
      "dense_2 (Dense)              (None, 1)                 129       \n",
      "=================================================================\n",
      "Total params: 3,515,957\n",
      "Trainable params: 64,257\n",
      "Non-trainable params: 3,451,700\n",
      "_________________________________________________________________\n",
      "None\n"
     ]
    }
   ],
   "source": [
    "print(model.summary())"
   ]
  },
  {
   "cell_type": "markdown",
   "metadata": {},
   "source": [
    "# Model Training & Evaluation "
   ]
  },
  {
   "cell_type": "code",
   "execution_count": 25,
   "metadata": {},
   "outputs": [
    {
     "name": "stdout",
     "output_type": "stream",
     "text": [
      "WARNING:tensorflow:From /anaconda3/lib/python3.7/site-packages/tensorflow/python/ops/math_grad.py:102: div (from tensorflow.python.ops.math_ops) is deprecated and will be removed in a future version.\n",
      "Instructions for updating:\n",
      "Deprecated in favor of operator or tf.math.divide.\n",
      "Train on 15885 samples, validate on 3972 samples\n",
      "Epoch 1/6\n",
      "15885/15885 [==============================] - 7s 426us/step - loss: 0.4941 - acc: 0.7622 - val_loss: 0.4163 - val_acc: 0.8150\n",
      "Epoch 2/6\n",
      "15885/15885 [==============================] - 5s 313us/step - loss: 0.3716 - acc: 0.8422 - val_loss: 0.3956 - val_acc: 0.8293\n",
      "Epoch 3/6\n",
      "15885/15885 [==============================] - 5s 298us/step - loss: 0.3192 - acc: 0.8695 - val_loss: 0.4059 - val_acc: 0.8142\n",
      "Epoch 4/6\n",
      "15885/15885 [==============================] - 5s 313us/step - loss: 0.2778 - acc: 0.8954 - val_loss: 0.3745 - val_acc: 0.8396\n",
      "Epoch 5/6\n",
      "15885/15885 [==============================] - 5s 336us/step - loss: 0.2419 - acc: 0.9109 - val_loss: 0.3826 - val_acc: 0.8308\n",
      "Epoch 6/6\n",
      "15885/15885 [==============================] - 5s 323us/step - loss: 0.2079 - acc: 0.9308 - val_loss: 0.3709 - val_acc: 0.8457\n",
      "4965/4965 [==============================] - 1s 135us/step\n"
     ]
    }
   ],
   "source": [
    "history = model.fit(X_train, y_train, batch_size=128, epochs=6, verbose=1, validation_split=0.2)\n",
    "\n",
    "score = model.evaluate(X_test, y_test, verbose=1)"
   ]
  },
  {
   "cell_type": "code",
   "execution_count": 26,
   "metadata": {},
   "outputs": [
    {
     "name": "stdout",
     "output_type": "stream",
     "text": [
      "Test Score: 0.3621605721425194\n",
      "Test Accuracy: 0.8416918429003021\n",
      "[0.3621605721425194, 0.8416918429003021]\n"
     ]
    }
   ],
   "source": [
    "print(\"Test Score:\", score[0])\n",
    "print(\"Test Accuracy:\", score[1])\n",
    "print(score)"
   ]
  },
  {
   "cell_type": "code",
   "execution_count": 1,
   "metadata": {},
   "outputs": [
    {
     "ename": "NameError",
     "evalue": "name 'tokenizer' is not defined",
     "output_type": "error",
     "traceback": [
      "\u001b[0;31m---------------------------------------------------------------------------\u001b[0m",
      "\u001b[0;31mNameError\u001b[0m                                 Traceback (most recent call last)",
      "\u001b[0;32m<ipython-input-1-bc99e129cb71>\u001b[0m in \u001b[0;36m<module>\u001b[0;34m\u001b[0m\n\u001b[1;32m     20\u001b[0m             \u001b[0;34m+\u001b[0m\u001b[0;34m+\u001b[0m\u001b[0mj\u001b[0m\u001b[0;34m\u001b[0m\u001b[0;34m\u001b[0m\u001b[0m\n\u001b[1;32m     21\u001b[0m \u001b[0;34m\u001b[0m\u001b[0m\n\u001b[0;32m---> 22\u001b[0;31m \u001b[0mtest_data\u001b[0m\u001b[0;34m(\u001b[0m\u001b[0;34m)\u001b[0m\u001b[0;34m\u001b[0m\u001b[0;34m\u001b[0m\u001b[0m\n\u001b[0m",
      "\u001b[0;32m<ipython-input-1-bc99e129cb71>\u001b[0m in \u001b[0;36mtest_data\u001b[0;34m()\u001b[0m\n\u001b[1;32m     10\u001b[0m     \u001b[0;32mfor\u001b[0m \u001b[0mtest_post\u001b[0m \u001b[0;32min\u001b[0m \u001b[0mdf_test\u001b[0m\u001b[0;34m:\u001b[0m\u001b[0;34m\u001b[0m\u001b[0;34m\u001b[0m\u001b[0m\n\u001b[1;32m     11\u001b[0m         \u001b[0;32mif\u001b[0m\u001b[0;34m(\u001b[0m\u001b[0mj\u001b[0m\u001b[0;34m<=\u001b[0m\u001b[0;36m100\u001b[0m\u001b[0;34m)\u001b[0m\u001b[0;34m:\u001b[0m\u001b[0;34m\u001b[0m\u001b[0;34m\u001b[0m\u001b[0m\n\u001b[0;32m---> 12\u001b[0;31m             \u001b[0mtest_post\u001b[0m \u001b[0;34m=\u001b[0m \u001b[0mtokenizer\u001b[0m\u001b[0;34m.\u001b[0m\u001b[0mtexts_to_sequences\u001b[0m\u001b[0;34m(\u001b[0m\u001b[0mtest_post\u001b[0m\u001b[0;34m)\u001b[0m\u001b[0;34m\u001b[0m\u001b[0;34m\u001b[0m\u001b[0m\n\u001b[0m\u001b[1;32m     13\u001b[0m             \u001b[0mflat_list\u001b[0m \u001b[0;34m=\u001b[0m \u001b[0;34m[\u001b[0m\u001b[0;34m]\u001b[0m\u001b[0;34m\u001b[0m\u001b[0;34m\u001b[0m\u001b[0m\n\u001b[1;32m     14\u001b[0m             \u001b[0;32mfor\u001b[0m \u001b[0msublist\u001b[0m \u001b[0;32min\u001b[0m \u001b[0minstance\u001b[0m\u001b[0;34m:\u001b[0m\u001b[0;34m\u001b[0m\u001b[0;34m\u001b[0m\u001b[0m\n",
      "\u001b[0;31mNameError\u001b[0m: name 'tokenizer' is not defined"
     ]
    }
   ],
   "source": [
    "import pandas as pd\n",
    "\n",
    "def test_data():\n",
    "    \n",
    "    df_test = pd.read_csv('./measuring-customer-happiness/test_hp.csv', encoding='utf-8')\n",
    "    df_test = df_test['Description']\n",
    "    pd.set_option('display.max_colwidth', 200)\n",
    "    df_test.head()\n",
    "    j=0\n",
    "    for test_post in df_test:\n",
    "        if(j<=100):\n",
    "            test_post = tokenizer.texts_to_sequences(test_post) \n",
    "            flat_list = []\n",
    "            for sublist in instance:\n",
    "                for item in sublist:\n",
    "                    flat_list.append(item)\n",
    "            flat_list = [flat_list]\n",
    "            test_post = pad_sequences(flat_list, padding='post', maxlen=maxlen)\n",
    "            model.predict(test_post)  \n",
    "            ++j\n",
    "        \n",
    "test_data()"
   ]
  },
  {
   "cell_type": "code",
   "execution_count": 27,
   "metadata": {},
   "outputs": [
    {
     "data": {
      "image/png": "[encoded data removed]",
      "text/plain": [
       "<Figure size 432x288 with 1 Axes>"
      ]
     },
     "metadata": {
      "needs_background": "light"
     },
     "output_type": "display_data"
    },
    {
     "data": {
      "image/png": "[encoded data removed]",
      "text/plain": [
       "<Figure size 432x288 with 1 Axes>"
      ]
     },
     "metadata": {
      "needs_background": "light"
     },
     "output_type": "display_data"
    }
   ],
   "source": [
    "import matplotlib.pyplot as plt\n",
    "\n",
    "plt.plot(history.history['acc'])\n",
    "plt.plot(history.history['val_acc'])\n",
    "\n",
    "plt.title('model accuracy')\n",
    "plt.ylabel('accuracy')\n",
    "plt.xlabel('epoch')\n",
    "plt.legend(['train','test'], loc = 'upper left')\n",
    "plt.show()\n",
    "\n",
    "plt.plot(history.history['loss'])\n",
    "plt.plot(history.history['val_loss'])\n",
    "\n",
    "plt.title('model loss')\n",
    "plt.ylabel('loss')\n",
    "plt.xlabel('epoch')\n",
    "plt.legend(['train','test'], loc = 'upper left')\n",
    "plt.show()"
   ]
  },
  {
   "cell_type": "markdown",
   "metadata": {},
   "source": [
    "# 3) Recurrent Neural Network: LSTM (Long Short Term Memory network)"
   ]
  },
  {
   "cell_type": "code",
   "execution_count": 28,
   "metadata": {},
   "outputs": [],
   "source": [
    "from keras.layers.recurrent import LSTM\n",
    "model = Sequential()\n",
    "embedding_layer = Embedding(vocab_size, 100, weights=[embedding_matrix], input_length=maxlen , trainable=False)\n",
    "model.add(embedding_layer)\n",
    "model.add(LSTM(128))\n",
    "\n",
    "model.add(Dense(1, activation='sigmoid'))\n",
    "model.compile(optimizer='adam', loss='binary_crossentropy', metrics=['acc'])"
   ]
  },
  {
   "cell_type": "code",
   "execution_count": 29,
   "metadata": {},
   "outputs": [
    {
     "name": "stdout",
     "output_type": "stream",
     "text": [
      "_________________________________________________________________\n",
      "Layer (type)                 Output Shape              Param #   \n",
      "=================================================================\n",
      "embedding_3 (Embedding)      (None, 100, 100)          3451700   \n",
      "_________________________________________________________________\n",
      "lstm_1 (LSTM)                (None, 128)               117248    \n",
      "_________________________________________________________________\n",
      "dense_3 (Dense)              (None, 1)                 129       \n",
      "=================================================================\n",
      "Total params: 3,569,077\n",
      "Trainable params: 117,377\n",
      "Non-trainable params: 3,451,700\n",
      "_________________________________________________________________\n",
      "None\n"
     ]
    }
   ],
   "source": [
    "print(model.summary())"
   ]
  },
  {
   "cell_type": "markdown",
   "metadata": {},
   "source": [
    "# Model Training & Evaluation "
   ]
  },
  {
   "cell_type": "code",
   "execution_count": 30,
   "metadata": {},
   "outputs": [
    {
     "name": "stdout",
     "output_type": "stream",
     "text": [
      "Train on 15885 samples, validate on 3972 samples\n",
      "Epoch 1/10\n",
      "15885/15885 [==============================] - 20s 1ms/step - loss: 0.5857 - acc: 0.6973 - val_loss: 0.5109 - val_acc: 0.7664\n",
      "Epoch 2/10\n",
      "15885/15885 [==============================] - 20s 1ms/step - loss: 0.4925 - acc: 0.7806 - val_loss: 0.4946 - val_acc: 0.7852\n",
      "Epoch 3/10\n",
      "15885/15885 [==============================] - 21s 1ms/step - loss: 0.4548 - acc: 0.8012 - val_loss: 0.4411 - val_acc: 0.8066\n",
      "Epoch 4/10\n",
      "15885/15885 [==============================] - 24s 2ms/step - loss: 0.4208 - acc: 0.8144 - val_loss: 0.4135 - val_acc: 0.8152\n",
      "Epoch 5/10\n",
      "15885/15885 [==============================] - 22s 1ms/step - loss: 0.4059 - acc: 0.8203 - val_loss: 0.3942 - val_acc: 0.8235\n",
      "Epoch 6/10\n",
      "15885/15885 [==============================] - 23s 1ms/step - loss: 0.3862 - acc: 0.8351 - val_loss: 0.3933 - val_acc: 0.8285\n",
      "Epoch 7/10\n",
      "15885/15885 [==============================] - 20s 1ms/step - loss: 0.3678 - acc: 0.8400 - val_loss: 0.3853 - val_acc: 0.8321\n",
      "Epoch 8/10\n",
      "15885/15885 [==============================] - 22s 1ms/step - loss: 0.3536 - acc: 0.8482 - val_loss: 0.3924 - val_acc: 0.8228\n",
      "Epoch 9/10\n",
      "15885/15885 [==============================] - 21s 1ms/step - loss: 0.3364 - acc: 0.8575 - val_loss: 0.3864 - val_acc: 0.8396\n",
      "Epoch 10/10\n",
      "15885/15885 [==============================] - 21s 1ms/step - loss: 0.3261 - acc: 0.8642 - val_loss: 0.3780 - val_acc: 0.8404\n",
      "4965/4965 [==============================] - 3s 511us/step\n"
     ]
    }
   ],
   "source": [
    "history = model.fit(X_train, y_train, batch_size=128, epochs=10, verbose=1, validation_split=0.2)\n",
    "\n",
    "score = model.evaluate(X_test, y_test, verbose=1)\n"
   ]
  },
  {
   "cell_type": "code",
   "execution_count": 31,
   "metadata": {},
   "outputs": [
    {
     "name": "stdout",
     "output_type": "stream",
     "text": [
      "Test Score: 0.37270022963379085\n",
      "Test Accuracy: 0.8382678751258812\n"
     ]
    }
   ],
   "source": [
    "print(\"Test Score:\", score[0])\n",
    "print(\"Test Accuracy:\", score[1])"
   ]
  },
  {
   "cell_type": "code",
   "execution_count": 32,
   "metadata": {},
   "outputs": [
    {
     "data": {
      "image/png": "[encoded data removed]",
      "text/plain": [
       "<Figure size 432x288 with 1 Axes>"
      ]
     },
     "metadata": {
      "needs_background": "light"
     },
     "output_type": "display_data"
    },
    {
     "data": {
      "image/png": "[encoded data removed]",
      "text/plain": [
       "<Figure size 432x288 with 1 Axes>"
      ]
     },
     "metadata": {
      "needs_background": "light"
     },
     "output_type": "display_data"
    }
   ],
   "source": [
    "import matplotlib.pyplot as plt\n",
    "\n",
    "plt.plot(history.history['acc'])\n",
    "plt.plot(history.history['val_acc'])\n",
    "\n",
    "plt.title('model accuracy')\n",
    "plt.ylabel('accuracy')\n",
    "plt.xlabel('epoch')\n",
    "plt.legend(['train','test'], loc='upper left')\n",
    "plt.show()\n",
    "\n",
    "plt.plot(history.history['loss'])\n",
    "plt.plot(history.history['val_loss'])\n",
    "\n",
    "plt.title('model loss')\n",
    "plt.ylabel('loss')\n",
    "plt.xlabel('epoch')\n",
    "plt.legend(['train','test'], loc='upper left')\n",
    "plt.show()\n"
   ]
  },
  {
   "cell_type": "markdown",
   "metadata": {},
   "source": [
    "# Load facebook comments"
   ]
  },
  {
   "cell_type": "code",
   "execution_count": null,
   "metadata": {},
   "outputs": [],
   "source": []
  },
  {
   "cell_type": "code",
   "execution_count": 84,
   "metadata": {},
   "outputs": [],
   "source": [
    "import json\n",
    "import requests\n",
    "import pandas as pd\n",
    "import datetime\n",
    "\n",
    "class FacebookApi:\n",
    "\n",
    "    ## below facebook api call\n",
    "\n",
    "\n",
    "    def callFacebookApi(self):\n",
    "        \n",
    "        url_long = \"https://graph.facebook.com/v5.0/me?fields=id%2Cname%2Cposts%7Bcomments%7D&access_token=EAAlcIv35CUUBANREEygggKozZBFTNubNFhwuDn0u3MDI1jHz4PYRGirDFxz7MoSMTz3AHu6ZCQdT0oBp0cM3a30fGzw1pfb27C6H5OGn5jxiV49TqK8yaBiZA6DKZAeR3r0yzGGFFMGZAGmf6lMDeh8elMMGFZA5z4pk8KfQ2uiDZAZB67gt1nfh\"\n",
    "\n",
    "        response = requests.get(url_long)\n",
    "        json_data = json.loads(response.text)\n",
    "        #df = pd.DataFrame(columns=['comment', 'person', 'time'])\n",
    "        dictFb = {'comment': [], 'person':[], 'time':[]}\n",
    "        for i in range(len(json_data['posts']['data'])-1):\n",
    "            dictFb['comment'].append(json_data['posts']['data'][i]['comments']['data'][i]['message'])\n",
    "            dictFb['person'].append(json_data['posts']['data'][i]['comments']['data'][i]['from']['name'])\n",
    "            time = json_data['posts']['data'][i]['comments']['data'][i]['created_time']\n",
    "            \n",
    "            datetime.datetime.strptime(df['time'], \"%Y-%m-%dT%H:%M:%S+0000\")\n",
    "            dictFb['time'].append(json_data['posts']['data'][i]['comments']['data'][i]['created_time'])\n",
    "            #df.append({'comment': comment, 'person':person, 'time':time}, ignore_index=True)\n",
    "        df = pd.DataFrame(dictFb,columns=['comment', 'person', 'time'])\n",
    "\n",
    "        return df\n",
    "    "
   ]
  },
  {
   "cell_type": "code",
   "execution_count": 89,
   "metadata": {},
   "outputs": [
    {
     "name": "stdout",
     "output_type": "stream",
     "text": [
      "                      comment            person                      time\n",
      "0  second comment 456 negativ  Lachmann Cruises  2019-12-06T18:59:43+0000\n"
     ]
    }
   ],
   "source": [
    "fb =FacebookApi()\n",
    "fb.callFacebookApi()\n",
    "print(fb.callFacebookApi())"
   ]
  },
  {
   "cell_type": "code",
   "execution_count": 90,
   "metadata": {},
   "outputs": [
    {
     "name": "stdout",
     "output_type": "stream",
     "text": [
      "Sunday\n"
     ]
    }
   ],
   "source": [
    "def findDay(date): \n",
    "    born = datetime.datetime.strptime(date, '%d %m %Y').weekday() \n",
    "    return (calendar.day_name[born]) \n",
    "  \n",
    "# Driver program \n",
    "date = '03 02 2019'\n",
    "print(findDay(date)) "
   ]
  },
  {
   "cell_type": "markdown",
   "metadata": {},
   "source": [
    "# Load facebook comments"
   ]
  },
  {
   "cell_type": "markdown",
   "metadata": {},
   "source": [
    "# Predict sentiments"
   ]
  },
  {
   "cell_type": "code",
   "execution_count": 39,
   "metadata": {},
   "outputs": [
    {
     "name": "stdout",
     "output_type": "stream",
     "text": [
      "We travel for work and m constantly looking for new and intersting places to stay The Inn at The Black Olive was perfect didn feel like was stuck in another hotel but rather staying somewhere fun and relaxing The location was amazing and the beds are really comfortable The restaurant upstairs was excellent Everyone was really nice and helpful only had few thoughts that weren totally positive but they in no way will keep me from staying there every time we re in Baltimore for work The TV in the living room was on the smaller side As don watch TV lot that doesn really matter to me There was no dock or stereo hookup for an ipod Would have been nice but again wasn there to just sit in the room for hours They only carried glass bottles for water get why for sure but it would have been nice to have something more easy to carry outside the hotel Maybe have water bottles in the room that they can charge for \n"
     ]
    }
   ],
   "source": [
    "instance = X[57]\n",
    "\n",
    "print(instance)\n"
   ]
  },
  {
   "cell_type": "markdown",
   "metadata": {},
   "source": [
    "####  - convert review into numeric form (using the tokenizer)\n",
    "####  - text_to_sequences method will convert the sentence into its numeric counter part\n",
    "####  - positive = 1, negative = 0\n",
    "####  - sigmoid function predicts floating value between 0 and 1. \n",
    "####  - value < 0.5 = negative sentiment \n",
    "####  - value > 0.5 = positive sentiment \n"
   ]
  },
  {
   "cell_type": "code",
   "execution_count": null,
   "metadata": {},
   "outputs": [],
   "source": []
  },
  {
   "cell_type": "code",
   "execution_count": null,
   "metadata": {},
   "outputs": [],
   "source": [
    "instance = tokenizer.texts_to_sequences(instance)\n",
    "\n",
    "flat_list = []\n",
    "for sublist in instance:\n",
    "    for item in sublist:\n",
    "        flat_list.append(item)\n",
    "\n",
    "flat_list = [flat_list]\n",
    "\n",
    "instance = pad_sequences(flat_list, padding='post', maxlen=maxlen)\n",
    "\n",
    "model.predict(instance)"
   ]
  },
  {
   "cell_type": "markdown",
   "metadata": {},
   "source": []
  },
  {
   "cell_type": "markdown",
   "metadata": {},
   "source": [
    "# Send email"
   ]
  },
  {
   "cell_type": "code",
   "execution_count": null,
   "metadata": {},
   "outputs": [],
   "source": [
    "import smtplib, ssl\n",
    "\n",
    "port = 587  # For starttls\n",
    "smtp_server = \"smtp.gmail.com\"\n",
    "receiver_email = \"burghard.lachmann+kunde@gmail.com\"\n",
    "sender_email = \"burghard.lachmann@gmail.com\"\n",
    "password = 'Brunhilde'\n",
    "message = \"\"\"\n",
    "Report von HH Analytica\n",
    "\"\"\"\n",
    "\n",
    "context = ssl.create_default_context()\n",
    "with smtplib.SMTP(smtp_server, port) as server:\n",
    "   # server.ehlo()  # Can be omitted\n",
    "    server.starttls(context=context)\n",
    "    #server.ehlo()  # Can be omitted\n",
    "    server.login(sender_email, password)\n",
    "    server.sendmail(sender_email, receiver_email, message)"
   ]
  },
  {
   "cell_type": "code",
   "execution_count": null,
   "metadata": {},
   "outputs": [],
   "source": [
    "from smtplib import SMTP\n",
    "with SMTP(\"https://www.web.de\") as smtp:\n",
    "    smtp.noop()"
   ]
  },
  {
   "cell_type": "code",
   "execution_count": null,
   "metadata": {},
   "outputs": [],
   "source": []
  },
  {
   "cell_type": "code",
   "execution_count": null,
   "metadata": {},
   "outputs": [],
   "source": []
  }
 ],
 "metadata": {
  "kernelspec": {
   "display_name": "Python 3",
   "language": "python",
   "name": "python3"
  },
  "language_info": {
   "codemirror_mode": {
    "name": "ipython",
    "version": 3
   },
   "file_extension": ".py",
   "mimetype": "text/x-python",
   "name": "python",
   "nbconvert_exporter": "python",
   "pygments_lexer": "ipython3",
   "version": "3.7.3"
  }
 },
 "nbformat": 4,
 "nbformat_minor": 4
}
