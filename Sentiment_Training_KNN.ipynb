{
 "cells": [
  {
   "cell_type": "code",
   "execution_count": 9,
   "metadata": {},
   "outputs": [
    {
     "name": "stdout",
     "output_type": "stream",
     "text": [
      "   User_ID                                        Description  \\\n",
      "0  id10326  The room was kind of clean but had a VERY stro...   \n",
      "1  id10327  I stayed at the Crown Plaza April -- - April -...   \n",
      "2  id10328  I booked this hotel through Hotwire at the low...   \n",
      "\n",
      "        Browser_Used Device_Used Is_Response  \n",
      "0               Edge      Mobile   not happy  \n",
      "1  Internet Explorer      Mobile   not happy  \n",
      "2            Mozilla      Tablet   not happy  \n"
     ]
    }
   ],
   "source": [
    "# Build neural network\n",
    "\n",
    "# read training data\n",
    "import tensorflow as tf\n",
    "import pandas as pd\n",
    "import numpy as np\n",
    "import re\n",
    "import nltk\n",
    "from nltk.corpus import stopwords\n",
    "\n",
    "from numpy import array\n",
    "from keras.preprocessing.text import one_hot\n",
    "from keras.preprocessing.sequence import pad_sequences\n",
    "from keras.models import Sequential\n",
    "from keras.layers.core import Activation, Dropout, Dense\n",
    "from keras.layers import Flatten\n",
    "from keras.layers import GlobalMaxPooling1D\n",
    "from keras.layers.embeddings import Embedding\n",
    "from sklearn.model_selection import train_test_split\n",
    "from keras.preprocessing.text import Tokenizer\n",
    "\n",
    "#df = pd.Dataframe()\n",
    "df_train = pd.read_csv('./measuring-customer-happiness/train_hp.csv', encoding='utf-8')\n",
    "print(df_train.head(3))\n",
    "\n",
    "#df_test = pd.read_csv('./measuring-customer-happiness/test_hp.csv', encoding='utf-8')\n",
    "#print(df_test.head(3))"
   ]
  },
  {
   "cell_type": "code",
   "execution_count": 10,
   "metadata": {},
   "outputs": [
    {
     "name": "stdout",
     "output_type": "stream",
     "text": [
      "                                         Description Is_Response\n",
      "0  The room was kind of clean but had a VERY stro...   not happy\n",
      "1  I stayed at the Crown Plaza April -- - April -...   not happy\n",
      "2  I booked this hotel through Hotwire at the low...   not happy\n",
      "3  Stayed here with husband and sons on the way t...       happy\n",
      "4  My girlfriends and I stayed here to celebrate ...   not happy\n"
     ]
    }
   ],
   "source": [
    "df_train = df_train[['Description', 'Is_Response']]\n",
    "print(df_train.head())"
   ]
  },
  {
   "cell_type": "code",
   "execution_count": 11,
   "metadata": {},
   "outputs": [
    {
     "name": "stdout",
     "output_type": "stream",
     "text": [
      "                                             Description Is_Response\n",
      "3      Stayed here with husband and sons on the way t...       happy\n",
      "5      We had - rooms. One was very nice and clearly ...       happy\n",
      "7      My wife & I stayed in this glorious city a whi...       happy\n",
      "8      My boyfriend and I stayed at the Fairmont on a...       happy\n",
      "10     Steps off Times Square, nice rooms, stayed - n...       happy\n",
      "11     Me, the Wife and - kids stayed here on Valenti...       happy\n",
      "13     I highly recommend the Hawthorne Terrace as an...       happy\n",
      "14     I found the hotel clean and nicely located. Go...       happy\n",
      "15     Stayed at the Elan from --th to --th October a...       happy\n",
      "18     We stayed here for - nights and were really ha...       happy\n",
      "21     This is everything you could want from a hotel...       happy\n",
      "23     I really liked this hotel. The staff were wond...       happy\n",
      "24     My wife and spent - days there this month as a...       happy\n",
      "26     Took a girls trip to LA and had no idea where ...       happy\n",
      "27     Stayed with my girlfriend for a long weekend. ...       happy\n",
      "28     I have stayed here numerous times and never be...       happy\n",
      "31     I really liked this hotel alot. \\nStaff was ex...       happy\n",
      "32     We could easily have stayed here for longer on...       happy\n",
      "33     I booked three nights at the Inn at El Gaucho ...       happy\n",
      "34     Looking for a tranquil retreat in Denver that ...       happy\n",
      "35     Booked - rooms, at check-in they upgraded all ...       happy\n",
      "37     I'm not a fan of hotels so hate business trave...       happy\n",
      "40     Okay the hotel-motel may not be a - star appea...       happy\n",
      "41     We are starwood preffered guest members and go...       happy\n",
      "42     I was in town for a conference at McCormick Pl...       happy\n",
      "43     We stayed at the hotel just two weeks ago and ...       happy\n",
      "44     Comfortable rooms,a little glitzy for my taste...       happy\n",
      "45     Got a awesome rate here - $-- a night for a Ra...       happy\n",
      "47     We spent - nights at the Sofitel Washington fr...       happy\n",
      "48     The lobby and rooms are clean, chic and lovely...       happy\n",
      "...                                                  ...         ...\n",
      "38883  I stayed here two nights on business in a stan...       happy\n",
      "38884  Location superb and rooms (almost uniquely in ...       happy\n",
      "38885  We stayed - nights over Memorial weekend. SF w...       happy\n",
      "38887  We had three nights in the Embassy Suites at t...       happy\n",
      "38888  The hotel was nice but the service I received ...       happy\n",
      "38891  We had a wonderful overnight stay here--beauti...       happy\n",
      "38892  I travel to NYC every summer from Oregon as I ...       happy\n",
      "38893  I stayed here for about a month for work and i...       happy\n",
      "38894  Stayed at the Econo Lodge for - nights whilst ...       happy\n",
      "38897  Gearing up for my first trip to Chicago, I con...       happy\n",
      "38900  If you are in downtown San Jose for a conferen...       happy\n",
      "38902  After having stayed at the Waldorf many times,...       happy\n",
      "38903  This hotel is a great choice for those staying...       happy\n",
      "38904  Although New York is a large city, whenever I ...       happy\n",
      "38906  I've stayed at the Hilton, Hyatt, Magnolia and...       happy\n",
      "38907  Great Location,short walk from Amtrak station,...       happy\n",
      "38908  When we booked this was a Renaissance Hotel bu...       happy\n",
      "38910  I have to admit I tried rebooking since I was ...       happy\n",
      "38911  Room was nice, everything seemed pretty new. R...       happy\n",
      "38912  then a great place to stay is this hotel. Not ...       happy\n",
      "38915  pretty cool hotel. stayed for a few days in mi...       happy\n",
      "38916  We stopped over in LAX on the way to Canada an...       happy\n",
      "38917  I love this hotel and will stay again for seve...       happy\n",
      "38919  I didn't get to see much of Seattle but the ho...       happy\n",
      "38920  My husband and I stayed one night at the Heart...       happy\n",
      "38921  We staed at the Handlery Hotel to Visit San Di...       happy\n",
      "38924  We booked a room with two single beds. Upon ar...       happy\n",
      "38925  Arrived via taxi from La Guardia - driving int...       happy\n",
      "38927  We arrived late at night and walked in to a ch...       happy\n",
      "38931  The Westin is a wonderfully restored grande da...       happy\n",
      "\n",
      "[26521 rows x 2 columns]\n"
     ]
    }
   ],
   "source": [
    "# select only rows with happy values and reduce happy values to same amount as not happy values\n",
    "df_happy = df_train.loc[df_train['Is_Response'] == 'happy']\n",
    "df_not_happy = df_train.loc[df_train['Is_Response'] == 'not happy']\n",
    "print(df_happy)"
   ]
  },
  {
   "cell_type": "code",
   "execution_count": 12,
   "metadata": {},
   "outputs": [
    {
     "name": "stdout",
     "output_type": "stream",
     "text": [
      "                                             Description Is_Response\n",
      "3      Stayed here with husband and sons on the way t...       happy\n",
      "5      We had - rooms. One was very nice and clearly ...       happy\n",
      "7      My wife & I stayed in this glorious city a whi...       happy\n",
      "8      My boyfriend and I stayed at the Fairmont on a...       happy\n",
      "10     Steps off Times Square, nice rooms, stayed - n...       happy\n",
      "11     Me, the Wife and - kids stayed here on Valenti...       happy\n",
      "13     I highly recommend the Hawthorne Terrace as an...       happy\n",
      "14     I found the hotel clean and nicely located. Go...       happy\n",
      "15     Stayed at the Elan from --th to --th October a...       happy\n",
      "18     We stayed here for - nights and were really ha...       happy\n",
      "21     This is everything you could want from a hotel...       happy\n",
      "23     I really liked this hotel. The staff were wond...       happy\n",
      "24     My wife and spent - days there this month as a...       happy\n",
      "26     Took a girls trip to LA and had no idea where ...       happy\n",
      "27     Stayed with my girlfriend for a long weekend. ...       happy\n",
      "28     I have stayed here numerous times and never be...       happy\n",
      "31     I really liked this hotel alot. \\nStaff was ex...       happy\n",
      "32     We could easily have stayed here for longer on...       happy\n",
      "33     I booked three nights at the Inn at El Gaucho ...       happy\n",
      "34     Looking for a tranquil retreat in Denver that ...       happy\n",
      "35     Booked - rooms, at check-in they upgraded all ...       happy\n",
      "37     I'm not a fan of hotels so hate business trave...       happy\n",
      "40     Okay the hotel-motel may not be a - star appea...       happy\n",
      "41     We are starwood preffered guest members and go...       happy\n",
      "42     I was in town for a conference at McCormick Pl...       happy\n",
      "43     We stayed at the hotel just two weeks ago and ...       happy\n",
      "44     Comfortable rooms,a little glitzy for my taste...       happy\n",
      "45     Got a awesome rate here - $-- a night for a Ra...       happy\n",
      "47     We spent - nights at the Sofitel Washington fr...       happy\n",
      "48     The lobby and rooms are clean, chic and lovely...       happy\n",
      "...                                                  ...         ...\n",
      "18176  This hotel has all the bells and whistles. Roo...       happy\n",
      "18179  Beautiful place and convenient to so many thin...       happy\n",
      "18180  RECOMMENDED. NYC is known for noise, small and...       happy\n",
      "18181  I stayed here a week for business. The hotel h...       happy\n",
      "18182  Nice wooded hotel setting (except the associat...       happy\n",
      "18183  Stayed here while attending --th grammy awards...       happy\n",
      "18184  We stayed here for a week for the Rock n Roll ...       happy\n",
      "18185  For a NYC hotel room, it was enormous. Wonderf...       happy\n",
      "18186  First off, the booking. We used Virtuoso and g...       happy\n",
      "18188  We stayed here for one night before our flight...       happy\n",
      "18189  We visited the Wellington Hotel in November --...       happy\n",
      "18190  Wonderful hotel in a very convenient location....       happy\n",
      "18191  The location of this motel is excellent. It is...       happy\n",
      "18192  The hotel staff is awesome! Very friendly and ...       happy\n",
      "18193  Stayed here for two nights with my sixteen yea...       happy\n",
      "18195  I stayed for - nights at this cozy boutique-st...       happy\n",
      "18197  The Affinia Dumont is certainly all the review...       happy\n",
      "18198  The Mark Hopkins was exceptional. Everything i...       happy\n",
      "18200  I recently spent three nights at the Marriott ...       happy\n",
      "18201  The location was great, walking distance to th...       happy\n",
      "18202  This is a great location near the Inner Harbor...       happy\n",
      "18203  Clean rooms, comfortable beds and pillows, fri...       happy\n",
      "18204  I have actually yet to stay at this hotel. Why...       happy\n",
      "18206  After a long flight to New York, we arrived to...       happy\n",
      "18207  Better than average breakfast so get the bed &...       happy\n",
      "18208  Staff here very cooperative and responded to o...       happy\n",
      "18209  We stayed at the Old Town Inn for three nights...       happy\n",
      "18211  My family of my husband, a - year old and - ch...       happy\n",
      "18212  Hyatt Place is my preferred hotel when I trave...       happy\n",
      "18213  On the downside, the shower was really uncomfo...       happy\n",
      "\n",
      "[12411 rows x 2 columns]\n"
     ]
    }
   ],
   "source": [
    "# only get the first 12411 rows of happy dataframe\n",
    "df_happy = df_happy.head(12411)\n",
    "print(df_happy)"
   ]
  },
  {
   "cell_type": "code",
   "execution_count": 13,
   "metadata": {},
   "outputs": [
    {
     "name": "stdout",
     "output_type": "stream",
     "text": [
      "                                             Description Is_Response\n",
      "3      Stayed here with husband and sons on the way t...       happy\n",
      "5      We had - rooms. One was very nice and clearly ...       happy\n",
      "7      My wife & I stayed in this glorious city a whi...       happy\n",
      "8      My boyfriend and I stayed at the Fairmont on a...       happy\n",
      "10     Steps off Times Square, nice rooms, stayed - n...       happy\n",
      "11     Me, the Wife and - kids stayed here on Valenti...       happy\n",
      "13     I highly recommend the Hawthorne Terrace as an...       happy\n",
      "14     I found the hotel clean and nicely located. Go...       happy\n",
      "15     Stayed at the Elan from --th to --th October a...       happy\n",
      "18     We stayed here for - nights and were really ha...       happy\n",
      "21     This is everything you could want from a hotel...       happy\n",
      "23     I really liked this hotel. The staff were wond...       happy\n",
      "24     My wife and spent - days there this month as a...       happy\n",
      "26     Took a girls trip to LA and had no idea where ...       happy\n",
      "27     Stayed with my girlfriend for a long weekend. ...       happy\n",
      "28     I have stayed here numerous times and never be...       happy\n",
      "31     I really liked this hotel alot. \\nStaff was ex...       happy\n",
      "32     We could easily have stayed here for longer on...       happy\n",
      "33     I booked three nights at the Inn at El Gaucho ...       happy\n",
      "34     Looking for a tranquil retreat in Denver that ...       happy\n",
      "35     Booked - rooms, at check-in they upgraded all ...       happy\n",
      "37     I'm not a fan of hotels so hate business trave...       happy\n",
      "40     Okay the hotel-motel may not be a - star appea...       happy\n",
      "41     We are starwood preffered guest members and go...       happy\n",
      "42     I was in town for a conference at McCormick Pl...       happy\n",
      "43     We stayed at the hotel just two weeks ago and ...       happy\n",
      "44     Comfortable rooms,a little glitzy for my taste...       happy\n",
      "45     Got a awesome rate here - $-- a night for a Ra...       happy\n",
      "47     We spent - nights at the Sofitel Washington fr...       happy\n",
      "48     The lobby and rooms are clean, chic and lovely...       happy\n",
      "...                                                  ...         ...\n",
      "38849  Like all the other Trip A reviewers, this is t...   not happy\n",
      "38855  I read so many positive reviews that led me to...   not happy\n",
      "38859  I don't know when the Highland Gardens had it'...   not happy\n",
      "38866  My family which incudes - yr old twin girls de...   not happy\n",
      "38869  I got a good deal on this hotel on the Web wit...   not happy\n",
      "38871  The location of this hotel is amazing! We walk...   not happy\n",
      "38872  We arrived very early and they were able to ac...   not happy\n",
      "38875  The room was confortable and clean. The view o...   not happy\n",
      "38878  We stayed at crowne plaza for our son's weddin...   not happy\n",
      "38881  My main point would be - for the money you can...   not happy\n",
      "38882  As an avid (---+ nights a year) traveler, I ha...   not happy\n",
      "38886  All the poor reviews were true. Very cold, not...   not happy\n",
      "38889  I had reservations for --------- and “STAR”the...   not happy\n",
      "38890  I had to stay here for travel because the Marr...   not happy\n",
      "38895  Check in went fast. The front desk was courteo...   not happy\n",
      "38896  We chose The Clift because it looked fun and u...   not happy\n",
      "38898  Crack pipe wrapped in tissue was found. Woke u...   not happy\n",
      "38899  Bugs in the room. Told the front desk and they...   not happy\n",
      "38901  Booked this through hotwire at $--- a night. T...   not happy\n",
      "38905  I used to live in Austin, so when I moved away...   not happy\n",
      "38909  Hotel is an old style Red Roof and has not bee...   not happy\n",
      "38913  I will never ever stay at this Hotel again. I ...   not happy\n",
      "38914  After being on a bus for -- hours and finally ...   not happy\n",
      "38918  We were excited about our stay at the Blu Aqua...   not happy\n",
      "38922  This hotel has a great location if you want to...   not happy\n",
      "38923  I am pretty impartial to this hotel. I would d...   not happy\n",
      "38926  I tend to post reviews only when I’ve had an e...   not happy\n",
      "38928  The only positive impression is location and p...   not happy\n",
      "38929  Traveling with friends for shopping and a show...   not happy\n",
      "38930  The experience was just ok. We paid extra for ...   not happy\n",
      "\n",
      "[24822 rows x 2 columns]\n"
     ]
    }
   ],
   "source": [
    "frames = [df_happy, df_not_happy]\n",
    "df_train = pd.concat(frames)\n",
    "print(df_train)"
   ]
  },
  {
   "cell_type": "code",
   "execution_count": 14,
   "metadata": {},
   "outputs": [
    {
     "data": {
      "text/plain": [
       "<matplotlib.axes._subplots.AxesSubplot at 0x1a29e80828>"
      ]
     },
     "execution_count": 14,
     "metadata": {},
     "output_type": "execute_result"
    },
    {
     "data": {
      "image/png": "[encoded data removed]",
      "text/plain": [
       "<Figure size 432x288 with 1 Axes>"
      ]
     },
     "metadata": {
      "needs_background": "light"
     },
     "output_type": "display_data"
    }
   ],
   "source": [
    "import seaborn as sns\n",
    "\n",
    "sns.countplot(x='Is_Response', data=df_train)"
   ]
  },
  {
   "cell_type": "code",
   "execution_count": 15,
   "metadata": {},
   "outputs": [],
   "source": [
    "# Data Preprocessing\n",
    "\n",
    "def preprocess_text(sen):\n",
    "    # Removing html tags\n",
    "    sentence = remove_tags(sen)\n",
    "\n",
    "    # Remove punctuations and numbers\n",
    "    sentence = re.sub('[^a-zA-Z]', ' ', sentence)\n",
    "\n",
    "    # Single character removal\n",
    "    sentence = re.sub(r\"\\s+[a-zA-Z]\\s+\", ' ', sentence)\n",
    "\n",
    "    # Removing multiple spaces\n",
    "    sentence = re.sub(r'\\s+', ' ', sentence)\n",
    "\n",
    "    return sentence\n",
    "\n",
    "TAG_RE = re.compile(r'<[^>]+>')\n",
    "\n",
    "def remove_tags(text):\n",
    "    return TAG_RE.sub('', text)\n",
    "\n",
    "X = []\n",
    "sentences = list(df_train['Description'])\n",
    "for sen in sentences:\n",
    "    X.append(preprocess_text(sen))"
   ]
  },
  {
   "cell_type": "code",
   "execution_count": 16,
   "metadata": {},
   "outputs": [
    {
     "data": {
      "text/plain": [
       "'My boyfriend and stayed at the Fairmont on recent trip to San Francisco could not recommend this hotel more called the hotel few weeks before to order cake to be delivered to our room on our first night to celebrate my boyfriend birthday was immediately connected directly to the pastry chef who helped me to design the most delicious cake have ever eaten in my entire life The rooms are large and luxurious with wonderful old world feel Most importantly don miss dinner at the Tonga Room What fun restaurant Definitely order Scorpion Bowl but only if you re staying in the hotel they re strong '"
      ]
     },
     "execution_count": 16,
     "metadata": {},
     "output_type": "execute_result"
    }
   ],
   "source": [
    "X[3]\n"
   ]
  },
  {
   "cell_type": "code",
   "execution_count": 17,
   "metadata": {},
   "outputs": [],
   "source": [
    "# binary classification for happy and not_happy \n",
    "\n",
    "y = df_train['Is_Response']\n",
    "\n",
    "y = np.array(list(map(lambda x: 1 if x==\"happy\" else 0, y)))"
   ]
  },
  {
   "cell_type": "markdown",
   "metadata": {},
   "source": [
    "# 1) Simple Neural Network"
   ]
  },
  {
   "cell_type": "code",
   "execution_count": 18,
   "metadata": {},
   "outputs": [],
   "source": [
    "X_train, X_test, y_train, y_test = train_test_split(X, y, test_size=0.20, random_state=42)"
   ]
  },
  {
   "cell_type": "code",
   "execution_count": 19,
   "metadata": {},
   "outputs": [],
   "source": [
    "# Prepare embedding layer\n",
    "tokenizer = Tokenizer(num_words=5000)\n",
    "tokenizer.fit_on_texts(X_train)\n",
    "\n",
    "X_train = tokenizer.texts_to_sequences(X_train)\n",
    "X_test = tokenizer.texts_to_sequences(X_test)"
   ]
  },
  {
   "cell_type": "code",
   "execution_count": 20,
   "metadata": {},
   "outputs": [],
   "source": [
    "# Adding 1 because of reserved 0 index\n",
    "vocab_size = len(tokenizer.word_index) + 1\n",
    "\n",
    "maxlen = 100\n",
    "\n",
    "X_train = pad_sequences(X_train, padding='post', maxlen=maxlen)\n",
    "X_test = pad_sequences(X_test, padding='post', maxlen=maxlen)\n"
   ]
  },
  {
   "cell_type": "code",
   "execution_count": 21,
   "metadata": {},
   "outputs": [],
   "source": [
    "from numpy import array\n",
    "from numpy import asarray\n",
    "from numpy import zeros\n",
    "\n",
    "embeddings_dictionary = dict()\n",
    "glove_file = open('./glove.twitter.27B/glove.twitter.27B.100d.txt', encoding=\"utf8\")\n",
    "\n",
    "for line in glove_file:\n",
    "    records = line.split()\n",
    "    word = records[0]\n",
    "    vector_dimensions = asarray(records[1:], dtype='float32')\n",
    "    embeddings_dictionary [word] = vector_dimensions\n",
    "glove_file.close()"
   ]
  },
  {
   "cell_type": "code",
   "execution_count": 22,
   "metadata": {},
   "outputs": [],
   "source": [
    "embedding_matrix = zeros((vocab_size, 100))\n",
    "for word, index in tokenizer.word_index.items():\n",
    "    embedding_vector = embeddings_dictionary.get(word)\n",
    "    if embedding_vector is not None:\n",
    "        embedding_matrix[index] = embedding_vector\n"
   ]
  },
  {
   "cell_type": "code",
   "execution_count": 23,
   "metadata": {},
   "outputs": [
    {
     "name": "stdout",
     "output_type": "stream",
     "text": [
      "WARNING:tensorflow:From /anaconda3/lib/python3.7/site-packages/tensorflow/python/framework/op_def_library.py:263: colocate_with (from tensorflow.python.framework.ops) is deprecated and will be removed in a future version.\n",
      "Instructions for updating:\n",
      "Colocations handled automatically by placer.\n"
     ]
    }
   ],
   "source": [
    "model = Sequential()\n",
    "embedding_layer = Embedding(vocab_size, 100, weights=[embedding_matrix], input_length=maxlen , trainable=False)\n",
    "model.add(embedding_layer)\n",
    "\n",
    "model.add(Flatten())\n",
    "model.add(Dense(1, activation='sigmoid'))"
   ]
  },
  {
   "cell_type": "code",
   "execution_count": 24,
   "metadata": {},
   "outputs": [
    {
     "name": "stdout",
     "output_type": "stream",
     "text": [
      "_________________________________________________________________\n",
      "Layer (type)                 Output Shape              Param #   \n",
      "=================================================================\n",
      "embedding_1 (Embedding)      (None, 100, 100)          3451700   \n",
      "_________________________________________________________________\n",
      "flatten_1 (Flatten)          (None, 10000)             0         \n",
      "_________________________________________________________________\n",
      "dense_1 (Dense)              (None, 1)                 10001     \n",
      "=================================================================\n",
      "Total params: 3,461,701\n",
      "Trainable params: 10,001\n",
      "Non-trainable params: 3,451,700\n",
      "_________________________________________________________________\n",
      "None\n"
     ]
    }
   ],
   "source": [
    "model.compile(optimizer='adam', loss='binary_crossentropy', metrics=['acc'])\n",
    "\n",
    "print(model.summary())"
   ]
  },
  {
   "cell_type": "markdown",
   "metadata": {},
   "source": [
    "# Model training"
   ]
  },
  {
   "cell_type": "code",
   "execution_count": 25,
   "metadata": {},
   "outputs": [
    {
     "name": "stdout",
     "output_type": "stream",
     "text": [
      "WARNING:tensorflow:From /anaconda3/lib/python3.7/site-packages/tensorflow/python/ops/math_ops.py:3066: to_int32 (from tensorflow.python.ops.math_ops) is deprecated and will be removed in a future version.\n",
      "Instructions for updating:\n",
      "Use tf.cast instead.\n",
      "Train on 15885 samples, validate on 3972 samples\n",
      "Epoch 1/6\n",
      "15885/15885 [==============================] - 1s 35us/step - loss: 0.5572 - acc: 0.7130 - val_loss: 0.5006 - val_acc: 0.7578\n",
      "Epoch 2/6\n",
      "15885/15885 [==============================] - 0s 17us/step - loss: 0.4247 - acc: 0.8089 - val_loss: 0.4930 - val_acc: 0.7596\n",
      "Epoch 3/6\n",
      "15885/15885 [==============================] - 0s 17us/step - loss: 0.3748 - acc: 0.8393 - val_loss: 0.4993 - val_acc: 0.7581\n",
      "Epoch 4/6\n",
      "15885/15885 [==============================] - 0s 16us/step - loss: 0.3440 - acc: 0.8592 - val_loss: 0.5033 - val_acc: 0.7644\n",
      "Epoch 5/6\n",
      "15885/15885 [==============================] - 0s 17us/step - loss: 0.3229 - acc: 0.8674 - val_loss: 0.5156 - val_acc: 0.7573\n",
      "Epoch 6/6\n",
      "15885/15885 [==============================] - 0s 17us/step - loss: 0.3066 - acc: 0.8761 - val_loss: 0.5265 - val_acc: 0.7545\n"
     ]
    }
   ],
   "source": [
    "history = model.fit(X_train, y_train, batch_size=128, epochs=6, verbose=1, validation_split=0.2)"
   ]
  },
  {
   "cell_type": "markdown",
   "metadata": {},
   "source": [
    "# Evaluation of model "
   ]
  },
  {
   "cell_type": "code",
   "execution_count": 26,
   "metadata": {},
   "outputs": [
    {
     "name": "stdout",
     "output_type": "stream",
     "text": [
      "4965/4965 [==============================] - 0s 12us/step\n"
     ]
    }
   ],
   "source": [
    "score = model.evaluate(X_test, y_test, verbose=1)"
   ]
  },
  {
   "cell_type": "code",
   "execution_count": 27,
   "metadata": {},
   "outputs": [
    {
     "name": "stdout",
     "output_type": "stream",
     "text": [
      "Test Score: 0.5313199824316864\n",
      "Test Accuracy: 0.7522658610271903\n"
     ]
    }
   ],
   "source": [
    "print(\"Test Score:\", score[0])\n",
    "print(\"Test Accuracy:\", score[1])"
   ]
  },
  {
   "cell_type": "code",
   "execution_count": 28,
   "metadata": {},
   "outputs": [
    {
     "data": {
      "image/png": "[encoded data removed]",
      "text/plain": [
       "<Figure size 432x288 with 1 Axes>"
      ]
     },
     "metadata": {
      "needs_background": "light"
     },
     "output_type": "display_data"
    },
    {
     "data": {
      "image/png": "[encoded data removed]",
      "text/plain": [
       "<Figure size 432x288 with 1 Axes>"
      ]
     },
     "metadata": {
      "needs_background": "light"
     },
     "output_type": "display_data"
    }
   ],
   "source": [
    "import matplotlib.pyplot as plt\n",
    "\n",
    "plt.title('model accuracy')\n",
    "plt.ylabel('accuracy')\n",
    "plt.xlabel('epoch')\n",
    "plt.legend(['train','test'], loc='upper left')\n",
    "plt.show()\n",
    "\n",
    "plt.plot(history.history['loss'])\n",
    "plt.plot(history.history['val_loss'])\n",
    "\n",
    "plt.title('model loss')\n",
    "plt.ylabel('loss')\n",
    "plt.xlabel('epoch')\n",
    "plt.legend(['train','test'], loc='upper left')\n",
    "plt.show()"
   ]
  },
  {
   "cell_type": "markdown",
   "metadata": {},
   "source": [
    "# 2) Convolutional Neural Network"
   ]
  },
  {
   "cell_type": "code",
   "execution_count": 29,
   "metadata": {},
   "outputs": [],
   "source": [
    "from keras.layers.convolutional import Conv1D\n",
    "model = Sequential()\n",
    "\n",
    "embedding_layer = Embedding(vocab_size, 100, weights=[embedding_matrix], input_length=maxlen , trainable=False)\n",
    "model.add(embedding_layer)\n",
    "\n",
    "model.add(Conv1D(128, 5, activation='relu'))\n",
    "model.add(GlobalMaxPooling1D())\n",
    "model.add(Dense(1, activation='sigmoid'))\n",
    "model.compile(optimizer='adam', loss='binary_crossentropy', metrics=['acc'])"
   ]
  },
  {
   "cell_type": "code",
   "execution_count": 30,
   "metadata": {},
   "outputs": [
    {
     "name": "stdout",
     "output_type": "stream",
     "text": [
      "_________________________________________________________________\n",
      "Layer (type)                 Output Shape              Param #   \n",
      "=================================================================\n",
      "embedding_2 (Embedding)      (None, 100, 100)          3451700   \n",
      "_________________________________________________________________\n",
      "conv1d_1 (Conv1D)            (None, 96, 128)           64128     \n",
      "_________________________________________________________________\n",
      "global_max_pooling1d_1 (Glob (None, 128)               0         \n",
      "_________________________________________________________________\n",
      "dense_2 (Dense)              (None, 1)                 129       \n",
      "=================================================================\n",
      "Total params: 3,515,957\n",
      "Trainable params: 64,257\n",
      "Non-trainable params: 3,451,700\n",
      "_________________________________________________________________\n",
      "None\n"
     ]
    }
   ],
   "source": [
    "print(model.summary())"
   ]
  },
  {
   "cell_type": "markdown",
   "metadata": {},
   "source": [
    "# Model Training & Evaluation "
   ]
  },
  {
   "cell_type": "code",
   "execution_count": 31,
   "metadata": {},
   "outputs": [
    {
     "name": "stdout",
     "output_type": "stream",
     "text": [
      "WARNING:tensorflow:From /anaconda3/lib/python3.7/site-packages/tensorflow/python/ops/math_grad.py:102: div (from tensorflow.python.ops.math_ops) is deprecated and will be removed in a future version.\n",
      "Instructions for updating:\n",
      "Deprecated in favor of operator or tf.math.divide.\n",
      "Train on 15885 samples, validate on 3972 samples\n",
      "Epoch 1/6\n",
      "15885/15885 [==============================] - 6s 376us/step - loss: 0.4966 - acc: 0.7564 - val_loss: 0.4378 - val_acc: 0.7981\n",
      "Epoch 2/6\n",
      "15885/15885 [==============================] - 5s 329us/step - loss: 0.3761 - acc: 0.8385 - val_loss: 0.3919 - val_acc: 0.8258\n",
      "Epoch 3/6\n",
      "15885/15885 [==============================] - 5s 309us/step - loss: 0.3231 - acc: 0.8688 - val_loss: 0.3819 - val_acc: 0.8293\n",
      "Epoch 4/6\n",
      "15885/15885 [==============================] - 5s 303us/step - loss: 0.2801 - acc: 0.8938 - val_loss: 0.3704 - val_acc: 0.8406\n",
      "Epoch 5/6\n",
      "15885/15885 [==============================] - 5s 306us/step - loss: 0.2420 - acc: 0.9121 - val_loss: 0.3734 - val_acc: 0.8379\n",
      "Epoch 6/6\n",
      "15885/15885 [==============================] - 5s 307us/step - loss: 0.2061 - acc: 0.9311 - val_loss: 0.3754 - val_acc: 0.8389\n",
      "4965/4965 [==============================] - 1s 167us/step\n"
     ]
    }
   ],
   "source": [
    "history = model.fit(X_train, y_train, batch_size=128, epochs=6, verbose=1, validation_split=0.2)\n",
    "\n",
    "score = model.evaluate(X_test, y_test, verbose=1)"
   ]
  },
  {
   "cell_type": "code",
   "execution_count": 32,
   "metadata": {},
   "outputs": [
    {
     "name": "stdout",
     "output_type": "stream",
     "text": [
      "Test Score: 0.3667120654357284\n",
      "Test Accuracy: 0.8330312185417129\n"
     ]
    }
   ],
   "source": [
    "print(\"Test Score:\", score[0])\n",
    "print(\"Test Accuracy:\", score[1])"
   ]
  },
  {
   "cell_type": "code",
   "execution_count": 33,
   "metadata": {},
   "outputs": [
    {
     "data": {
      "image/png": "[encoded data removed]",
      "text/plain": [
       "<Figure size 432x288 with 1 Axes>"
      ]
     },
     "metadata": {
      "needs_background": "light"
     },
     "output_type": "display_data"
    },
    {
     "data": {
      "image/png": "[encoded data removed]",
      "text/plain": [
       "<Figure size 432x288 with 1 Axes>"
      ]
     },
     "metadata": {
      "needs_background": "light"
     },
     "output_type": "display_data"
    }
   ],
   "source": [
    "import matplotlib.pyplot as plt\n",
    "\n",
    "plt.plot(history.history['acc'])\n",
    "plt.plot(history.history['val_acc'])\n",
    "\n",
    "plt.title('model accuracy')\n",
    "plt.ylabel('accuracy')\n",
    "plt.xlabel('epoch')\n",
    "plt.legend(['train','test'], loc = 'upper left')\n",
    "plt.show()\n",
    "\n",
    "plt.plot(history.history['loss'])\n",
    "plt.plot(history.history['val_loss'])\n",
    "\n",
    "plt.title('model loss')\n",
    "plt.ylabel('loss')\n",
    "plt.xlabel('epoch')\n",
    "plt.legend(['train','test'], loc = 'upper left')\n",
    "plt.show()"
   ]
  },
  {
   "cell_type": "markdown",
   "metadata": {},
   "source": [
    "# 3) Recurrent Neural Network: LSTM (Long Short Term Memory network)"
   ]
  },
  {
   "cell_type": "code",
   "execution_count": 34,
   "metadata": {},
   "outputs": [],
   "source": [
    "from keras.layers.recurrent import LSTM\n",
    "model = Sequential()\n",
    "embedding_layer = Embedding(vocab_size, 100, weights=[embedding_matrix], input_length=maxlen , trainable=False)\n",
    "model.add(embedding_layer)\n",
    "model.add(LSTM(128))\n",
    "\n",
    "model.add(Dense(1, activation='sigmoid'))\n",
    "model.compile(optimizer='adam', loss='binary_crossentropy', metrics=['acc'])"
   ]
  },
  {
   "cell_type": "code",
   "execution_count": 35,
   "metadata": {},
   "outputs": [
    {
     "name": "stdout",
     "output_type": "stream",
     "text": [
      "_________________________________________________________________\n",
      "Layer (type)                 Output Shape              Param #   \n",
      "=================================================================\n",
      "embedding_3 (Embedding)      (None, 100, 100)          3451700   \n",
      "_________________________________________________________________\n",
      "lstm_1 (LSTM)                (None, 128)               117248    \n",
      "_________________________________________________________________\n",
      "dense_3 (Dense)              (None, 1)                 129       \n",
      "=================================================================\n",
      "Total params: 3,569,077\n",
      "Trainable params: 117,377\n",
      "Non-trainable params: 3,451,700\n",
      "_________________________________________________________________\n",
      "None\n"
     ]
    }
   ],
   "source": [
    "print(model.summary())"
   ]
  },
  {
   "cell_type": "markdown",
   "metadata": {},
   "source": [
    "# Model Training & Evaluation "
   ]
  },
  {
   "cell_type": "code",
   "execution_count": 36,
   "metadata": {},
   "outputs": [
    {
     "name": "stdout",
     "output_type": "stream",
     "text": [
      "Train on 15885 samples, validate on 3972 samples\n",
      "Epoch 1/6\n",
      "15885/15885 [==============================] - 26s 2ms/step - loss: 0.5591 - acc: 0.7184 - val_loss: 0.5351 - val_acc: 0.7518\n",
      "Epoch 2/6\n",
      "15885/15885 [==============================] - 23s 1ms/step - loss: 0.4682 - acc: 0.7902 - val_loss: 0.4385 - val_acc: 0.8039\n",
      "Epoch 3/6\n",
      "15885/15885 [==============================] - 23s 1ms/step - loss: 0.4344 - acc: 0.8077 - val_loss: 0.4261 - val_acc: 0.8097\n",
      "Epoch 4/6\n",
      "15885/15885 [==============================] - 23s 1ms/step - loss: 0.4062 - acc: 0.8218 - val_loss: 0.4017 - val_acc: 0.8250\n",
      "Epoch 5/6\n",
      "15885/15885 [==============================] - 23s 1ms/step - loss: 0.3807 - acc: 0.8344 - val_loss: 0.3836 - val_acc: 0.8278\n",
      "Epoch 6/6\n",
      "15885/15885 [==============================] - 23s 1ms/step - loss: 0.3666 - acc: 0.8405 - val_loss: 0.3867 - val_acc: 0.8293\n",
      "4965/4965 [==============================] - 3s 526us/step\n"
     ]
    }
   ],
   "source": [
    "history = model.fit(X_train, y_train, batch_size=128, epochs=6, verbose=1, validation_split=0.2)\n",
    "\n",
    "score = model.evaluate(X_test, y_test, verbose=1)\n"
   ]
  },
  {
   "cell_type": "code",
   "execution_count": 37,
   "metadata": {},
   "outputs": [
    {
     "name": "stdout",
     "output_type": "stream",
     "text": [
      "Test Score: 0.38247709490981585\n",
      "Test Accuracy: 0.8302114803625378\n"
     ]
    }
   ],
   "source": [
    "print(\"Test Score:\", score[0])\n",
    "print(\"Test Accuracy:\", score[1])"
   ]
  },
  {
   "cell_type": "code",
   "execution_count": 38,
   "metadata": {},
   "outputs": [
    {
     "data": {
      "image/png": "[encoded data removed]",
      "text/plain": [
       "<Figure size 432x288 with 1 Axes>"
      ]
     },
     "metadata": {
      "needs_background": "light"
     },
     "output_type": "display_data"
    },
    {
     "data": {
      "image/png": "[encoded data removed]",
      "text/plain": [
       "<Figure size 432x288 with 1 Axes>"
      ]
     },
     "metadata": {
      "needs_background": "light"
     },
     "output_type": "display_data"
    }
   ],
   "source": [
    "import matplotlib.pyplot as plt\n",
    "\n",
    "plt.plot(history.history['acc'])\n",
    "plt.plot(history.history['val_acc'])\n",
    "\n",
    "plt.title('model accuracy')\n",
    "plt.ylabel('accuracy')\n",
    "plt.xlabel('epoch')\n",
    "plt.legend(['train','test'], loc='upper left')\n",
    "plt.show()\n",
    "\n",
    "plt.plot(history.history['loss'])\n",
    "plt.plot(history.history['val_loss'])\n",
    "\n",
    "plt.title('model loss')\n",
    "plt.ylabel('loss')\n",
    "plt.xlabel('epoch')\n",
    "plt.legend(['train','test'], loc='upper left')\n",
    "plt.show()\n"
   ]
  },
  {
   "cell_type": "markdown",
   "metadata": {},
   "source": [
    "# Load facebook comments"
   ]
  },
  {
   "cell_type": "code",
   "execution_count": 153,
   "metadata": {},
   "outputs": [
    {
     "name": "stdout",
     "output_type": "stream",
     "text": [
      "Mega Kreuzfahrt\n",
      "Erster Post von Lachmann 😃\n",
      "Date and time: Sat Nov 23 16:09:53 2019\n",
      "error\n",
      "Date and time: Sat Nov 23 16:10:05 2019\n",
      "error\n",
      "Date and time: Sat Nov 23 16:10:16 2019\n",
      "error\n",
      "Date and time: Sat Nov 23 16:10:53 2019\n",
      "error\n",
      "Date and time: Sat Nov 23 16:10:54 2019\n",
      "error\n",
      "Date and time: Sat Nov 23 16:11:07 2019\n",
      "error\n",
      "Date and time: Sat Nov 23 16:11:16 2019\n",
      "error\n",
      "Date and time: Sat Nov 23 16:11:28 2019\n",
      "error\n",
      "Date and time: Sat Nov 23 16:11:36 2019\n",
      "error\n",
      "Date and time: Sat Nov 23 16:11:44 2019\n",
      "Date and time: Sat Nov 23 16:11:44 2019\n",
      "error\n",
      "error\n",
      "Date and time: Sat Nov 23 16:11:53 2019\n",
      "error\n",
      "Date and time: Sat Nov 23 16:14:15 2019\n",
      "error\n",
      "Date and time: Sat Nov 23 16:16:54 2019\n",
      "error\n",
      "Date and time: Sat Nov 23 16:17:00 2019\n",
      "error\n",
      "Date and time: Sat Nov 23 16:17:08 2019\n",
      "error\n",
      "Date and time: Sat Nov 23 16:17:18 2019\n",
      "Date and time: Sat Nov 23 18:14:21 2019\n"
     ]
    },
    {
     "name": "stderr",
     "output_type": "stream",
     "text": [
      "Exception in thread Thread-218:\n",
      "Traceback (most recent call last):\n",
      "  File \"/anaconda3/lib/python3.7/site-packages/urllib3/connection.py\", line 159, in _new_conn\n",
      "    (self._dns_host, self.port), self.timeout, **extra_kw)\n",
      "  File \"/anaconda3/lib/python3.7/site-packages/urllib3/util/connection.py\", line 57, in create_connection\n",
      "    for res in socket.getaddrinfo(host, port, family, socket.SOCK_STREAM):\n",
      "  File \"/anaconda3/lib/python3.7/socket.py\", line 748, in getaddrinfo\n",
      "    for res in _socket.getaddrinfo(host, port, family, type, proto, flags):\n",
      "socket.gaierror: [Errno 8] nodename nor servname provided, or not known\n",
      "\n",
      "During handling of the above exception, another exception occurred:\n",
      "\n",
      "Traceback (most recent call last):\n",
      "  File \"/anaconda3/lib/python3.7/site-packages/urllib3/connectionpool.py\", line 600, in urlopen\n",
      "    chunked=chunked)\n",
      "  File \"/anaconda3/lib/python3.7/site-packages/urllib3/connectionpool.py\", line 343, in _make_request\n",
      "    self._validate_conn(conn)\n",
      "  File \"/anaconda3/lib/python3.7/site-packages/urllib3/connectionpool.py\", line 839, in _validate_conn\n",
      "    conn.connect()\n",
      "  File \"/anaconda3/lib/python3.7/site-packages/urllib3/connection.py\", line 301, in connect\n",
      "    conn = self._new_conn()\n",
      "  File \"/anaconda3/lib/python3.7/site-packages/urllib3/connection.py\", line 168, in _new_conn\n",
      "    self, \"Failed to establish a new connection: %s\" % e)\n",
      "urllib3.exceptions.NewConnectionError: <urllib3.connection.VerifiedHTTPSConnection object at 0x1a3fc8f0b8>: Failed to establish a new connection: [Errno 8] nodename nor servname provided, or not known\n",
      "\n",
      "During handling of the above exception, another exception occurred:\n",
      "\n",
      "Traceback (most recent call last):\n",
      "  File \"/anaconda3/lib/python3.7/site-packages/requests/adapters.py\", line 449, in send\n",
      "    timeout=timeout\n",
      "  File \"/anaconda3/lib/python3.7/site-packages/urllib3/connectionpool.py\", line 638, in urlopen\n",
      "    _stacktrace=sys.exc_info()[2])\n",
      "  File \"/anaconda3/lib/python3.7/site-packages/urllib3/util/retry.py\", line 398, in increment\n",
      "    raise MaxRetryError(_pool, url, error or ResponseError(cause))\n",
      "urllib3.exceptions.MaxRetryError: HTTPSConnectionPool(host='graph.facebook.com', port=443): Max retries exceeded with url: /v5.0/me?fields=id%2Cname%2Cposts%7Bcomments%2Csharedposts%7D&access_token=EAAlcIv35CUUBAKDaXZA3zrldcprNX4RosQpbZBAVn5WvMmzp6fwh3Q17zB6qiHMf3OZCiLdx3GSrhGma0fDkYwPGQzj6zYqQw3pdpv5ZBAUoWZAsO2OiCUKHlBvMNOp2lDx2On9q0jWZC7pC2XynX6OigHn9TswWQfpfaxGS2tIRYp1Dm2JYEHTKAlbf5juQIkoXmnKqk1wsIDFUqYebjj (Caused by NewConnectionError('<urllib3.connection.VerifiedHTTPSConnection object at 0x1a3fc8f0b8>: Failed to establish a new connection: [Errno 8] nodename nor servname provided, or not known'))\n",
      "\n",
      "During handling of the above exception, another exception occurred:\n",
      "\n",
      "Traceback (most recent call last):\n",
      "  File \"/anaconda3/lib/python3.7/threading.py\", line 917, in _bootstrap_inner\n",
      "    self.run()\n",
      "  File \"/anaconda3/lib/python3.7/threading.py\", line 1166, in run\n",
      "    self.function(*self.args, **self.kwargs)\n",
      "  File \"<ipython-input-127-f956b3f0b1d0>\", line 18, in api_request\n",
      "    r = requests.get(url=lachmann_cruises_api_url).json()\n",
      "  File \"/anaconda3/lib/python3.7/site-packages/requests/api.py\", line 75, in get\n",
      "    return request('get', url, params=params, **kwargs)\n",
      "  File \"/anaconda3/lib/python3.7/site-packages/requests/api.py\", line 60, in request\n",
      "    return session.request(method=method, url=url, **kwargs)\n",
      "  File \"/anaconda3/lib/python3.7/site-packages/requests/sessions.py\", line 533, in request\n",
      "    resp = self.send(prep, **send_kwargs)\n",
      "  File \"/anaconda3/lib/python3.7/site-packages/requests/sessions.py\", line 646, in send\n",
      "    r = adapter.send(request, **kwargs)\n",
      "  File \"/anaconda3/lib/python3.7/site-packages/requests/adapters.py\", line 516, in send\n",
      "    raise ConnectionError(e, request=request)\n",
      "requests.exceptions.ConnectionError: HTTPSConnectionPool(host='graph.facebook.com', port=443): Max retries exceeded with url: /v5.0/me?fields=id%2Cname%2Cposts%7Bcomments%2Csharedposts%7D&access_token=EAAlcIv35CUUBAKDaXZA3zrldcprNX4RosQpbZBAVn5WvMmzp6fwh3Q17zB6qiHMf3OZCiLdx3GSrhGma0fDkYwPGQzj6zYqQw3pdpv5ZBAUoWZAsO2OiCUKHlBvMNOp2lDx2On9q0jWZC7pC2XynX6OigHn9TswWQfpfaxGS2tIRYp1Dm2JYEHTKAlbf5juQIkoXmnKqk1wsIDFUqYebjj (Caused by NewConnectionError('<urllib3.connection.VerifiedHTTPSConnection object at 0x1a3fc8f0b8>: Failed to establish a new connection: [Errno 8] nodename nor servname provided, or not known'))\n",
      "\n",
      "Exception in thread Thread-217:\n",
      "Traceback (most recent call last):\n",
      "  File \"/anaconda3/lib/python3.7/site-packages/urllib3/connection.py\", line 159, in _new_conn\n",
      "    (self._dns_host, self.port), self.timeout, **extra_kw)\n",
      "  File \"/anaconda3/lib/python3.7/site-packages/urllib3/util/connection.py\", line 80, in create_connection\n",
      "    raise err\n",
      "  File \"/anaconda3/lib/python3.7/site-packages/urllib3/util/connection.py\", line 70, in create_connection\n",
      "    sock.connect(sa)\n",
      "TimeoutError: [Errno 60] Operation timed out\n",
      "\n",
      "During handling of the above exception, another exception occurred:\n",
      "\n",
      "Traceback (most recent call last):\n",
      "  File \"/anaconda3/lib/python3.7/site-packages/urllib3/connectionpool.py\", line 600, in urlopen\n",
      "    chunked=chunked)\n",
      "  File \"/anaconda3/lib/python3.7/site-packages/urllib3/connectionpool.py\", line 343, in _make_request\n",
      "    self._validate_conn(conn)\n",
      "  File \"/anaconda3/lib/python3.7/site-packages/urllib3/connectionpool.py\", line 839, in _validate_conn\n",
      "    conn.connect()\n",
      "  File \"/anaconda3/lib/python3.7/site-packages/urllib3/connection.py\", line 301, in connect\n",
      "    conn = self._new_conn()\n",
      "  File \"/anaconda3/lib/python3.7/site-packages/urllib3/connection.py\", line 168, in _new_conn\n",
      "    self, \"Failed to establish a new connection: %s\" % e)\n",
      "urllib3.exceptions.NewConnectionError: <urllib3.connection.VerifiedHTTPSConnection object at 0x1a3fca7278>: Failed to establish a new connection: [Errno 60] Operation timed out\n",
      "\n",
      "During handling of the above exception, another exception occurred:\n",
      "\n",
      "Traceback (most recent call last):\n",
      "  File \"/anaconda3/lib/python3.7/site-packages/requests/adapters.py\", line 449, in send\n",
      "    timeout=timeout\n",
      "  File \"/anaconda3/lib/python3.7/site-packages/urllib3/connectionpool.py\", line 638, in urlopen\n",
      "    _stacktrace=sys.exc_info()[2])\n",
      "  File \"/anaconda3/lib/python3.7/site-packages/urllib3/util/retry.py\", line 398, in increment\n",
      "    raise MaxRetryError(_pool, url, error or ResponseError(cause))\n",
      "urllib3.exceptions.MaxRetryError: HTTPSConnectionPool(host='graph.facebook.com', port=443): Max retries exceeded with url: /v5.0/me?fields=id%2Cname%2Cposts%7Bcomments%2Csharedposts%7D&access_token=EAAlcIv35CUUBAKDaXZA3zrldcprNX4RosQpbZBAVn5WvMmzp6fwh3Q17zB6qiHMf3OZCiLdx3GSrhGma0fDkYwPGQzj6zYqQw3pdpv5ZBAUoWZAsO2OiCUKHlBvMNOp2lDx2On9q0jWZC7pC2XynX6OigHn9TswWQfpfaxGS2tIRYp1Dm2JYEHTKAlbf5juQIkoXmnKqk1wsIDFUqYebjj (Caused by NewConnectionError('<urllib3.connection.VerifiedHTTPSConnection object at 0x1a3fca7278>: Failed to establish a new connection: [Errno 60] Operation timed out'))\n",
      "\n",
      "During handling of the above exception, another exception occurred:\n",
      "\n",
      "Traceback (most recent call last):\n",
      "  File \"/anaconda3/lib/python3.7/threading.py\", line 917, in _bootstrap_inner\n",
      "    self.run()\n",
      "  File \"/anaconda3/lib/python3.7/threading.py\", line 1166, in run\n",
      "    self.function(*self.args, **self.kwargs)\n",
      "  File \"<ipython-input-127-f956b3f0b1d0>\", line 18, in api_request\n",
      "    r = requests.get(url=lachmann_cruises_api_url).json()\n",
      "  File \"/anaconda3/lib/python3.7/site-packages/requests/api.py\", line 75, in get\n",
      "    return request('get', url, params=params, **kwargs)\n",
      "  File \"/anaconda3/lib/python3.7/site-packages/requests/api.py\", line 60, in request\n",
      "    return session.request(method=method, url=url, **kwargs)\n",
      "  File \"/anaconda3/lib/python3.7/site-packages/requests/sessions.py\", line 533, in request\n",
      "    resp = self.send(prep, **send_kwargs)\n",
      "  File \"/anaconda3/lib/python3.7/site-packages/requests/sessions.py\", line 646, in send\n",
      "    r = adapter.send(request, **kwargs)\n",
      "  File \"/anaconda3/lib/python3.7/site-packages/requests/adapters.py\", line 516, in send\n",
      "    raise ConnectionError(e, request=request)\n",
      "requests.exceptions.ConnectionError: HTTPSConnectionPool(host='graph.facebook.com', port=443): Max retries exceeded with url: /v5.0/me?fields=id%2Cname%2Cposts%7Bcomments%2Csharedposts%7D&access_token=EAAlcIv35CUUBAKDaXZA3zrldcprNX4RosQpbZBAVn5WvMmzp6fwh3Q17zB6qiHMf3OZCiLdx3GSrhGma0fDkYwPGQzj6zYqQw3pdpv5ZBAUoWZAsO2OiCUKHlBvMNOp2lDx2On9q0jWZC7pC2XynX6OigHn9TswWQfpfaxGS2tIRYp1Dm2JYEHTKAlbf5juQIkoXmnKqk1wsIDFUqYebjj (Caused by NewConnectionError('<urllib3.connection.VerifiedHTTPSConnection object at 0x1a3fca7278>: Failed to establish a new connection: [Errno 60] Operation timed out'))\n",
      "\n"
     ]
    },
    {
     "name": "stdout",
     "output_type": "stream",
     "text": [
      "Date and time: Sat Nov 23 20:08:28 2019\n"
     ]
    },
    {
     "name": "stderr",
     "output_type": "stream",
     "text": [
      "Exception in thread Thread-219:\n",
      "Traceback (most recent call last):\n",
      "  File \"/anaconda3/lib/python3.7/site-packages/urllib3/connection.py\", line 159, in _new_conn\n",
      "    (self._dns_host, self.port), self.timeout, **extra_kw)\n",
      "  File \"/anaconda3/lib/python3.7/site-packages/urllib3/util/connection.py\", line 57, in create_connection\n",
      "    for res in socket.getaddrinfo(host, port, family, socket.SOCK_STREAM):\n",
      "  File \"/anaconda3/lib/python3.7/socket.py\", line 748, in getaddrinfo\n",
      "    for res in _socket.getaddrinfo(host, port, family, type, proto, flags):\n",
      "socket.gaierror: [Errno 8] nodename nor servname provided, or not known\n",
      "\n",
      "During handling of the above exception, another exception occurred:\n",
      "\n",
      "Traceback (most recent call last):\n",
      "  File \"/anaconda3/lib/python3.7/site-packages/urllib3/connectionpool.py\", line 600, in urlopen\n",
      "    chunked=chunked)\n",
      "  File \"/anaconda3/lib/python3.7/site-packages/urllib3/connectionpool.py\", line 343, in _make_request\n",
      "    self._validate_conn(conn)\n",
      "  File \"/anaconda3/lib/python3.7/site-packages/urllib3/connectionpool.py\", line 839, in _validate_conn\n",
      "    conn.connect()\n",
      "  File \"/anaconda3/lib/python3.7/site-packages/urllib3/connection.py\", line 301, in connect\n",
      "    conn = self._new_conn()\n",
      "  File \"/anaconda3/lib/python3.7/site-packages/urllib3/connection.py\", line 168, in _new_conn\n",
      "    self, \"Failed to establish a new connection: %s\" % e)\n",
      "urllib3.exceptions.NewConnectionError: <urllib3.connection.VerifiedHTTPSConnection object at 0x1a3fc8f128>: Failed to establish a new connection: [Errno 8] nodename nor servname provided, or not known\n",
      "\n",
      "During handling of the above exception, another exception occurred:\n",
      "\n",
      "Traceback (most recent call last):\n",
      "  File \"/anaconda3/lib/python3.7/site-packages/requests/adapters.py\", line 449, in send\n",
      "    timeout=timeout\n",
      "  File \"/anaconda3/lib/python3.7/site-packages/urllib3/connectionpool.py\", line 638, in urlopen\n",
      "    _stacktrace=sys.exc_info()[2])\n",
      "  File \"/anaconda3/lib/python3.7/site-packages/urllib3/util/retry.py\", line 398, in increment\n",
      "    raise MaxRetryError(_pool, url, error or ResponseError(cause))\n",
      "urllib3.exceptions.MaxRetryError: HTTPSConnectionPool(host='graph.facebook.com', port=443): Max retries exceeded with url: /v5.0/me?fields=id%2Cname%2Cposts%7Bcomments%2Csharedposts%7D&access_token=EAAlcIv35CUUBAKDaXZA3zrldcprNX4RosQpbZBAVn5WvMmzp6fwh3Q17zB6qiHMf3OZCiLdx3GSrhGma0fDkYwPGQzj6zYqQw3pdpv5ZBAUoWZAsO2OiCUKHlBvMNOp2lDx2On9q0jWZC7pC2XynX6OigHn9TswWQfpfaxGS2tIRYp1Dm2JYEHTKAlbf5juQIkoXmnKqk1wsIDFUqYebjj (Caused by NewConnectionError('<urllib3.connection.VerifiedHTTPSConnection object at 0x1a3fc8f128>: Failed to establish a new connection: [Errno 8] nodename nor servname provided, or not known'))\n",
      "\n",
      "During handling of the above exception, another exception occurred:\n",
      "\n",
      "Traceback (most recent call last):\n",
      "  File \"/anaconda3/lib/python3.7/threading.py\", line 917, in _bootstrap_inner\n",
      "    self.run()\n",
      "  File \"/anaconda3/lib/python3.7/threading.py\", line 1166, in run\n",
      "    self.function(*self.args, **self.kwargs)\n",
      "  File \"<ipython-input-127-f956b3f0b1d0>\", line 18, in api_request\n",
      "    r = requests.get(url=lachmann_cruises_api_url).json()\n",
      "  File \"/anaconda3/lib/python3.7/site-packages/requests/api.py\", line 75, in get\n",
      "    return request('get', url, params=params, **kwargs)\n",
      "  File \"/anaconda3/lib/python3.7/site-packages/requests/api.py\", line 60, in request\n",
      "    return session.request(method=method, url=url, **kwargs)\n",
      "  File \"/anaconda3/lib/python3.7/site-packages/requests/sessions.py\", line 533, in request\n",
      "    resp = self.send(prep, **send_kwargs)\n",
      "  File \"/anaconda3/lib/python3.7/site-packages/requests/sessions.py\", line 646, in send\n",
      "    r = adapter.send(request, **kwargs)\n",
      "  File \"/anaconda3/lib/python3.7/site-packages/requests/adapters.py\", line 516, in send\n",
      "    raise ConnectionError(e, request=request)\n",
      "requests.exceptions.ConnectionError: HTTPSConnectionPool(host='graph.facebook.com', port=443): Max retries exceeded with url: /v5.0/me?fields=id%2Cname%2Cposts%7Bcomments%2Csharedposts%7D&access_token=EAAlcIv35CUUBAKDaXZA3zrldcprNX4RosQpbZBAVn5WvMmzp6fwh3Q17zB6qiHMf3OZCiLdx3GSrhGma0fDkYwPGQzj6zYqQw3pdpv5ZBAUoWZAsO2OiCUKHlBvMNOp2lDx2On9q0jWZC7pC2XynX6OigHn9TswWQfpfaxGS2tIRYp1Dm2JYEHTKAlbf5juQIkoXmnKqk1wsIDFUqYebjj (Caused by NewConnectionError('<urllib3.connection.VerifiedHTTPSConnection object at 0x1a3fc8f128>: Failed to establish a new connection: [Errno 8] nodename nor servname provided, or not known'))\n",
      "\n"
     ]
    },
    {
     "name": "stdout",
     "output_type": "stream",
     "text": [
      "Date and time: Sun Nov 24 04:15:16 2019\n"
     ]
    },
    {
     "name": "stderr",
     "output_type": "stream",
     "text": [
      "Exception in thread Thread-220:\n",
      "Traceback (most recent call last):\n",
      "  File \"/anaconda3/lib/python3.7/site-packages/urllib3/connection.py\", line 159, in _new_conn\n",
      "    (self._dns_host, self.port), self.timeout, **extra_kw)\n",
      "  File \"/anaconda3/lib/python3.7/site-packages/urllib3/util/connection.py\", line 57, in create_connection\n",
      "    for res in socket.getaddrinfo(host, port, family, socket.SOCK_STREAM):\n",
      "  File \"/anaconda3/lib/python3.7/socket.py\", line 748, in getaddrinfo\n",
      "    for res in _socket.getaddrinfo(host, port, family, type, proto, flags):\n",
      "socket.gaierror: [Errno 8] nodename nor servname provided, or not known\n",
      "\n",
      "During handling of the above exception, another exception occurred:\n",
      "\n",
      "Traceback (most recent call last):\n",
      "  File \"/anaconda3/lib/python3.7/site-packages/urllib3/connectionpool.py\", line 600, in urlopen\n",
      "    chunked=chunked)\n",
      "  File \"/anaconda3/lib/python3.7/site-packages/urllib3/connectionpool.py\", line 343, in _make_request\n",
      "    self._validate_conn(conn)\n",
      "  File \"/anaconda3/lib/python3.7/site-packages/urllib3/connectionpool.py\", line 839, in _validate_conn\n",
      "    conn.connect()\n",
      "  File \"/anaconda3/lib/python3.7/site-packages/urllib3/connection.py\", line 301, in connect\n",
      "    conn = self._new_conn()\n",
      "  File \"/anaconda3/lib/python3.7/site-packages/urllib3/connection.py\", line 168, in _new_conn\n",
      "    self, \"Failed to establish a new connection: %s\" % e)\n",
      "urllib3.exceptions.NewConnectionError: <urllib3.connection.VerifiedHTTPSConnection object at 0x1a3fcaf6d8>: Failed to establish a new connection: [Errno 8] nodename nor servname provided, or not known\n",
      "\n",
      "During handling of the above exception, another exception occurred:\n",
      "\n",
      "Traceback (most recent call last):\n",
      "  File \"/anaconda3/lib/python3.7/site-packages/requests/adapters.py\", line 449, in send\n",
      "    timeout=timeout\n",
      "  File \"/anaconda3/lib/python3.7/site-packages/urllib3/connectionpool.py\", line 638, in urlopen\n",
      "    _stacktrace=sys.exc_info()[2])\n",
      "  File \"/anaconda3/lib/python3.7/site-packages/urllib3/util/retry.py\", line 398, in increment\n",
      "    raise MaxRetryError(_pool, url, error or ResponseError(cause))\n",
      "urllib3.exceptions.MaxRetryError: HTTPSConnectionPool(host='graph.facebook.com', port=443): Max retries exceeded with url: /v5.0/me?fields=id%2Cname%2Cposts%7Bcomments%2Csharedposts%7D&access_token=EAAlcIv35CUUBAKDaXZA3zrldcprNX4RosQpbZBAVn5WvMmzp6fwh3Q17zB6qiHMf3OZCiLdx3GSrhGma0fDkYwPGQzj6zYqQw3pdpv5ZBAUoWZAsO2OiCUKHlBvMNOp2lDx2On9q0jWZC7pC2XynX6OigHn9TswWQfpfaxGS2tIRYp1Dm2JYEHTKAlbf5juQIkoXmnKqk1wsIDFUqYebjj (Caused by NewConnectionError('<urllib3.connection.VerifiedHTTPSConnection object at 0x1a3fcaf6d8>: Failed to establish a new connection: [Errno 8] nodename nor servname provided, or not known'))\n",
      "\n",
      "During handling of the above exception, another exception occurred:\n",
      "\n",
      "Traceback (most recent call last):\n",
      "  File \"/anaconda3/lib/python3.7/threading.py\", line 917, in _bootstrap_inner\n",
      "    self.run()\n",
      "  File \"/anaconda3/lib/python3.7/threading.py\", line 1166, in run\n",
      "    self.function(*self.args, **self.kwargs)\n",
      "  File \"<ipython-input-127-f956b3f0b1d0>\", line 18, in api_request\n",
      "    r = requests.get(url=lachmann_cruises_api_url).json()\n",
      "  File \"/anaconda3/lib/python3.7/site-packages/requests/api.py\", line 75, in get\n",
      "    return request('get', url, params=params, **kwargs)\n",
      "  File \"/anaconda3/lib/python3.7/site-packages/requests/api.py\", line 60, in request\n",
      "    return session.request(method=method, url=url, **kwargs)\n",
      "  File \"/anaconda3/lib/python3.7/site-packages/requests/sessions.py\", line 533, in request\n",
      "    resp = self.send(prep, **send_kwargs)\n",
      "  File \"/anaconda3/lib/python3.7/site-packages/requests/sessions.py\", line 646, in send\n",
      "    r = adapter.send(request, **kwargs)\n",
      "  File \"/anaconda3/lib/python3.7/site-packages/requests/adapters.py\", line 516, in send\n",
      "    raise ConnectionError(e, request=request)\n",
      "requests.exceptions.ConnectionError: HTTPSConnectionPool(host='graph.facebook.com', port=443): Max retries exceeded with url: /v5.0/me?fields=id%2Cname%2Cposts%7Bcomments%2Csharedposts%7D&access_token=EAAlcIv35CUUBAKDaXZA3zrldcprNX4RosQpbZBAVn5WvMmzp6fwh3Q17zB6qiHMf3OZCiLdx3GSrhGma0fDkYwPGQzj6zYqQw3pdpv5ZBAUoWZAsO2OiCUKHlBvMNOp2lDx2On9q0jWZC7pC2XynX6OigHn9TswWQfpfaxGS2tIRYp1Dm2JYEHTKAlbf5juQIkoXmnKqk1wsIDFUqYebjj (Caused by NewConnectionError('<urllib3.connection.VerifiedHTTPSConnection object at 0x1a3fcaf6d8>: Failed to establish a new connection: [Errno 8] nodename nor servname provided, or not known'))\n",
      "\n"
     ]
    },
    {
     "name": "stdout",
     "output_type": "stream",
     "text": [
      "Date and time: Sun Nov 24 11:13:54 2019\n",
      "error\n",
      "Date and time: Sun Nov 24 11:14:05 2019\n",
      "error\n",
      "Date and time: Sun Nov 24 11:14:11 2019\n",
      "error\n",
      "Date and time: Sun Nov 24 11:14:25 2019\n",
      "error\n",
      "Date and time: Sun Nov 24 11:14:34 2019\n",
      "error\n",
      "Date and time: Sun Nov 24 11:14:41 2019\n",
      "error\n",
      "Date and time: Sun Nov 24 11:14:46 2019\n",
      "error\n",
      "Date and time: Sun Nov 24 11:14:49 2019\n",
      "error\n",
      "Date and time: Sun Nov 24 11:14:55 2019\n",
      "error\n",
      "Date and time: Sun Nov 24 11:15:23 2019\n",
      "error\n",
      "Date and time: Sun Nov 24 11:15:26 2019\n",
      "error\n",
      "Date and time: Sun Nov 24 11:15:41 2019\n",
      "error\n"
     ]
    }
   ],
   "source": [
    "import json\n",
    "import requests\n",
    "\n",
    "# api-endpoint\n",
    "burghard_api_url = \"https://graph.facebook.com/v4.0/me?fields=id%2Cname%2Cposts%7Bcomments%2Clikes%2Creactions%7Bname%2Ctype%2Cid%7D%7D%2Cfeed&access_token=EAAlcIv35CUUBACAL7BAOaT1Fm4mn84wsn0yqOr2UU9R5FG59beXoymQAdA47G4jQqtcW9iZBhCrwlW0VxOQNEUTNgWK4ZBM6vjTA9BthBw7jwM55RKKVgYRt0V4tFcQZAthLHPMZBAZBZBnoHRpD3PXeZBZBilgnaxHJuHoMg7E4dpYdhZAbioeaA33hviyR6DZAj6ZBWh3896phZAo8ft9yV26Y\"\n",
    "\n",
    "lachmann_cruises_api_url = \"https://graph.facebook.com/v5.0/me?fields=id%2Cname%2Cposts%7Bcomments%2Csharedposts%7D&access_token=EAAlcIv35CUUBAKDaXZA3zrldcprNX4RosQpbZBAVn5WvMmzp6fwh3Q17zB6qiHMf3OZCiLdx3GSrhGma0fDkYwPGQzj6zYqQw3pdpv5ZBAUoWZAsO2OiCUKHlBvMNOp2lDx2On9q0jWZC7pC2XynX6OigHn9TswWQfpfaxGS2tIRYp1Dm2JYEHTKAlbf5juQIkoXmnKqk1wsIDFUqYebjj\" \n",
    "\n",
    "new_url =  \"https://graph.facebook.com/v5.0/me?fields=id%2Cname%2Clikes%2Cposts&access_token=EAAlcIv35CUUBAEXpcPy1a1OtHIrEw3qD79EZBZCk0oAPBYO8F7tvg5xKvV3XcbevYdgwvjE9vTXVAc4cW014I5FkGlpIQgjAZAi8c0C0cIJSNqYzqJfP78Bq1Cdc6u8mITjpdRZCx73dsrjYyfQsLiKRZCdAShWSpHrFHj7CXbvim8hYSjFbwWreIt2mOUZAmATaXqTHNUhKdXsO9cNHxS\"\n",
    "\n",
    "response = requests.get(new_url)\n",
    "json_data = json.loads(response.text)\n",
    "posts = json_data['posts']\n",
    "\n",
    "\n",
    "for i in posts['data']:\n",
    "    message = i['message']\n",
    "    print(message)"
   ]
  },
  {
   "cell_type": "markdown",
   "metadata": {},
   "source": [
    "# Load facebook comments"
   ]
  },
  {
   "cell_type": "markdown",
   "metadata": {},
   "source": [
    "# Predict sentiments"
   ]
  },
  {
   "cell_type": "code",
   "execution_count": 39,
   "metadata": {},
   "outputs": [
    {
     "name": "stdout",
     "output_type": "stream",
     "text": [
      "We travel for work and m constantly looking for new and intersting places to stay The Inn at The Black Olive was perfect didn feel like was stuck in another hotel but rather staying somewhere fun and relaxing The location was amazing and the beds are really comfortable The restaurant upstairs was excellent Everyone was really nice and helpful only had few thoughts that weren totally positive but they in no way will keep me from staying there every time we re in Baltimore for work The TV in the living room was on the smaller side As don watch TV lot that doesn really matter to me There was no dock or stereo hookup for an ipod Would have been nice but again wasn there to just sit in the room for hours They only carried glass bottles for water get why for sure but it would have been nice to have something more easy to carry outside the hotel Maybe have water bottles in the room that they can charge for \n"
     ]
    }
   ],
   "source": [
    "instance = X[57]\n",
    "\n",
    "print(instance)\n"
   ]
  },
  {
   "cell_type": "markdown",
   "metadata": {},
   "source": [
    "####  - convert review into numeric form (using the tokenizer)\n",
    "####  - text_to_sequences method will convert the sentence into its numeric counter part\n",
    "####  - positive = 1, negative = 0\n",
    "####  - sigmoid function predicts floating value between 0 and 1. \n",
    "####  - value < 0.5 = negative sentiment \n",
    "####  - value > 0.5 = positive sentiment \n"
   ]
  },
  {
   "cell_type": "code",
   "execution_count": 10,
   "metadata": {},
   "outputs": [
    {
     "ename": "NameError",
     "evalue": "name 'tokenizer' is not defined",
     "output_type": "error",
     "traceback": [
      "\u001b[0;31m---------------------------------------------------------------------------\u001b[0m",
      "\u001b[0;31mNameError\u001b[0m                                 Traceback (most recent call last)",
      "\u001b[0;32m<ipython-input-10-1296fb7a7af8>\u001b[0m in \u001b[0;36m<module>\u001b[0;34m\u001b[0m\n\u001b[1;32m     10\u001b[0m \u001b[0mdf_test\u001b[0m\u001b[0;34m.\u001b[0m\u001b[0mhead\u001b[0m\u001b[0;34m(\u001b[0m\u001b[0;34m)\u001b[0m\u001b[0;34m\u001b[0m\u001b[0;34m\u001b[0m\u001b[0m\n\u001b[1;32m     11\u001b[0m \u001b[0;32mfor\u001b[0m \u001b[0mi\u001b[0m \u001b[0;32min\u001b[0m \u001b[0mdf_test\u001b[0m\u001b[0;34m:\u001b[0m\u001b[0;34m\u001b[0m\u001b[0;34m\u001b[0m\u001b[0m\n\u001b[0;32m---> 12\u001b[0;31m     \u001b[0mi\u001b[0m \u001b[0;34m=\u001b[0m \u001b[0mtokenizer\u001b[0m\u001b[0;34m.\u001b[0m\u001b[0mtexts_to_sequences\u001b[0m\u001b[0;34m(\u001b[0m\u001b[0mi\u001b[0m\u001b[0;34m)\u001b[0m\u001b[0;34m\u001b[0m\u001b[0;34m\u001b[0m\u001b[0m\n\u001b[0m\u001b[1;32m     13\u001b[0m     \u001b[0mflat_list\u001b[0m \u001b[0;34m=\u001b[0m \u001b[0;34m[\u001b[0m\u001b[0;34m]\u001b[0m\u001b[0;34m\u001b[0m\u001b[0;34m\u001b[0m\u001b[0m\n\u001b[1;32m     14\u001b[0m     \u001b[0;32mfor\u001b[0m \u001b[0msublist\u001b[0m \u001b[0;32min\u001b[0m \u001b[0minstance\u001b[0m\u001b[0;34m:\u001b[0m\u001b[0;34m\u001b[0m\u001b[0;34m\u001b[0m\u001b[0m\n",
      "\u001b[0;31mNameError\u001b[0m: name 'tokenizer' is not defined"
     ]
    }
   ],
   "source": [
    "# load test \n",
    "\n",
    "import pandas as pd\n",
    "#tokenizer = Tokenizer(num_words=5000)\n",
    "\n",
    "\n",
    "df_test = pd.read_csv('./measuring-customer-happiness/test_hp.csv', encoding='utf-8')\n",
    "#print(df_test)\n",
    "df_test = df_test['Description']\n",
    "df_test.head()\n",
    "for i in df_test:\n",
    "    i = tokenizer.texts_to_sequences(i)\n",
    "    flat_list = []\n",
    "    for sublist in instance:\n",
    "        for item in sublist:\n",
    "            flat_list.append(item)\n",
    "\n",
    "    flat_list = [flat_list]\n",
    "\n",
    "    instance = pad_sequences(flat_list, padding='post', maxlen=maxlen)\n",
    "\n",
    "    model.predict(instance)"
   ]
  },
  {
   "cell_type": "code",
   "execution_count": null,
   "metadata": {},
   "outputs": [],
   "source": []
  },
  {
   "cell_type": "code",
   "execution_count": 11,
   "metadata": {},
   "outputs": [
    {
     "ename": "NameError",
     "evalue": "name 'tokenizer' is not defined",
     "output_type": "error",
     "traceback": [
      "\u001b[0;31m---------------------------------------------------------------------------\u001b[0m",
      "\u001b[0;31mNameError\u001b[0m                                 Traceback (most recent call last)",
      "\u001b[0;32m<ipython-input-11-d693c9bf1428>\u001b[0m in \u001b[0;36m<module>\u001b[0;34m\u001b[0m\n\u001b[0;32m----> 1\u001b[0;31m \u001b[0minstance\u001b[0m \u001b[0;34m=\u001b[0m \u001b[0mtokenizer\u001b[0m\u001b[0;34m.\u001b[0m\u001b[0mtexts_to_sequences\u001b[0m\u001b[0;34m(\u001b[0m\u001b[0minstance\u001b[0m\u001b[0;34m)\u001b[0m\u001b[0;34m\u001b[0m\u001b[0;34m\u001b[0m\u001b[0m\n\u001b[0m\u001b[1;32m      2\u001b[0m \u001b[0;34m\u001b[0m\u001b[0m\n\u001b[1;32m      3\u001b[0m \u001b[0mflat_list\u001b[0m \u001b[0;34m=\u001b[0m \u001b[0;34m[\u001b[0m\u001b[0;34m]\u001b[0m\u001b[0;34m\u001b[0m\u001b[0;34m\u001b[0m\u001b[0m\n\u001b[1;32m      4\u001b[0m \u001b[0;32mfor\u001b[0m \u001b[0msublist\u001b[0m \u001b[0;32min\u001b[0m \u001b[0minstance\u001b[0m\u001b[0;34m:\u001b[0m\u001b[0;34m\u001b[0m\u001b[0;34m\u001b[0m\u001b[0m\n\u001b[1;32m      5\u001b[0m     \u001b[0;32mfor\u001b[0m \u001b[0mitem\u001b[0m \u001b[0;32min\u001b[0m \u001b[0msublist\u001b[0m\u001b[0;34m:\u001b[0m\u001b[0;34m\u001b[0m\u001b[0;34m\u001b[0m\u001b[0m\n",
      "\u001b[0;31mNameError\u001b[0m: name 'tokenizer' is not defined"
     ]
    }
   ],
   "source": [
    "instance = tokenizer.texts_to_sequences(instance)\n",
    "\n",
    "flat_list = []\n",
    "for sublist in instance:\n",
    "    for item in sublist:\n",
    "        flat_list.append(item)\n",
    "\n",
    "flat_list = [flat_list]\n",
    "\n",
    "instance = pad_sequences(flat_list, padding='post', maxlen=maxlen)\n",
    "\n",
    "model.predict(instance)"
   ]
  },
  {
   "cell_type": "markdown",
   "metadata": {},
   "source": []
  },
  {
   "cell_type": "markdown",
   "metadata": {},
   "source": [
    "# Send email"
   ]
  },
  {
   "cell_type": "code",
   "execution_count": 85,
   "metadata": {},
   "outputs": [
    {
     "name": "stdout",
     "output_type": "stream",
     "text": [
      "Sat Nov 23 15:19:05 2019\n",
      "{\"id\":\"111346246934625\",\"name\":\"Burghard Lachmann\",\"posts\":{\"data\":[{\"id\":\"111346246934625_111339746935275\",\"comments\":{\"data\":[\n",
      "{\"created_time\":\"2019-09-28T09:29:49+0000\",\"from\":{\"name\":\"Burghard Lachmann\",\"id\":\"111346246934625\"},\"message\":\"Super Positiv \\\n",
      "ud83d\\ude0d\",\"id\":\"111339746935275_111343456934904\"},{\"created_time\":\"2019-09-28T09:30:09+0000\",\"from\":{\"name\":\"Burghard Lachman\n",
      "n\",\"id\":\"111346246934625\"},\"message\":\"Super Negativ \\ud83e\\udd2c\",\"id\":\"111339746935275_111343890268194\"}],\"paging\":{\"cursors\":{\n",
      "\"before\":\"WTI5dGJXVnVkRjlqZAFhKemIzSTZANVEV4TXpRek5EVTJPVE0wT1RBME9qRTFOamsyTmpJNU9Eaz0ZD\",\"after\":\"WTI5dGJXVnVkRjlqZAFhKemIzSTZ\n",
      "ANVEV4TXpRek9Ea3dNalk0TVRrME9qRTFOamsyTmpNd01Eaz0ZD\"}}}},{\"id\":\"111346246934625_111306320271951\"}],\"paging\":{\"previous\":\"https:\\\n",
      "/\\/graph.facebook.com\\/v4.0\\/111346246934625\\/posts?fields=comments,sharedposts&since=1569662789&access_token=EAAlcIv35CUUBAD8Kg\n",
      "Rx7BFj6uoQmpO9OVaJy9mgXGgYoISxQeQ7IHcLlLZBCmeBFCwC3MAAm1BvT9Drd0ZA9uPZAyr4PSpWPInqlQs1T9ndAFZBMj90pUGfe4Be5A3CLOWfUqB9oq3ex9OU9S\n",
      "QD57z95EbHBkTgBPTBhJTXytMobSvIPsmlR&limit=25&__paging_token=enc_AdAH3gDDyRlvu4d09OUIW95lJKFMHEeQo9E2KJL2nqQtRpKmUebPuddzaEiZAYTN\n",
      "L6cA1qUZBbRdRCrjCKQ8sv2cqYw7c5HzNyps7LkyLIDKDWMQZDZD&__previous=1\",\"next\":\"https:\\/\\/graph.facebook.com\\/v4.0\\/111346246934625\\/\n",
      "posts?fields=comments,sharedposts&access_token=EAAlcIv35CUUBAD8KgRx7BFj6uoQmpO9OVaJy9mgXGgYoISxQeQ7IHcLlLZBCmeBFCwC3MAAm1BvT9Drd\n",
      "0ZA9uPZAyr4PSpWPInqlQs1T9ndAFZBMj90pUGfe4Be5A3CLOWfUqB9oq3ex9OU9SQD57z95EbHBkTgBPTBhJTXytMobSvIPsmlR&limit=25&until=-620758800&_\n",
      "_paging_token=enc_AdBYNLWPYLZBzKIVZAk0ZBy8spbBt1HKHFdbY4tVK7QpPlw8QnAPImAptI0sT35oZCfM9ZB29ZCwrxJ6D6l5RsUUoukdBewmrYnHQvy3RqfLzG\n",
      "AYFuRQZDZD\"}}}\n",
      "Sat Nov 23 15:19:10 2019\n",
      "{\"id\":\"111346246934625\",\"name\":\"Burghard Lachmann\",\"posts\":{\"data\":[{\"id\":\"111346246934625_111339746935275\",\"comments\":{\"data\":[\n",
      "{\"created_time\":\"2019-09-28T09:29:49+0000\",\"from\":{\"name\":\"Burghard Lachmann\",\"id\":\"111346246934625\"},\"message\":\"Super Positiv \\\n",
      "ud83d\\ude0d\",\"id\":\"111339746935275_111343456934904\"},{\"created_time\":\"2019-09-28T09:30:09+0000\",\"from\":{\"name\":\"Burghard Lachman\n",
      "n\",\"id\":\"111346246934625\"},\"message\":\"Super Negativ \\ud83e\\udd2c\",\"id\":\"111339746935275_111343890268194\"}],\"paging\":{\"cursors\":{\n",
      "\"before\":\"WTI5dGJXVnVkRjlqZAFhKemIzSTZANVEV4TXpRek5EVTJPVE0wT1RBME9qRTFOamsyTmpJNU9Eaz0ZD\",\"after\":\"WTI5dGJXVnVkRjlqZAFhKemIzSTZ\n",
      "ANVEV4TXpRek9Ea3dNalk0TVRrME9qRTFOamsyTmpNd01Eaz0ZD\"}}}},{\"id\":\"111346246934625_111306320271951\"}],\"paging\":{\"previous\":\"https:\\\n",
      "/\\/graph.facebook.com\\/v4.0\\/111346246934625\\/posts?fields=comments,sharedposts&since=1569662789&access_token=EAAlcIv35CUUBAD8Kg\n",
      "Rx7BFj6uoQmpO9OVaJy9mgXGgYoISxQeQ7IHcLlLZBCmeBFCwC3MAAm1BvT9Drd0ZA9uPZAyr4PSpWPInqlQs1T9ndAFZBMj90pUGfe4Be5A3CLOWfUqB9oq3ex9OU9S\n",
      "QD57z95EbHBkTgBPTBhJTXytMobSvIPsmlR&limit=25&__paging_token=enc_AdAH3gDDyRlvu4d09OUIW95lJKFMHEeQo9E2KJL2nqQtRpKmUebPuddzaEiZAYTN\n",
      "L6cA1qUZBbRdRCrjCKQ8sv2cqYw7c5HzNyps7LkyLIDKDWMQZDZD&__previous=1\",\"next\":\"https:\\/\\/graph.facebook.com\\/v4.0\\/111346246934625\\/\n",
      "posts?fields=comments,sharedposts&access_token=EAAlcIv35CUUBAD8KgRx7BFj6uoQmpO9OVaJy9mgXGgYoISxQeQ7IHcLlLZBCmeBFCwC3MAAm1BvT9Drd\n",
      "0ZA9uPZAyr4PSpWPInqlQs1T9ndAFZBMj90pUGfe4Be5A3CLOWfUqB9oq3ex9OU9SQD57z95EbHBkTgBPTBhJTXytMobSvIPsmlR&limit=25&until=-620758800&_\n",
      "_paging_token=enc_AdBYNLWPYLZBzKIVZAk0ZBy8spbBt1HKHFdbY4tVK7QpPlw8QnAPImAptI0sT35oZCfM9ZB29ZCwrxJ6D6l5RsUUoukdBewmrYnHQvy3RqfLzG\n",
      "AYFuRQZDZD\"}}}\n",
      "Sat Nov 23 15:19:20 2019\n",
      "{\"id\":\"111346246934625\",\"name\":\"Burghard Lachmann\",\"posts\":{\"data\":[{\"id\":\"111346246934625_111339746935275\",\"comments\":{\"data\":[\n",
      "{\"created_time\":\"2019-09-28T09:29:49+0000\",\"from\":{\"name\":\"Burghard Lachmann\",\"id\":\"111346246934625\"},\"message\":\"Super Positiv \\\n",
      "ud83d\\ude0d\",\"id\":\"111339746935275_111343456934904\"},{\"created_time\":\"2019-09-28T09:30:09+0000\",\"from\":{\"name\":\"Burghard Lachman\n",
      "n\",\"id\":\"111346246934625\"},\"message\":\"Super Negativ \\ud83e\\udd2c\",\"id\":\"111339746935275_111343890268194\"}],\"paging\":{\"cursors\":{\n",
      "\"before\":\"WTI5dGJXVnVkRjlqZAFhKemIzSTZANVEV4TXpRek5EVTJPVE0wT1RBME9qRTFOamsyTmpJNU9Eaz0ZD\",\"after\":\"WTI5dGJXVnVkRjlqZAFhKemIzSTZ\n",
      "ANVEV4TXpRek9Ea3dNalk0TVRrME9qRTFOamsyTmpNd01Eaz0ZD\"}}}},{\"id\":\"111346246934625_111306320271951\"}],\"paging\":{\"previous\":\"https:\\\n",
      "/\\/graph.facebook.com\\/v4.0\\/111346246934625\\/posts?fields=comments,sharedposts&since=1569662789&access_token=EAAlcIv35CUUBAD8Kg\n",
      "Rx7BFj6uoQmpO9OVaJy9mgXGgYoISxQeQ7IHcLlLZBCmeBFCwC3MAAm1BvT9Drd0ZA9uPZAyr4PSpWPInqlQs1T9ndAFZBMj90pUGfe4Be5A3CLOWfUqB9oq3ex9OU9S\n",
      "QD57z95EbHBkTgBPTBhJTXytMobSvIPsmlR&limit=25&__paging_token=enc_AdAH3gDDyRlvu4d09OUIW95lJKFMHEeQo9E2KJL2nqQtRpKmUebPuddzaEiZAYTN\n",
      "L6cA1qUZBbRdRCrjCKQ8sv2cqYw7c5HzNyps7LkyLIDKDWMQZDZD&__previous=1\",\"next\":\"https:\\/\\/graph.facebook.com\\/v4.0\\/111346246934625\\/\n",
      "posts?fields=comments,sharedposts&access_token=EAAlcIv35CUUBAD8KgRx7BFj6uoQmpO9OVaJy9mgXGgYoISxQeQ7IHcLlLZBCmeBFCwC3MAAm1BvT9Drd\n",
      "0ZA9uPZAyr4PSpWPInqlQs1T9ndAFZBMj90pUGfe4Be5A3CLOWfUqB9oq3ex9OU9SQD57z95EbHBkTgBPTBhJTXytMobSvIPsmlR&limit=25&until=-620758800&_\n",
      "_paging_token=enc_AdBYNLWPYLZBzKIVZAk0ZBy8spbBt1HKHFdbY4tVK7QpPlw8QnAPImAptI0sT35oZCfM9ZB29ZCwrxJ6D6l5RsUUoukdBewmrYnHQvy3RqfLzG\n",
      "AYFuRQZDZD\"}}}\n",
      "Sat Nov 23 15:19:36 2019\n",
      "{\"id\":\"111346246934625\",\"name\":\"Burghard Lachmann\",\"posts\":{\"data\":[{\"id\":\"111346246934625_111339746935275\",\"comments\":{\"data\":[\n",
      "{\"created_time\":\"2019-09-28T09:29:49+0000\",\"from\":{\"name\":\"Burghard Lachmann\",\"id\":\"111346246934625\"},\"message\":\"Super Positiv \\\n",
      "ud83d\\ude0d\",\"id\":\"111339746935275_111343456934904\"},{\"created_time\":\"2019-09-28T09:30:09+0000\",\"from\":{\"name\":\"Burghard Lachman\n",
      "n\",\"id\":\"111346246934625\"},\"message\":\"Super Negativ \\ud83e\\udd2c\",\"id\":\"111339746935275_111343890268194\"}],\"paging\":{\"cursors\":{\n",
      "\"before\":\"WTI5dGJXVnVkRjlqZAFhKemIzSTZANVEV4TXpRek5EVTJPVE0wT1RBME9qRTFOamsyTmpJNU9Eaz0ZD\",\"after\":\"WTI5dGJXVnVkRjlqZAFhKemIzSTZ\n",
      "ANVEV4TXpRek9Ea3dNalk0TVRrME9qRTFOamsyTmpNd01Eaz0ZD\"}}}},{\"id\":\"111346246934625_111306320271951\"}],\"paging\":{\"previous\":\"https:\\\n",
      "/\\/graph.facebook.com\\/v4.0\\/111346246934625\\/posts?fields=comments,sharedposts&since=1569662789&access_token=EAAlcIv35CUUBAD8Kg\n",
      "Rx7BFj6uoQmpO9OVaJy9mgXGgYoISxQeQ7IHcLlLZBCmeBFCwC3MAAm1BvT9Drd0ZA9uPZAyr4PSpWPInqlQs1T9ndAFZBMj90pUGfe4Be5A3CLOWfUqB9oq3ex9OU9S\n",
      "QD57z95EbHBkTgBPTBhJTXytMobSvIPsmlR&limit=25&__paging_token=enc_AdAH3gDDyRlvu4d09OUIW95lJKFMHEeQo9E2KJL2nqQtRpKmUebPuddzaEiZAYTN\n",
      "L6cA1qUZBbRdRCrjCKQ8sv2cqYw7c5HzNyps7LkyLIDKDWMQZDZD&__previous=1\",\"next\":\"https:\\/\\/graph.facebook.com\\/v4.0\\/111346246934625\\/\n",
      "posts?fields=comments,sharedposts&access_token=EAAlcIv35CUUBAD8KgRx7BFj6uoQmpO9OVaJy9mgXGgYoISxQeQ7IHcLlLZBCmeBFCwC3MAAm1BvT9Drd\n",
      "0ZA9uPZAyr4PSpWPInqlQs1T9ndAFZBMj90pUGfe4Be5A3CLOWfUqB9oq3ex9OU9SQD57z95EbHBkTgBPTBhJTXytMobSvIPsmlR&limit=25&until=-620758800&_\n",
      "_paging_token=enc_AdBYNLWPYLZBzKIVZAk0ZBy8spbBt1HKHFdbY4tVK7QpPlw8QnAPImAptI0sT35oZCfM9ZB29ZCwrxJ6D6l5RsUUoukdBewmrYnHQvy3RqfLzG\n",
      "AYFuRQZDZD\"}}}\n",
      "Sat Nov 23 15:19:43 2019\n",
      "{\"id\":\"111346246934625\",\"name\":\"Burghard Lachmann\",\"posts\":{\"data\":[{\"id\":\"111346246934625_111339746935275\",\"comments\":{\"data\":[\n",
      "{\"created_time\":\"2019-09-28T09:29:49+0000\",\"from\":{\"name\":\"Burghard Lachmann\",\"id\":\"111346246934625\"},\"message\":\"Super Positiv \\\n",
      "ud83d\\ude0d\",\"id\":\"111339746935275_111343456934904\"},{\"created_time\":\"2019-09-28T09:30:09+0000\",\"from\":{\"name\":\"Burghard Lachman\n",
      "n\",\"id\":\"111346246934625\"},\"message\":\"Super Negativ \\ud83e\\udd2c\",\"id\":\"111339746935275_111343890268194\"}],\"paging\":{\"cursors\":{\n",
      "\"before\":\"WTI5dGJXVnVkRjlqZAFhKemIzSTZANVEV4TXpRek5EVTJPVE0wT1RBME9qRTFOamsyTmpJNU9Eaz0ZD\",\"after\":\"WTI5dGJXVnVkRjlqZAFhKemIzSTZ\n",
      "ANVEV4TXpRek9Ea3dNalk0TVRrME9qRTFOamsyTmpNd01Eaz0ZD\"}}}},{\"id\":\"111346246934625_111306320271951\"}],\"paging\":{\"previous\":\"https:\\\n",
      "/\\/graph.facebook.com\\/v4.0\\/111346246934625\\/posts?fields=comments,sharedposts&since=1569662789&access_token=EAAlcIv35CUUBAD8Kg\n",
      "Rx7BFj6uoQmpO9OVaJy9mgXGgYoISxQeQ7IHcLlLZBCmeBFCwC3MAAm1BvT9Drd0ZA9uPZAyr4PSpWPInqlQs1T9ndAFZBMj90pUGfe4Be5A3CLOWfUqB9oq3ex9OU9S\n",
      "QD57z95EbHBkTgBPTBhJTXytMobSvIPsmlR&limit=25&__paging_token=enc_AdAH3gDDyRlvu4d09OUIW95lJKFMHEeQo9E2KJL2nqQtRpKmUebPuddzaEiZAYTN\n",
      "L6cA1qUZBbRdRCrjCKQ8sv2cqYw7c5HzNyps7LkyLIDKDWMQZDZD&__previous=1\",\"next\":\"https:\\/\\/graph.facebook.com\\/v4.0\\/111346246934625\\/\n",
      "posts?fields=comments,sharedposts&access_token=EAAlcIv35CUUBAD8KgRx7BFj6uoQmpO9OVaJy9mgXGgYoISxQeQ7IHcLlLZBCmeBFCwC3MAAm1BvT9Drd\n",
      "0ZA9uPZAyr4PSpWPInqlQs1T9ndAFZBMj90pUGfe4Be5A3CLOWfUqB9oq3ex9OU9SQD57z95EbHBkTgBPTBhJTXytMobSvIPsmlR&limit=25&until=-620758800&_\n",
      "_paging_token=enc_AdBYNLWPYLZBzKIVZAk0ZBy8spbBt1HKHFdbY4tVK7QpPlw8QnAPImAptI0sT35oZCfM9ZB29ZCwrxJ6D6l5RsUUoukdBewmrYnHQvy3RqfLzG\n",
      "AYFuRQZDZD\"}}}\n",
      "Sat Nov 23 15:19:52 2019\n",
      "{\"id\":\"111346246934625\",\"name\":\"Burghard Lachmann\",\"posts\":{\"data\":[{\"id\":\"111346246934625_111339746935275\",\"comments\":{\"data\":[\n",
      "{\"created_time\":\"2019-09-28T09:29:49+0000\",\"from\":{\"name\":\"Burghard Lachmann\",\"id\":\"111346246934625\"},\"message\":\"Super Positiv \\\n",
      "ud83d\\ude0d\",\"id\":\"111339746935275_111343456934904\"},{\"created_time\":\"2019-09-28T09:30:09+0000\",\"from\":{\"name\":\"Burghard Lachman\n",
      "n\",\"id\":\"111346246934625\"},\"message\":\"Super Negativ \\ud83e\\udd2c\",\"id\":\"111339746935275_111343890268194\"}],\"paging\":{\"cursors\":{\n",
      "\"before\":\"WTI5dGJXVnVkRjlqZAFhKemIzSTZANVEV4TXpRek5EVTJPVE0wT1RBME9qRTFOamsyTmpJNU9Eaz0ZD\",\"after\":\"WTI5dGJXVnVkRjlqZAFhKemIzSTZ\n",
      "ANVEV4TXpRek9Ea3dNalk0TVRrME9qRTFOamsyTmpNd01Eaz0ZD\"}}}},{\"id\":\"111346246934625_111306320271951\"}],\"paging\":{\"previous\":\"https:\\\n",
      "/\\/graph.facebook.com\\/v4.0\\/111346246934625\\/posts?fields=comments,sharedposts&since=1569662789&access_token=EAAlcIv35CUUBAD8Kg\n",
      "Rx7BFj6uoQmpO9OVaJy9mgXGgYoISxQeQ7IHcLlLZBCmeBFCwC3MAAm1BvT9Drd0ZA9uPZAyr4PSpWPInqlQs1T9ndAFZBMj90pUGfe4Be5A3CLOWfUqB9oq3ex9OU9S\n",
      "QD57z95EbHBkTgBPTBhJTXytMobSvIPsmlR&limit=25&__paging_token=enc_AdAH3gDDyRlvu4d09OUIW95lJKFMHEeQo9E2KJL2nqQtRpKmUebPuddzaEiZAYTN\n",
      "L6cA1qUZBbRdRCrjCKQ8sv2cqYw7c5HzNyps7LkyLIDKDWMQZDZD&__previous=1\",\"next\":\"https:\\/\\/graph.facebook.com\\/v4.0\\/111346246934625\\/\n",
      "posts?fields=comments,sharedposts&access_token=EAAlcIv35CUUBAD8KgRx7BFj6uoQmpO9OVaJy9mgXGgYoISxQeQ7IHcLlLZBCmeBFCwC3MAAm1BvT9Drd\n",
      "0ZA9uPZAyr4PSpWPInqlQs1T9ndAFZBMj90pUGfe4Be5A3CLOWfUqB9oq3ex9OU9SQD57z95EbHBkTgBPTBhJTXytMobSvIPsmlR&limit=25&until=-620758800&_\n",
      "_paging_token=enc_AdBYNLWPYLZBzKIVZAk0ZBy8spbBt1HKHFdbY4tVK7QpPlw8QnAPImAptI0sT35oZCfM9ZB29ZCwrxJ6D6l5RsUUoukdBewmrYnHQvy3RqfLzG\n",
      "AYFuRQZDZD\"}}}\n",
      "Sat Nov 23 15:19:59 2019\n",
      "{\"id\":\"111346246934625\",\"name\":\"Burghard Lachmann\",\"posts\":{\"data\":[{\"id\":\"111346246934625_111339746935275\",\"comments\":{\"data\":[\n",
      "{\"created_time\":\"2019-09-28T09:29:49+0000\",\"from\":{\"name\":\"Burghard Lachmann\",\"id\":\"111346246934625\"},\"message\":\"Super Positiv \\\n",
      "ud83d\\ude0d\",\"id\":\"111339746935275_111343456934904\"},{\"created_time\":\"2019-09-28T09:30:09+0000\",\"from\":{\"name\":\"Burghard Lachman\n",
      "n\",\"id\":\"111346246934625\"},\"message\":\"Super Negativ \\ud83e\\udd2c\",\"id\":\"111339746935275_111343890268194\"}],\"paging\":{\"cursors\":{\n",
      "\"before\":\"WTI5dGJXVnVkRjlqZAFhKemIzSTZANVEV4TXpRek5EVTJPVE0wT1RBME9qRTFOamsyTmpJNU9Eaz0ZD\",\"after\":\"WTI5dGJXVnVkRjlqZAFhKemIzSTZ\n",
      "ANVEV4TXpRek9Ea3dNalk0TVRrME9qRTFOamsyTmpNd01Eaz0ZD\"}}}},{\"id\":\"111346246934625_111306320271951\"}],\"paging\":{\"previous\":\"https:\\\n",
      "/\\/graph.facebook.com\\/v4.0\\/111346246934625\\/posts?fields=comments,sharedposts&since=1569662789&access_token=EAAlcIv35CUUBAD8Kg\n",
      "Rx7BFj6uoQmpO9OVaJy9mgXGgYoISxQeQ7IHcLlLZBCmeBFCwC3MAAm1BvT9Drd0ZA9uPZAyr4PSpWPInqlQs1T9ndAFZBMj90pUGfe4Be5A3CLOWfUqB9oq3ex9OU9S\n",
      "QD57z95EbHBkTgBPTBhJTXytMobSvIPsmlR&limit=25&__paging_token=enc_AdAH3gDDyRlvu4d09OUIW95lJKFMHEeQo9E2KJL2nqQtRpKmUebPuddzaEiZAYTN\n",
      "L6cA1qUZBbRdRCrjCKQ8sv2cqYw7c5HzNyps7LkyLIDKDWMQZDZD&__previous=1\",\"next\":\"https:\\/\\/graph.facebook.com\\/v4.0\\/111346246934625\\/\n",
      "posts?fields=comments,sharedposts&access_token=EAAlcIv35CUUBAD8KgRx7BFj6uoQmpO9OVaJy9mgXGgYoISxQeQ7IHcLlLZBCmeBFCwC3MAAm1BvT9Drd\n",
      "0ZA9uPZAyr4PSpWPInqlQs1T9ndAFZBMj90pUGfe4Be5A3CLOWfUqB9oq3ex9OU9SQD57z95EbHBkTgBPTBhJTXytMobSvIPsmlR&limit=25&until=-620758800&_\n",
      "_paging_token=enc_AdBYNLWPYLZBzKIVZAk0ZBy8spbBt1HKHFdbY4tVK7QpPlw8QnAPImAptI0sT35oZCfM9ZB29ZCwrxJ6D6l5RsUUoukdBewmrYnHQvy3RqfLzG\n",
      "AYFuRQZDZD\"}}}\n",
      "Sat Nov 23 15:20:05 2019\n",
      "{\"id\":\"111346246934625\",\"name\":\"Burghard Lachmann\",\"posts\":{\"data\":[{\"id\":\"111346246934625_111339746935275\",\"comments\":{\"data\":[\n",
      "{\"created_time\":\"2019-09-28T09:29:49+0000\",\"from\":{\"name\":\"Burghard Lachmann\",\"id\":\"111346246934625\"},\"message\":\"Super Positiv \\\n",
      "ud83d\\ude0d\",\"id\":\"111339746935275_111343456934904\"},{\"created_time\":\"2019-09-28T09:30:09+0000\",\"from\":{\"name\":\"Burghard Lachman\n",
      "n\",\"id\":\"111346246934625\"},\"message\":\"Super Negativ \\ud83e\\udd2c\",\"id\":\"111339746935275_111343890268194\"}],\"paging\":{\"cursors\":{\n",
      "\"before\":\"WTI5dGJXVnVkRjlqZAFhKemIzSTZANVEV4TXpRek5EVTJPVE0wT1RBME9qRTFOamsyTmpJNU9Eaz0ZD\",\"after\":\"WTI5dGJXVnVkRjlqZAFhKemIzSTZ\n",
      "ANVEV4TXpRek9Ea3dNalk0TVRrME9qRTFOamsyTmpNd01Eaz0ZD\"}}}},{\"id\":\"111346246934625_111306320271951\"}],\"paging\":{\"previous\":\"https:\\\n",
      "/\\/graph.facebook.com\\/v4.0\\/111346246934625\\/posts?fields=comments,sharedposts&since=1569662789&access_token=EAAlcIv35CUUBAD8Kg\n",
      "Rx7BFj6uoQmpO9OVaJy9mgXGgYoISxQeQ7IHcLlLZBCmeBFCwC3MAAm1BvT9Drd0ZA9uPZAyr4PSpWPInqlQs1T9ndAFZBMj90pUGfe4Be5A3CLOWfUqB9oq3ex9OU9S\n",
      "QD57z95EbHBkTgBPTBhJTXytMobSvIPsmlR&limit=25&__paging_token=enc_AdAH3gDDyRlvu4d09OUIW95lJKFMHEeQo9E2KJL2nqQtRpKmUebPuddzaEiZAYTN\n",
      "L6cA1qUZBbRdRCrjCKQ8sv2cqYw7c5HzNyps7LkyLIDKDWMQZDZD&__previous=1\",\"next\":\"https:\\/\\/graph.facebook.com\\/v4.0\\/111346246934625\\/\n",
      "posts?fields=comments,sharedposts&access_token=EAAlcIv35CUUBAD8KgRx7BFj6uoQmpO9OVaJy9mgXGgYoISxQeQ7IHcLlLZBCmeBFCwC3MAAm1BvT9Drd\n",
      "0ZA9uPZAyr4PSpWPInqlQs1T9ndAFZBMj90pUGfe4Be5A3CLOWfUqB9oq3ex9OU9SQD57z95EbHBkTgBPTBhJTXytMobSvIPsmlR&limit=25&until=-620758800&_\n",
      "_paging_token=enc_AdBYNLWPYLZBzKIVZAk0ZBy8spbBt1HKHFdbY4tVK7QpPlw8QnAPImAptI0sT35oZCfM9ZB29ZCwrxJ6D6l5RsUUoukdBewmrYnHQvy3RqfLzG\n",
      "AYFuRQZDZD\"}}}\n",
      "Sat Nov 23 15:20:18 2019\n",
      "{\"id\":\"111346246934625\",\"name\":\"Burghard Lachmann\",\"posts\":{\"data\":[{\"id\":\"111346246934625_111339746935275\",\"comments\":{\"data\":[\n",
      "{\"created_time\":\"2019-09-28T09:29:49+0000\",\"from\":{\"name\":\"Burghard Lachmann\",\"id\":\"111346246934625\"},\"message\":\"Super Positiv \\\n",
      "ud83d\\ude0d\",\"id\":\"111339746935275_111343456934904\"},{\"created_time\":\"2019-09-28T09:30:09+0000\",\"from\":{\"name\":\"Burghard Lachman\n",
      "n\",\"id\":\"111346246934625\"},\"message\":\"Super Negativ \\ud83e\\udd2c\",\"id\":\"111339746935275_111343890268194\"}],\"paging\":{\"cursors\":{\n",
      "\"before\":\"WTI5dGJXVnVkRjlqZAFhKemIzSTZANVEV4TXpRek5EVTJPVE0wT1RBME9qRTFOamsyTmpJNU9Eaz0ZD\",\"after\":\"WTI5dGJXVnVkRjlqZAFhKemIzSTZ\n",
      "ANVEV4TXpRek9Ea3dNalk0TVRrME9qRTFOamsyTmpNd01Eaz0ZD\"}}}},{\"id\":\"111346246934625_111306320271951\"}],\"paging\":{\"previous\":\"https:\\\n",
      "/\\/graph.facebook.com\\/v4.0\\/111346246934625\\/posts?fields=comments,sharedposts&since=1569662789&access_token=EAAlcIv35CUUBAD8Kg\n",
      "Rx7BFj6uoQmpO9OVaJy9mgXGgYoISxQeQ7IHcLlLZBCmeBFCwC3MAAm1BvT9Drd0ZA9uPZAyr4PSpWPInqlQs1T9ndAFZBMj90pUGfe4Be5A3CLOWfUqB9oq3ex9OU9S\n",
      "QD57z95EbHBkTgBPTBhJTXytMobSvIPsmlR&limit=25&__paging_token=enc_AdAH3gDDyRlvu4d09OUIW95lJKFMHEeQo9E2KJL2nqQtRpKmUebPuddzaEiZAYTN\n",
      "L6cA1qUZBbRdRCrjCKQ8sv2cqYw7c5HzNyps7LkyLIDKDWMQZDZD&__previous=1\",\"next\":\"https:\\/\\/graph.facebook.com\\/v4.0\\/111346246934625\\/\n",
      "posts?fields=comments,sharedposts&access_token=EAAlcIv35CUUBAD8KgRx7BFj6uoQmpO9OVaJy9mgXGgYoISxQeQ7IHcLlLZBCmeBFCwC3MAAm1BvT9Drd\n",
      "0ZA9uPZAyr4PSpWPInqlQs1T9ndAFZBMj90pUGfe4Be5A3CLOWfUqB9oq3ex9OU9SQD57z95EbHBkTgBPTBhJTXytMobSvIPsmlR&limit=25&until=-620758800&_\n",
      "_paging_token=enc_AdBYNLWPYLZBzKIVZAk0ZBy8spbBt1HKHFdbY4tVK7QpPlw8QnAPImAptI0sT35oZCfM9ZB29ZCwrxJ6D6l5RsUUoukdBewmrYnHQvy3RqfLzG\n",
      "AYFuRQZDZD\"}}}\n",
      "Sat Nov 23 15:20:26 2019\n",
      "{\"id\":\"111346246934625\",\"name\":\"Burghard Lachmann\",\"posts\":{\"data\":[{\"id\":\"111346246934625_111339746935275\",\"comments\":{\"data\":[\n",
      "{\"created_time\":\"2019-09-28T09:29:49+0000\",\"from\":{\"name\":\"Burghard Lachmann\",\"id\":\"111346246934625\"},\"message\":\"Super Positiv \\\n",
      "ud83d\\ude0d\",\"id\":\"111339746935275_111343456934904\"},{\"created_time\":\"2019-09-28T09:30:09+0000\",\"from\":{\"name\":\"Burghard Lachman\n",
      "n\",\"id\":\"111346246934625\"},\"message\":\"Super Negativ \\ud83e\\udd2c\",\"id\":\"111339746935275_111343890268194\"}],\"paging\":{\"cursors\":{\n",
      "\"before\":\"WTI5dGJXVnVkRjlqZAFhKemIzSTZANVEV4TXpRek5EVTJPVE0wT1RBME9qRTFOamsyTmpJNU9Eaz0ZD\",\"after\":\"WTI5dGJXVnVkRjlqZAFhKemIzSTZ\n",
      "ANVEV4TXpRek9Ea3dNalk0TVRrME9qRTFOamsyTmpNd01Eaz0ZD\"}}}},{\"id\":\"111346246934625_111306320271951\"}],\"paging\":{\"previous\":\"https:\\\n",
      "/\\/graph.facebook.com\\/v4.0\\/111346246934625\\/posts?fields=comments,sharedposts&since=1569662789&access_token=EAAlcIv35CUUBAD8Kg\n",
      "Rx7BFj6uoQmpO9OVaJy9mgXGgYoISxQeQ7IHcLlLZBCmeBFCwC3MAAm1BvT9Drd0ZA9uPZAyr4PSpWPInqlQs1T9ndAFZBMj90pUGfe4Be5A3CLOWfUqB9oq3ex9OU9S\n",
      "QD57z95EbHBkTgBPTBhJTXytMobSvIPsmlR&limit=25&__paging_token=enc_AdAH3gDDyRlvu4d09OUIW95lJKFMHEeQo9E2KJL2nqQtRpKmUebPuddzaEiZAYTN\n",
      "L6cA1qUZBbRdRCrjCKQ8sv2cqYw7c5HzNyps7LkyLIDKDWMQZDZD&__previous=1\",\"next\":\"https:\\/\\/graph.facebook.com\\/v4.0\\/111346246934625\\/\n",
      "posts?fields=comments,sharedposts&access_token=EAAlcIv35CUUBAD8KgRx7BFj6uoQmpO9OVaJy9mgXGgYoISxQeQ7IHcLlLZBCmeBFCwC3MAAm1BvT9Drd\n",
      "0ZA9uPZAyr4PSpWPInqlQs1T9ndAFZBMj90pUGfe4Be5A3CLOWfUqB9oq3ex9OU9SQD57z95EbHBkTgBPTBhJTXytMobSvIPsmlR&limit=25&until=-620758800&_\n",
      "_paging_token=enc_AdBYNLWPYLZBzKIVZAk0ZBy8spbBt1HKHFdbY4tVK7QpPlw8QnAPImAptI0sT35oZCfM9ZB29ZCwrxJ6D6l5RsUUoukdBewmrYnHQvy3RqfLzG\n",
      "AYFuRQZDZD\"}}}\n",
      "Sat Nov 23 15:20:36 2019\n",
      "{\"id\":\"111346246934625\",\"name\":\"Burghard Lachmann\",\"posts\":{\"data\":[{\"id\":\"111346246934625_111339746935275\",\"comments\":{\"data\":[\n",
      "{\"created_time\":\"2019-09-28T09:29:49+0000\",\"from\":{\"name\":\"Burghard Lachmann\",\"id\":\"111346246934625\"},\"message\":\"Super Positiv \\\n",
      "ud83d\\ude0d\",\"id\":\"111339746935275_111343456934904\"},{\"created_time\":\"2019-09-28T09:30:09+0000\",\"from\":{\"name\":\"Burghard Lachman\n",
      "n\",\"id\":\"111346246934625\"},\"message\":\"Super Negativ \\ud83e\\udd2c\",\"id\":\"111339746935275_111343890268194\"}],\"paging\":{\"cursors\":{\n",
      "\"before\":\"WTI5dGJXVnVkRjlqZAFhKemIzSTZANVEV4TXpRek5EVTJPVE0wT1RBME9qRTFOamsyTmpJNU9Eaz0ZD\",\"after\":\"WTI5dGJXVnVkRjlqZAFhKemIzSTZ\n",
      "ANVEV4TXpRek9Ea3dNalk0TVRrME9qRTFOamsyTmpNd01Eaz0ZD\"}}}},{\"id\":\"111346246934625_111306320271951\"}],\"paging\":{\"previous\":\"https:\\\n",
      "/\\/graph.facebook.com\\/v4.0\\/111346246934625\\/posts?fields=comments,sharedposts&since=1569662789&access_token=EAAlcIv35CUUBAD8Kg\n",
      "Rx7BFj6uoQmpO9OVaJy9mgXGgYoISxQeQ7IHcLlLZBCmeBFCwC3MAAm1BvT9Drd0ZA9uPZAyr4PSpWPInqlQs1T9ndAFZBMj90pUGfe4Be5A3CLOWfUqB9oq3ex9OU9S\n",
      "QD57z95EbHBkTgBPTBhJTXytMobSvIPsmlR&limit=25&__paging_token=enc_AdAH3gDDyRlvu4d09OUIW95lJKFMHEeQo9E2KJL2nqQtRpKmUebPuddzaEiZAYTN\n",
      "L6cA1qUZBbRdRCrjCKQ8sv2cqYw7c5HzNyps7LkyLIDKDWMQZDZD&__previous=1\",\"next\":\"https:\\/\\/graph.facebook.com\\/v4.0\\/111346246934625\\/\n",
      "posts?fields=comments,sharedposts&access_token=EAAlcIv35CUUBAD8KgRx7BFj6uoQmpO9OVaJy9mgXGgYoISxQeQ7IHcLlLZBCmeBFCwC3MAAm1BvT9Drd\n",
      "0ZA9uPZAyr4PSpWPInqlQs1T9ndAFZBMj90pUGfe4Be5A3CLOWfUqB9oq3ex9OU9SQD57z95EbHBkTgBPTBhJTXytMobSvIPsmlR&limit=25&until=-620758800&_\n",
      "_paging_token=enc_AdBYNLWPYLZBzKIVZAk0ZBy8spbBt1HKHFdbY4tVK7QpPlw8QnAPImAptI0sT35oZCfM9ZB29ZCwrxJ6D6l5RsUUoukdBewmrYnHQvy3RqfLzG\n",
      "AYFuRQZDZD\"}}}\n",
      "Sat Nov 23 15:20:42 2019\n",
      "{\"id\":\"111346246934625\",\"name\":\"Burghard Lachmann\",\"posts\":{\"data\":[{\"id\":\"111346246934625_111339746935275\",\"comments\":{\"data\":[\n",
      "{\"created_time\":\"2019-09-28T09:29:49+0000\",\"from\":{\"name\":\"Burghard Lachmann\",\"id\":\"111346246934625\"},\"message\":\"Super Positiv \\\n",
      "ud83d\\ude0d\",\"id\":\"111339746935275_111343456934904\"},{\"created_time\":\"2019-09-28T09:30:09+0000\",\"from\":{\"name\":\"Burghard Lachman\n",
      "n\",\"id\":\"111346246934625\"},\"message\":\"Super Negativ \\ud83e\\udd2c\",\"id\":\"111339746935275_111343890268194\"}],\"paging\":{\"cursors\":{\n",
      "\"before\":\"WTI5dGJXVnVkRjlqZAFhKemIzSTZANVEV4TXpRek5EVTJPVE0wT1RBME9qRTFOamsyTmpJNU9Eaz0ZD\",\"after\":\"WTI5dGJXVnVkRjlqZAFhKemIzSTZ\n",
      "ANVEV4TXpRek9Ea3dNalk0TVRrME9qRTFOamsyTmpNd01Eaz0ZD\"}}}},{\"id\":\"111346246934625_111306320271951\"}],\"paging\":{\"previous\":\"https:\\\n",
      "/\\/graph.facebook.com\\/v4.0\\/111346246934625\\/posts?fields=comments,sharedposts&since=1569662789&access_token=EAAlcIv35CUUBAD8Kg\n",
      "Rx7BFj6uoQmpO9OVaJy9mgXGgYoISxQeQ7IHcLlLZBCmeBFCwC3MAAm1BvT9Drd0ZA9uPZAyr4PSpWPInqlQs1T9ndAFZBMj90pUGfe4Be5A3CLOWfUqB9oq3ex9OU9S\n",
      "QD57z95EbHBkTgBPTBhJTXytMobSvIPsmlR&limit=25&__paging_token=enc_AdAH3gDDyRlvu4d09OUIW95lJKFMHEeQo9E2KJL2nqQtRpKmUebPuddzaEiZAYTN\n",
      "L6cA1qUZBbRdRCrjCKQ8sv2cqYw7c5HzNyps7LkyLIDKDWMQZDZD&__previous=1\",\"next\":\"https:\\/\\/graph.facebook.com\\/v4.0\\/111346246934625\\/\n",
      "posts?fields=comments,sharedposts&access_token=EAAlcIv35CUUBAD8KgRx7BFj6uoQmpO9OVaJy9mgXGgYoISxQeQ7IHcLlLZBCmeBFCwC3MAAm1BvT9Drd\n",
      "0ZA9uPZAyr4PSpWPInqlQs1T9ndAFZBMj90pUGfe4Be5A3CLOWfUqB9oq3ex9OU9SQD57z95EbHBkTgBPTBhJTXytMobSvIPsmlR&limit=25&until=-620758800&_\n",
      "_paging_token=enc_AdBYNLWPYLZBzKIVZAk0ZBy8spbBt1HKHFdbY4tVK7QpPlw8QnAPImAptI0sT35oZCfM9ZB29ZCwrxJ6D6l5RsUUoukdBewmrYnHQvy3RqfLzG\n",
      "AYFuRQZDZD\"}}}\n",
      "Sat Nov 23 15:20:47 2019\n",
      "{\"id\":\"111346246934625\",\"name\":\"Burghard Lachmann\",\"posts\":{\"data\":[{\"id\":\"111346246934625_111339746935275\",\"comments\":{\"data\":[\n",
      "{\"created_time\":\"2019-09-28T09:29:49+0000\",\"from\":{\"name\":\"Burghard Lachmann\",\"id\":\"111346246934625\"},\"message\":\"Super Positiv \\\n",
      "ud83d\\ude0d\",\"id\":\"111339746935275_111343456934904\"},{\"created_time\":\"2019-09-28T09:30:09+0000\",\"from\":{\"name\":\"Burghard Lachman\n",
      "n\",\"id\":\"111346246934625\"},\"message\":\"Super Negativ \\ud83e\\udd2c\",\"id\":\"111339746935275_111343890268194\"}],\"paging\":{\"cursors\":{\n",
      "\"before\":\"WTI5dGJXVnVkRjlqZAFhKemIzSTZANVEV4TXpRek5EVTJPVE0wT1RBME9qRTFOamsyTmpJNU9Eaz0ZD\",\"after\":\"WTI5dGJXVnVkRjlqZAFhKemIzSTZ\n",
      "ANVEV4TXpRek9Ea3dNalk0TVRrME9qRTFOamsyTmpNd01Eaz0ZD\"}}}},{\"id\":\"111346246934625_111306320271951\"}],\"paging\":{\"previous\":\"https:\\\n",
      "/\\/graph.facebook.com\\/v4.0\\/111346246934625\\/posts?fields=comments,sharedposts&since=1569662789&access_token=EAAlcIv35CUUBAD8Kg\n",
      "Rx7BFj6uoQmpO9OVaJy9mgXGgYoISxQeQ7IHcLlLZBCmeBFCwC3MAAm1BvT9Drd0ZA9uPZAyr4PSpWPInqlQs1T9ndAFZBMj90pUGfe4Be5A3CLOWfUqB9oq3ex9OU9S\n",
      "QD57z95EbHBkTgBPTBhJTXytMobSvIPsmlR&limit=25&__paging_token=enc_AdAH3gDDyRlvu4d09OUIW95lJKFMHEeQo9E2KJL2nqQtRpKmUebPuddzaEiZAYTN\n",
      "L6cA1qUZBbRdRCrjCKQ8sv2cqYw7c5HzNyps7LkyLIDKDWMQZDZD&__previous=1\",\"next\":\"https:\\/\\/graph.facebook.com\\/v4.0\\/111346246934625\\/\n",
      "posts?fields=comments,sharedposts&access_token=EAAlcIv35CUUBAD8KgRx7BFj6uoQmpO9OVaJy9mgXGgYoISxQeQ7IHcLlLZBCmeBFCwC3MAAm1BvT9Drd\n",
      "0ZA9uPZAyr4PSpWPInqlQs1T9ndAFZBMj90pUGfe4Be5A3CLOWfUqB9oq3ex9OU9SQD57z95EbHBkTgBPTBhJTXytMobSvIPsmlR&limit=25&until=-620758800&_\n",
      "_paging_token=enc_AdBYNLWPYLZBzKIVZAk0ZBy8spbBt1HKHFdbY4tVK7QpPlw8QnAPImAptI0sT35oZCfM9ZB29ZCwrxJ6D6l5RsUUoukdBewmrYnHQvy3RqfLzG\n",
      "AYFuRQZDZD\"}}}\n"
     ]
    }
   ],
   "source": [
    "import smtplib, ssl\n",
    "\n",
    "port = 587  # For starttls\n",
    "smtp_server = \"smtp.gmail.com\"\n",
    "sender_email = \"burghard.lachmann@gmail.com\"\n",
    "receiver_email = \"jackyaudrey2015@gmail.com\"\n",
    "password = 'Brunhilde'\n",
    "message = \"\"\"\\\n",
    "Subject: Hi there\n",
    "\n",
    "This message is sent from Python.\"\"\"\n",
    "\n",
    "context = ssl.create_default_context()\n",
    "with smtplib.SMTP(smtp_server, port) as server:\n",
    "   # server.ehlo()  # Can be omitted\n",
    "    server.starttls(context=context)\n",
    "    #server.ehlo()  # Can be omitted\n",
    "    server.login(sender_email, password)\n",
    "    server.sendmail(sender_email, receiver_email, message)"
   ]
  },
  {
   "cell_type": "code",
   "execution_count": null,
   "metadata": {},
   "outputs": [],
   "source": []
  },
  {
   "cell_type": "code",
   "execution_count": null,
   "metadata": {},
   "outputs": [],
   "source": []
  }
 ],
 "metadata": {
  "kernelspec": {
   "display_name": "Python 3",
   "language": "python",
   "name": "python3"
  },
  "language_info": {
   "codemirror_mode": {
    "name": "ipython",
    "version": 3
   },
   "file_extension": ".py",
   "mimetype": "text/x-python",
   "name": "python",
   "nbconvert_exporter": "python",
   "pygments_lexer": "ipython3",
   "version": "3.7.3"
  }
 },
 "nbformat": 4,
 "nbformat_minor": 4
}
