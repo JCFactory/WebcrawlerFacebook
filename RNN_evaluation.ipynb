{
 "cells": [
  {
   "cell_type": "code",
   "execution_count": 1,
   "metadata": {},
   "outputs": [
    {
     "name": "stderr",
     "output_type": "stream",
     "text": [
      "/anaconda3/lib/python3.7/site-packages/tensorflow/python/framework/dtypes.py:526: FutureWarning: Passing (type, 1) or '1type' as a synonym of type is deprecated; in a future version of numpy, it will be understood as (type, (1,)) / '(1,)type'.\n",
      "  _np_qint8 = np.dtype([(\"qint8\", np.int8, 1)])\n",
      "/anaconda3/lib/python3.7/site-packages/tensorflow/python/framework/dtypes.py:527: FutureWarning: Passing (type, 1) or '1type' as a synonym of type is deprecated; in a future version of numpy, it will be understood as (type, (1,)) / '(1,)type'.\n",
      "  _np_quint8 = np.dtype([(\"quint8\", np.uint8, 1)])\n",
      "/anaconda3/lib/python3.7/site-packages/tensorflow/python/framework/dtypes.py:528: FutureWarning: Passing (type, 1) or '1type' as a synonym of type is deprecated; in a future version of numpy, it will be understood as (type, (1,)) / '(1,)type'.\n",
      "  _np_qint16 = np.dtype([(\"qint16\", np.int16, 1)])\n",
      "/anaconda3/lib/python3.7/site-packages/tensorflow/python/framework/dtypes.py:529: FutureWarning: Passing (type, 1) or '1type' as a synonym of type is deprecated; in a future version of numpy, it will be understood as (type, (1,)) / '(1,)type'.\n",
      "  _np_quint16 = np.dtype([(\"quint16\", np.uint16, 1)])\n",
      "/anaconda3/lib/python3.7/site-packages/tensorflow/python/framework/dtypes.py:530: FutureWarning: Passing (type, 1) or '1type' as a synonym of type is deprecated; in a future version of numpy, it will be understood as (type, (1,)) / '(1,)type'.\n",
      "  _np_qint32 = np.dtype([(\"qint32\", np.int32, 1)])\n",
      "/anaconda3/lib/python3.7/site-packages/tensorflow/python/framework/dtypes.py:535: FutureWarning: Passing (type, 1) or '1type' as a synonym of type is deprecated; in a future version of numpy, it will be understood as (type, (1,)) / '(1,)type'.\n",
      "  np_resource = np.dtype([(\"resource\", np.ubyte, 1)])\n",
      "Using TensorFlow backend.\n"
     ]
    },
    {
     "name": "stdout",
     "output_type": "stream",
     "text": [
      "   User_ID                                        Description  \\\n",
      "0  id10326  The room was kind of clean but had a VERY stro...   \n",
      "1  id10327  I stayed at the Crown Plaza April -- - April -...   \n",
      "2  id10328  I booked this hotel through Hotwire at the low...   \n",
      "\n",
      "        Browser_Used Device_Used Is_Response  \n",
      "0               Edge      Mobile   not happy  \n",
      "1  Internet Explorer      Mobile   not happy  \n",
      "2            Mozilla      Tablet   not happy  \n"
     ]
    }
   ],
   "source": [
    "# Build neural network\n",
    "\n",
    "# read training data\n",
    "import tensorflow as tf\n",
    "import pandas as pd\n",
    "import numpy as np\n",
    "import re\n",
    "import nltk\n",
    "from nltk.corpus import stopwords\n",
    "from nltk.tokenize import word_tokenize \n",
    "\n",
    "from numpy import array\n",
    "from keras.preprocessing.text import one_hot\n",
    "from keras.preprocessing.sequence import pad_sequences\n",
    "from keras.models import Sequential\n",
    "from keras.layers.core import Activation, Dropout, Dense\n",
    "from keras.layers import Flatten\n",
    "from keras.layers import GlobalMaxPooling1D\n",
    "from keras.layers.embeddings import Embedding\n",
    "from sklearn.model_selection import train_test_split\n",
    "from keras.preprocessing.text import Tokenizer\n",
    "\n",
    "#df = pd.Dataframe()\n",
    "df_train = pd.read_csv('./measuring-customer-happiness/train_hp.csv', encoding='utf-8')\n",
    "print(df_train.head(3))"
   ]
  },
  {
   "cell_type": "code",
   "execution_count": 2,
   "metadata": {},
   "outputs": [
    {
     "name": "stdout",
     "output_type": "stream",
     "text": [
      "                                         Description Is_Response\n",
      "0  The room was kind of clean but had a VERY stro...   not happy\n",
      "1  I stayed at the Crown Plaza April -- - April -...   not happy\n",
      "2  I booked this hotel through Hotwire at the low...   not happy\n",
      "3  Stayed here with husband and sons on the way t...       happy\n",
      "4  My girlfriends and I stayed here to celebrate ...   not happy\n"
     ]
    }
   ],
   "source": [
    "df_train = df_train[['Description', 'Is_Response']]\n",
    "print(df_train.head())"
   ]
  },
  {
   "cell_type": "code",
   "execution_count": 3,
   "metadata": {},
   "outputs": [
    {
     "name": "stdout",
     "output_type": "stream",
     "text": [
      "                                             Description Is_Response\n",
      "3      Stayed here with husband and sons on the way t...       happy\n",
      "5      We had - rooms. One was very nice and clearly ...       happy\n",
      "7      My wife & I stayed in this glorious city a whi...       happy\n",
      "8      My boyfriend and I stayed at the Fairmont on a...       happy\n",
      "10     Steps off Times Square, nice rooms, stayed - n...       happy\n",
      "11     Me, the Wife and - kids stayed here on Valenti...       happy\n",
      "13     I highly recommend the Hawthorne Terrace as an...       happy\n",
      "14     I found the hotel clean and nicely located. Go...       happy\n",
      "15     Stayed at the Elan from --th to --th October a...       happy\n",
      "18     We stayed here for - nights and were really ha...       happy\n",
      "21     This is everything you could want from a hotel...       happy\n",
      "23     I really liked this hotel. The staff were wond...       happy\n",
      "24     My wife and spent - days there this month as a...       happy\n",
      "26     Took a girls trip to LA and had no idea where ...       happy\n",
      "27     Stayed with my girlfriend for a long weekend. ...       happy\n",
      "28     I have stayed here numerous times and never be...       happy\n",
      "31     I really liked this hotel alot. \\nStaff was ex...       happy\n",
      "32     We could easily have stayed here for longer on...       happy\n",
      "33     I booked three nights at the Inn at El Gaucho ...       happy\n",
      "34     Looking for a tranquil retreat in Denver that ...       happy\n",
      "35     Booked - rooms, at check-in they upgraded all ...       happy\n",
      "37     I'm not a fan of hotels so hate business trave...       happy\n",
      "40     Okay the hotel-motel may not be a - star appea...       happy\n",
      "41     We are starwood preffered guest members and go...       happy\n",
      "42     I was in town for a conference at McCormick Pl...       happy\n",
      "43     We stayed at the hotel just two weeks ago and ...       happy\n",
      "44     Comfortable rooms,a little glitzy for my taste...       happy\n",
      "45     Got a awesome rate here - $-- a night for a Ra...       happy\n",
      "47     We spent - nights at the Sofitel Washington fr...       happy\n",
      "48     The lobby and rooms are clean, chic and lovely...       happy\n",
      "...                                                  ...         ...\n",
      "38883  I stayed here two nights on business in a stan...       happy\n",
      "38884  Location superb and rooms (almost uniquely in ...       happy\n",
      "38885  We stayed - nights over Memorial weekend. SF w...       happy\n",
      "38887  We had three nights in the Embassy Suites at t...       happy\n",
      "38888  The hotel was nice but the service I received ...       happy\n",
      "38891  We had a wonderful overnight stay here--beauti...       happy\n",
      "38892  I travel to NYC every summer from Oregon as I ...       happy\n",
      "38893  I stayed here for about a month for work and i...       happy\n",
      "38894  Stayed at the Econo Lodge for - nights whilst ...       happy\n",
      "38897  Gearing up for my first trip to Chicago, I con...       happy\n",
      "38900  If you are in downtown San Jose for a conferen...       happy\n",
      "38902  After having stayed at the Waldorf many times,...       happy\n",
      "38903  This hotel is a great choice for those staying...       happy\n",
      "38904  Although New York is a large city, whenever I ...       happy\n",
      "38906  I've stayed at the Hilton, Hyatt, Magnolia and...       happy\n",
      "38907  Great Location,short walk from Amtrak station,...       happy\n",
      "38908  When we booked this was a Renaissance Hotel bu...       happy\n",
      "38910  I have to admit I tried rebooking since I was ...       happy\n",
      "38911  Room was nice, everything seemed pretty new. R...       happy\n",
      "38912  then a great place to stay is this hotel. Not ...       happy\n",
      "38915  pretty cool hotel. stayed for a few days in mi...       happy\n",
      "38916  We stopped over in LAX on the way to Canada an...       happy\n",
      "38917  I love this hotel and will stay again for seve...       happy\n",
      "38919  I didn't get to see much of Seattle but the ho...       happy\n",
      "38920  My husband and I stayed one night at the Heart...       happy\n",
      "38921  We staed at the Handlery Hotel to Visit San Di...       happy\n",
      "38924  We booked a room with two single beds. Upon ar...       happy\n",
      "38925  Arrived via taxi from La Guardia - driving int...       happy\n",
      "38927  We arrived late at night and walked in to a ch...       happy\n",
      "38931  The Westin is a wonderfully restored grande da...       happy\n",
      "\n",
      "[26521 rows x 2 columns]\n"
     ]
    }
   ],
   "source": [
    "# select only rows with happy values and reduce happy values to same amount as not happy values\n",
    "df_happy = df_train.loc[df_train['Is_Response'] == 'happy']\n",
    "df_not_happy = df_train.loc[df_train['Is_Response'] == 'not happy']\n",
    "print(df_happy)"
   ]
  },
  {
   "cell_type": "code",
   "execution_count": 4,
   "metadata": {},
   "outputs": [
    {
     "name": "stdout",
     "output_type": "stream",
     "text": [
      "                                             Description Is_Response\n",
      "3      Stayed here with husband and sons on the way t...       happy\n",
      "5      We had - rooms. One was very nice and clearly ...       happy\n",
      "7      My wife & I stayed in this glorious city a whi...       happy\n",
      "8      My boyfriend and I stayed at the Fairmont on a...       happy\n",
      "10     Steps off Times Square, nice rooms, stayed - n...       happy\n",
      "11     Me, the Wife and - kids stayed here on Valenti...       happy\n",
      "13     I highly recommend the Hawthorne Terrace as an...       happy\n",
      "14     I found the hotel clean and nicely located. Go...       happy\n",
      "15     Stayed at the Elan from --th to --th October a...       happy\n",
      "18     We stayed here for - nights and were really ha...       happy\n",
      "21     This is everything you could want from a hotel...       happy\n",
      "23     I really liked this hotel. The staff were wond...       happy\n",
      "24     My wife and spent - days there this month as a...       happy\n",
      "26     Took a girls trip to LA and had no idea where ...       happy\n",
      "27     Stayed with my girlfriend for a long weekend. ...       happy\n",
      "28     I have stayed here numerous times and never be...       happy\n",
      "31     I really liked this hotel alot. \\nStaff was ex...       happy\n",
      "32     We could easily have stayed here for longer on...       happy\n",
      "33     I booked three nights at the Inn at El Gaucho ...       happy\n",
      "34     Looking for a tranquil retreat in Denver that ...       happy\n",
      "35     Booked - rooms, at check-in they upgraded all ...       happy\n",
      "37     I'm not a fan of hotels so hate business trave...       happy\n",
      "40     Okay the hotel-motel may not be a - star appea...       happy\n",
      "41     We are starwood preffered guest members and go...       happy\n",
      "42     I was in town for a conference at McCormick Pl...       happy\n",
      "43     We stayed at the hotel just two weeks ago and ...       happy\n",
      "44     Comfortable rooms,a little glitzy for my taste...       happy\n",
      "45     Got a awesome rate here - $-- a night for a Ra...       happy\n",
      "47     We spent - nights at the Sofitel Washington fr...       happy\n",
      "48     The lobby and rooms are clean, chic and lovely...       happy\n",
      "...                                                  ...         ...\n",
      "18176  This hotel has all the bells and whistles. Roo...       happy\n",
      "18179  Beautiful place and convenient to so many thin...       happy\n",
      "18180  RECOMMENDED. NYC is known for noise, small and...       happy\n",
      "18181  I stayed here a week for business. The hotel h...       happy\n",
      "18182  Nice wooded hotel setting (except the associat...       happy\n",
      "18183  Stayed here while attending --th grammy awards...       happy\n",
      "18184  We stayed here for a week for the Rock n Roll ...       happy\n",
      "18185  For a NYC hotel room, it was enormous. Wonderf...       happy\n",
      "18186  First off, the booking. We used Virtuoso and g...       happy\n",
      "18188  We stayed here for one night before our flight...       happy\n",
      "18189  We visited the Wellington Hotel in November --...       happy\n",
      "18190  Wonderful hotel in a very convenient location....       happy\n",
      "18191  The location of this motel is excellent. It is...       happy\n",
      "18192  The hotel staff is awesome! Very friendly and ...       happy\n",
      "18193  Stayed here for two nights with my sixteen yea...       happy\n",
      "18195  I stayed for - nights at this cozy boutique-st...       happy\n",
      "18197  The Affinia Dumont is certainly all the review...       happy\n",
      "18198  The Mark Hopkins was exceptional. Everything i...       happy\n",
      "18200  I recently spent three nights at the Marriott ...       happy\n",
      "18201  The location was great, walking distance to th...       happy\n",
      "18202  This is a great location near the Inner Harbor...       happy\n",
      "18203  Clean rooms, comfortable beds and pillows, fri...       happy\n",
      "18204  I have actually yet to stay at this hotel. Why...       happy\n",
      "18206  After a long flight to New York, we arrived to...       happy\n",
      "18207  Better than average breakfast so get the bed &...       happy\n",
      "18208  Staff here very cooperative and responded to o...       happy\n",
      "18209  We stayed at the Old Town Inn for three nights...       happy\n",
      "18211  My family of my husband, a - year old and - ch...       happy\n",
      "18212  Hyatt Place is my preferred hotel when I trave...       happy\n",
      "18213  On the downside, the shower was really uncomfo...       happy\n",
      "\n",
      "[12411 rows x 2 columns]\n"
     ]
    }
   ],
   "source": [
    "# only get the first 12411 rows of happy dataframe\n",
    "df_happy = df_happy.head(12411)\n",
    "print(df_happy)"
   ]
  },
  {
   "cell_type": "code",
   "execution_count": 5,
   "metadata": {},
   "outputs": [
    {
     "name": "stdout",
     "output_type": "stream",
     "text": [
      "                                             Description Is_Response\n",
      "3      Stayed here with husband and sons on the way t...       happy\n",
      "5      We had - rooms. One was very nice and clearly ...       happy\n",
      "7      My wife & I stayed in this glorious city a whi...       happy\n",
      "8      My boyfriend and I stayed at the Fairmont on a...       happy\n",
      "10     Steps off Times Square, nice rooms, stayed - n...       happy\n",
      "11     Me, the Wife and - kids stayed here on Valenti...       happy\n",
      "13     I highly recommend the Hawthorne Terrace as an...       happy\n",
      "14     I found the hotel clean and nicely located. Go...       happy\n",
      "15     Stayed at the Elan from --th to --th October a...       happy\n",
      "18     We stayed here for - nights and were really ha...       happy\n",
      "21     This is everything you could want from a hotel...       happy\n",
      "23     I really liked this hotel. The staff were wond...       happy\n",
      "24     My wife and spent - days there this month as a...       happy\n",
      "26     Took a girls trip to LA and had no idea where ...       happy\n",
      "27     Stayed with my girlfriend for a long weekend. ...       happy\n",
      "28     I have stayed here numerous times and never be...       happy\n",
      "31     I really liked this hotel alot. \\nStaff was ex...       happy\n",
      "32     We could easily have stayed here for longer on...       happy\n",
      "33     I booked three nights at the Inn at El Gaucho ...       happy\n",
      "34     Looking for a tranquil retreat in Denver that ...       happy\n",
      "35     Booked - rooms, at check-in they upgraded all ...       happy\n",
      "37     I'm not a fan of hotels so hate business trave...       happy\n",
      "40     Okay the hotel-motel may not be a - star appea...       happy\n",
      "41     We are starwood preffered guest members and go...       happy\n",
      "42     I was in town for a conference at McCormick Pl...       happy\n",
      "43     We stayed at the hotel just two weeks ago and ...       happy\n",
      "44     Comfortable rooms,a little glitzy for my taste...       happy\n",
      "45     Got a awesome rate here - $-- a night for a Ra...       happy\n",
      "47     We spent - nights at the Sofitel Washington fr...       happy\n",
      "48     The lobby and rooms are clean, chic and lovely...       happy\n",
      "...                                                  ...         ...\n",
      "38849  Like all the other Trip A reviewers, this is t...   not happy\n",
      "38855  I read so many positive reviews that led me to...   not happy\n",
      "38859  I don't know when the Highland Gardens had it'...   not happy\n",
      "38866  My family which incudes - yr old twin girls de...   not happy\n",
      "38869  I got a good deal on this hotel on the Web wit...   not happy\n",
      "38871  The location of this hotel is amazing! We walk...   not happy\n",
      "38872  We arrived very early and they were able to ac...   not happy\n",
      "38875  The room was confortable and clean. The view o...   not happy\n",
      "38878  We stayed at crowne plaza for our son's weddin...   not happy\n",
      "38881  My main point would be - for the money you can...   not happy\n",
      "38882  As an avid (---+ nights a year) traveler, I ha...   not happy\n",
      "38886  All the poor reviews were true. Very cold, not...   not happy\n",
      "38889  I had reservations for --------- and “STAR”the...   not happy\n",
      "38890  I had to stay here for travel because the Marr...   not happy\n",
      "38895  Check in went fast. The front desk was courteo...   not happy\n",
      "38896  We chose The Clift because it looked fun and u...   not happy\n",
      "38898  Crack pipe wrapped in tissue was found. Woke u...   not happy\n",
      "38899  Bugs in the room. Told the front desk and they...   not happy\n",
      "38901  Booked this through hotwire at $--- a night. T...   not happy\n",
      "38905  I used to live in Austin, so when I moved away...   not happy\n",
      "38909  Hotel is an old style Red Roof and has not bee...   not happy\n",
      "38913  I will never ever stay at this Hotel again. I ...   not happy\n",
      "38914  After being on a bus for -- hours and finally ...   not happy\n",
      "38918  We were excited about our stay at the Blu Aqua...   not happy\n",
      "38922  This hotel has a great location if you want to...   not happy\n",
      "38923  I am pretty impartial to this hotel. I would d...   not happy\n",
      "38926  I tend to post reviews only when I’ve had an e...   not happy\n",
      "38928  The only positive impression is location and p...   not happy\n",
      "38929  Traveling with friends for shopping and a show...   not happy\n",
      "38930  The experience was just ok. We paid extra for ...   not happy\n",
      "\n",
      "[24822 rows x 2 columns]\n"
     ]
    }
   ],
   "source": [
    "frames = [df_happy, df_not_happy]\n",
    "df_train = pd.concat(frames)\n",
    "print(df_train)"
   ]
  },
  {
   "cell_type": "code",
   "execution_count": 6,
   "metadata": {},
   "outputs": [
    {
     "data": {
      "text/plain": [
       "<matplotlib.axes._subplots.AxesSubplot at 0x1a26deee80>"
      ]
     },
     "execution_count": 6,
     "metadata": {},
     "output_type": "execute_result"
    }
   ],
   "source": [
    "import seaborn as sns\n",
    "\n",
    "sns.countplot(x='Is_Response', data=df_train)"
   ]
  },
  {
   "cell_type": "markdown",
   "metadata": {},
   "source": [
    "# Data Preprocessing"
   ]
  },
  {
   "cell_type": "code",
   "execution_count": 7,
   "metadata": {},
   "outputs": [],
   "source": [
    "def preprocess_text(sen):\n",
    "    # Removing html tags\n",
    "    sentence = remove_tags(sen)\n",
    "\n",
    "    # Remove punctuations and numbers\n",
    "    sentence = re.sub('[^a-zA-Z]', ' ', sentence)\n",
    "\n",
    "    # Single character removal\n",
    "    sentence = re.sub(r\"\\s+[a-zA-Z]\\s+\", ' ', sentence)\n",
    "\n",
    "    # Removing multiple spaces\n",
    "    sentence = re.sub(r'\\s+', ' ', sentence)\n",
    "    \n",
    "    return sentence\n",
    "\n",
    "TAG_RE = re.compile(r'<[^>]+>')\n",
    "\n",
    "def remove_tags(text):\n",
    "    return TAG_RE.sub('', text)\n",
    "\n",
    "X = []\n",
    "sentences = list(df_train['Description'])\n",
    "for sen in sentences:\n",
    "    X.append(preprocess_text(sen))"
   ]
  },
  {
   "cell_type": "code",
   "execution_count": 8,
   "metadata": {},
   "outputs": [
    {
     "data": {
      "text/plain": [
       "'My boyfriend and stayed at the Fairmont on recent trip to San Francisco could not recommend this hotel more called the hotel few weeks before to order cake to be delivered to our room on our first night to celebrate my boyfriend birthday was immediately connected directly to the pastry chef who helped me to design the most delicious cake have ever eaten in my entire life The rooms are large and luxurious with wonderful old world feel Most importantly don miss dinner at the Tonga Room What fun restaurant Definitely order Scorpion Bowl but only if you re staying in the hotel they re strong '"
      ]
     },
     "execution_count": 8,
     "metadata": {},
     "output_type": "execute_result"
    }
   ],
   "source": [
    "X[3]\n"
   ]
  },
  {
   "cell_type": "code",
   "execution_count": 9,
   "metadata": {},
   "outputs": [],
   "source": [
    "# binary classification for happy and not_happy \n",
    "\n",
    "y = df_train['Is_Response']\n",
    "\n",
    "y = np.array(list(map(lambda x: 1 if x==\"happy\" else 0, y)))"
   ]
  },
  {
   "cell_type": "code",
   "execution_count": 10,
   "metadata": {},
   "outputs": [],
   "source": [
    "X_train, X_test, y_train, y_test = train_test_split(X, y, test_size=0.20, random_state=42)"
   ]
  },
  {
   "cell_type": "code",
   "execution_count": 11,
   "metadata": {},
   "outputs": [],
   "source": [
    "# Prepare embedding layer\n",
    "tokenizer = Tokenizer(num_words=5000)\n",
    "tokenizer.fit_on_texts(X_train)\n",
    "\n",
    "X_train = tokenizer.texts_to_sequences(X_train)\n",
    "X_test = tokenizer.texts_to_sequences(X_test)"
   ]
  },
  {
   "cell_type": "code",
   "execution_count": 12,
   "metadata": {},
   "outputs": [],
   "source": [
    "# Adding 1 because of reserved 0 index\n",
    "vocab_size = len(tokenizer.word_index) + 1\n",
    "\n",
    "maxlen = 100\n",
    "\n",
    "X_train = pad_sequences(X_train, padding='post', maxlen=maxlen)\n",
    "X_test = pad_sequences(X_test, padding='post', maxlen=maxlen)\n"
   ]
  },
  {
   "cell_type": "code",
   "execution_count": 13,
   "metadata": {},
   "outputs": [],
   "source": [
    "from numpy import array\n",
    "from numpy import asarray\n",
    "from numpy import zeros\n",
    "\n",
    "embeddings_dictionary = dict()\n",
    "glove_file = open('./glove.twitter.27B/glove.twitter.27B.100d.txt', encoding=\"utf8\")\n",
    "\n",
    "for line in glove_file:\n",
    "    records = line.split()\n",
    "    word = records[0]\n",
    "    vector_dimensions = asarray(records[1:], dtype='float32')\n",
    "    embeddings_dictionary [word] = vector_dimensions\n",
    "glove_file.close()"
   ]
  },
  {
   "cell_type": "code",
   "execution_count": 14,
   "metadata": {},
   "outputs": [],
   "source": [
    "embedding_matrix = zeros((vocab_size, 100))\n",
    "for word, index in tokenizer.word_index.items():\n",
    "    embedding_vector = embeddings_dictionary.get(word)\n",
    "    if embedding_vector is not None:\n",
    "        embedding_matrix[index] = embedding_vector\n"
   ]
  },
  {
   "cell_type": "markdown",
   "metadata": {},
   "source": [
    "# Recurrent Neural Network: LSTM (Long Short Term Memory network)"
   ]
  },
  {
   "cell_type": "code",
   "execution_count": 15,
   "metadata": {},
   "outputs": [],
   "source": [
    "X_train, X_test, y_train, y_test = train_test_split(X, y, test_size=0.20, random_state=42)"
   ]
  },
  {
   "cell_type": "code",
   "execution_count": null,
   "metadata": {},
   "outputs": [],
   "source": []
  },
  {
   "cell_type": "code",
   "execution_count": null,
   "metadata": {},
   "outputs": [],
   "source": []
  },
  {
   "cell_type": "code",
   "execution_count": null,
   "metadata": {},
   "outputs": [],
   "source": []
  },
  {
   "cell_type": "code",
   "execution_count": 16,
   "metadata": {},
   "outputs": [
    {
     "name": "stdout",
     "output_type": "stream",
     "text": [
      "WARNING:tensorflow:From /anaconda3/lib/python3.7/site-packages/tensorflow/python/framework/op_def_library.py:263: colocate_with (from tensorflow.python.framework.ops) is deprecated and will be removed in a future version.\n",
      "Instructions for updating:\n",
      "Colocations handled automatically by placer.\n"
     ]
    }
   ],
   "source": [
    "from keras.layers.recurrent import LSTM\n",
    "import keras as k\n",
    "from keras.layers import Embedding\n",
    "model = k.models.Sequential()\n",
    "embedding_layer = Embedding(vocab_size, 100, weights=[embedding_matrix], input_length=maxlen , trainable=False)\n",
    "model.add(embedding_layer)\n",
    "model.add(LSTM(128))\n",
    "\n",
    "model.add(Dense(1, activation='sigmoid'))\n",
    "model.compile(optimizer='adam', loss='binary_crossentropy', metrics=['acc'])"
   ]
  },
  {
   "cell_type": "code",
   "execution_count": 17,
   "metadata": {},
   "outputs": [
    {
     "name": "stdout",
     "output_type": "stream",
     "text": [
      "_________________________________________________________________\n",
      "Layer (type)                 Output Shape              Param #   \n",
      "=================================================================\n",
      "embedding_1 (Embedding)      (None, 100, 100)          3451700   \n",
      "_________________________________________________________________\n",
      "lstm_1 (LSTM)                (None, 128)               117248    \n",
      "_________________________________________________________________\n",
      "dense_1 (Dense)              (None, 1)                 129       \n",
      "=================================================================\n",
      "Total params: 3,569,077\n",
      "Trainable params: 117,377\n",
      "Non-trainable params: 3,451,700\n",
      "_________________________________________________________________\n",
      "None\n"
     ]
    }
   ],
   "source": [
    "print(model.summary())"
   ]
  },
  {
   "cell_type": "markdown",
   "metadata": {},
   "source": [
    "# Model Training & Evaluation "
   ]
  },
  {
   "cell_type": "code",
   "execution_count": 18,
   "metadata": {},
   "outputs": [
    {
     "ename": "AttributeError",
     "evalue": "'str' object has no attribute 'ndim'",
     "output_type": "error",
     "traceback": [
      "\u001b[0;31m---------------------------------------------------------------------------\u001b[0m",
      "\u001b[0;31mAttributeError\u001b[0m                            Traceback (most recent call last)",
      "\u001b[0;32m<ipython-input-18-8dea0780cd01>\u001b[0m in \u001b[0;36m<module>\u001b[0;34m\u001b[0m\n\u001b[0;32m----> 1\u001b[0;31m \u001b[0mhistory\u001b[0m \u001b[0;34m=\u001b[0m \u001b[0mmodel\u001b[0m\u001b[0;34m.\u001b[0m\u001b[0mfit\u001b[0m\u001b[0;34m(\u001b[0m\u001b[0mX_train\u001b[0m\u001b[0;34m,\u001b[0m \u001b[0my_train\u001b[0m\u001b[0;34m,\u001b[0m \u001b[0mbatch_size\u001b[0m\u001b[0;34m=\u001b[0m\u001b[0;36m128\u001b[0m\u001b[0;34m,\u001b[0m \u001b[0mepochs\u001b[0m\u001b[0;34m=\u001b[0m\u001b[0;36m6\u001b[0m\u001b[0;34m,\u001b[0m \u001b[0mverbose\u001b[0m\u001b[0;34m=\u001b[0m\u001b[0;36m1\u001b[0m\u001b[0;34m,\u001b[0m \u001b[0mvalidation_split\u001b[0m\u001b[0;34m=\u001b[0m\u001b[0;36m0.2\u001b[0m\u001b[0;34m)\u001b[0m\u001b[0;34m\u001b[0m\u001b[0;34m\u001b[0m\u001b[0m\n\u001b[0m\u001b[1;32m      2\u001b[0m \u001b[0;34m\u001b[0m\u001b[0m\n\u001b[1;32m      3\u001b[0m \u001b[0mscore\u001b[0m \u001b[0;34m=\u001b[0m \u001b[0mmodel\u001b[0m\u001b[0;34m.\u001b[0m\u001b[0mevaluate\u001b[0m\u001b[0;34m(\u001b[0m\u001b[0mX_test\u001b[0m\u001b[0;34m,\u001b[0m \u001b[0my_test\u001b[0m\u001b[0;34m,\u001b[0m \u001b[0mverbose\u001b[0m\u001b[0;34m=\u001b[0m\u001b[0;36m1\u001b[0m\u001b[0;34m)\u001b[0m\u001b[0;34m\u001b[0m\u001b[0;34m\u001b[0m\u001b[0m\n",
      "\u001b[0;32m/anaconda3/lib/python3.7/site-packages/keras/engine/training.py\u001b[0m in \u001b[0;36mfit\u001b[0;34m(self, x, y, batch_size, epochs, verbose, callbacks, validation_split, validation_data, shuffle, class_weight, sample_weight, initial_epoch, steps_per_epoch, validation_steps, **kwargs)\u001b[0m\n\u001b[1;32m    950\u001b[0m             \u001b[0msample_weight\u001b[0m\u001b[0;34m=\u001b[0m\u001b[0msample_weight\u001b[0m\u001b[0;34m,\u001b[0m\u001b[0;34m\u001b[0m\u001b[0;34m\u001b[0m\u001b[0m\n\u001b[1;32m    951\u001b[0m             \u001b[0mclass_weight\u001b[0m\u001b[0;34m=\u001b[0m\u001b[0mclass_weight\u001b[0m\u001b[0;34m,\u001b[0m\u001b[0;34m\u001b[0m\u001b[0;34m\u001b[0m\u001b[0m\n\u001b[0;32m--> 952\u001b[0;31m             batch_size=batch_size)\n\u001b[0m\u001b[1;32m    953\u001b[0m         \u001b[0;31m# Prepare validation data.\u001b[0m\u001b[0;34m\u001b[0m\u001b[0;34m\u001b[0m\u001b[0;34m\u001b[0m\u001b[0m\n\u001b[1;32m    954\u001b[0m         \u001b[0mdo_validation\u001b[0m \u001b[0;34m=\u001b[0m \u001b[0;32mFalse\u001b[0m\u001b[0;34m\u001b[0m\u001b[0;34m\u001b[0m\u001b[0m\n",
      "\u001b[0;32m/anaconda3/lib/python3.7/site-packages/keras/engine/training.py\u001b[0m in \u001b[0;36m_standardize_user_data\u001b[0;34m(self, x, y, sample_weight, class_weight, check_array_lengths, batch_size)\u001b[0m\n\u001b[1;32m    749\u001b[0m             \u001b[0mfeed_input_shapes\u001b[0m\u001b[0;34m,\u001b[0m\u001b[0;34m\u001b[0m\u001b[0;34m\u001b[0m\u001b[0m\n\u001b[1;32m    750\u001b[0m             \u001b[0mcheck_batch_axis\u001b[0m\u001b[0;34m=\u001b[0m\u001b[0;32mFalse\u001b[0m\u001b[0;34m,\u001b[0m  \u001b[0;31m# Don't enforce the batch size.\u001b[0m\u001b[0;34m\u001b[0m\u001b[0;34m\u001b[0m\u001b[0m\n\u001b[0;32m--> 751\u001b[0;31m             exception_prefix='input')\n\u001b[0m\u001b[1;32m    752\u001b[0m \u001b[0;34m\u001b[0m\u001b[0m\n\u001b[1;32m    753\u001b[0m         \u001b[0;32mif\u001b[0m \u001b[0my\u001b[0m \u001b[0;32mis\u001b[0m \u001b[0;32mnot\u001b[0m \u001b[0;32mNone\u001b[0m\u001b[0;34m:\u001b[0m\u001b[0;34m\u001b[0m\u001b[0;34m\u001b[0m\u001b[0m\n",
      "\u001b[0;32m/anaconda3/lib/python3.7/site-packages/keras/engine/training_utils.py\u001b[0m in \u001b[0;36mstandardize_input_data\u001b[0;34m(data, names, shapes, check_batch_axis, exception_prefix)\u001b[0m\n\u001b[1;32m     90\u001b[0m         \u001b[0mdata\u001b[0m \u001b[0;34m=\u001b[0m \u001b[0mdata\u001b[0m\u001b[0;34m.\u001b[0m\u001b[0mvalues\u001b[0m \u001b[0;32mif\u001b[0m \u001b[0mdata\u001b[0m\u001b[0;34m.\u001b[0m\u001b[0m__class__\u001b[0m\u001b[0;34m.\u001b[0m\u001b[0m__name__\u001b[0m \u001b[0;34m==\u001b[0m \u001b[0;34m'DataFrame'\u001b[0m \u001b[0;32melse\u001b[0m \u001b[0mdata\u001b[0m\u001b[0;34m\u001b[0m\u001b[0;34m\u001b[0m\u001b[0m\n\u001b[1;32m     91\u001b[0m         \u001b[0mdata\u001b[0m \u001b[0;34m=\u001b[0m \u001b[0;34m[\u001b[0m\u001b[0mdata\u001b[0m\u001b[0;34m]\u001b[0m\u001b[0;34m\u001b[0m\u001b[0;34m\u001b[0m\u001b[0m\n\u001b[0;32m---> 92\u001b[0;31m     \u001b[0mdata\u001b[0m \u001b[0;34m=\u001b[0m \u001b[0;34m[\u001b[0m\u001b[0mstandardize_single_array\u001b[0m\u001b[0;34m(\u001b[0m\u001b[0mx\u001b[0m\u001b[0;34m)\u001b[0m \u001b[0;32mfor\u001b[0m \u001b[0mx\u001b[0m \u001b[0;32min\u001b[0m \u001b[0mdata\u001b[0m\u001b[0;34m]\u001b[0m\u001b[0;34m\u001b[0m\u001b[0;34m\u001b[0m\u001b[0m\n\u001b[0m\u001b[1;32m     93\u001b[0m \u001b[0;34m\u001b[0m\u001b[0m\n\u001b[1;32m     94\u001b[0m     \u001b[0;32mif\u001b[0m \u001b[0mlen\u001b[0m\u001b[0;34m(\u001b[0m\u001b[0mdata\u001b[0m\u001b[0;34m)\u001b[0m \u001b[0;34m!=\u001b[0m \u001b[0mlen\u001b[0m\u001b[0;34m(\u001b[0m\u001b[0mnames\u001b[0m\u001b[0;34m)\u001b[0m\u001b[0;34m:\u001b[0m\u001b[0;34m\u001b[0m\u001b[0;34m\u001b[0m\u001b[0m\n",
      "\u001b[0;32m/anaconda3/lib/python3.7/site-packages/keras/engine/training_utils.py\u001b[0m in \u001b[0;36m<listcomp>\u001b[0;34m(.0)\u001b[0m\n\u001b[1;32m     90\u001b[0m         \u001b[0mdata\u001b[0m \u001b[0;34m=\u001b[0m \u001b[0mdata\u001b[0m\u001b[0;34m.\u001b[0m\u001b[0mvalues\u001b[0m \u001b[0;32mif\u001b[0m \u001b[0mdata\u001b[0m\u001b[0;34m.\u001b[0m\u001b[0m__class__\u001b[0m\u001b[0;34m.\u001b[0m\u001b[0m__name__\u001b[0m \u001b[0;34m==\u001b[0m \u001b[0;34m'DataFrame'\u001b[0m \u001b[0;32melse\u001b[0m \u001b[0mdata\u001b[0m\u001b[0;34m\u001b[0m\u001b[0;34m\u001b[0m\u001b[0m\n\u001b[1;32m     91\u001b[0m         \u001b[0mdata\u001b[0m \u001b[0;34m=\u001b[0m \u001b[0;34m[\u001b[0m\u001b[0mdata\u001b[0m\u001b[0;34m]\u001b[0m\u001b[0;34m\u001b[0m\u001b[0;34m\u001b[0m\u001b[0m\n\u001b[0;32m---> 92\u001b[0;31m     \u001b[0mdata\u001b[0m \u001b[0;34m=\u001b[0m \u001b[0;34m[\u001b[0m\u001b[0mstandardize_single_array\u001b[0m\u001b[0;34m(\u001b[0m\u001b[0mx\u001b[0m\u001b[0;34m)\u001b[0m \u001b[0;32mfor\u001b[0m \u001b[0mx\u001b[0m \u001b[0;32min\u001b[0m \u001b[0mdata\u001b[0m\u001b[0;34m]\u001b[0m\u001b[0;34m\u001b[0m\u001b[0;34m\u001b[0m\u001b[0m\n\u001b[0m\u001b[1;32m     93\u001b[0m \u001b[0;34m\u001b[0m\u001b[0m\n\u001b[1;32m     94\u001b[0m     \u001b[0;32mif\u001b[0m \u001b[0mlen\u001b[0m\u001b[0;34m(\u001b[0m\u001b[0mdata\u001b[0m\u001b[0;34m)\u001b[0m \u001b[0;34m!=\u001b[0m \u001b[0mlen\u001b[0m\u001b[0;34m(\u001b[0m\u001b[0mnames\u001b[0m\u001b[0;34m)\u001b[0m\u001b[0;34m:\u001b[0m\u001b[0;34m\u001b[0m\u001b[0;34m\u001b[0m\u001b[0m\n",
      "\u001b[0;32m/anaconda3/lib/python3.7/site-packages/keras/engine/training_utils.py\u001b[0m in \u001b[0;36mstandardize_single_array\u001b[0;34m(x)\u001b[0m\n\u001b[1;32m     25\u001b[0m                 'Got tensor with shape: %s' % str(shape))\n\u001b[1;32m     26\u001b[0m         \u001b[0;32mreturn\u001b[0m \u001b[0mx\u001b[0m\u001b[0;34m\u001b[0m\u001b[0;34m\u001b[0m\u001b[0m\n\u001b[0;32m---> 27\u001b[0;31m     \u001b[0;32melif\u001b[0m \u001b[0mx\u001b[0m\u001b[0;34m.\u001b[0m\u001b[0mndim\u001b[0m \u001b[0;34m==\u001b[0m \u001b[0;36m1\u001b[0m\u001b[0;34m:\u001b[0m\u001b[0;34m\u001b[0m\u001b[0;34m\u001b[0m\u001b[0m\n\u001b[0m\u001b[1;32m     28\u001b[0m         \u001b[0mx\u001b[0m \u001b[0;34m=\u001b[0m \u001b[0mnp\u001b[0m\u001b[0;34m.\u001b[0m\u001b[0mexpand_dims\u001b[0m\u001b[0;34m(\u001b[0m\u001b[0mx\u001b[0m\u001b[0;34m,\u001b[0m \u001b[0;36m1\u001b[0m\u001b[0;34m)\u001b[0m\u001b[0;34m\u001b[0m\u001b[0;34m\u001b[0m\u001b[0m\n\u001b[1;32m     29\u001b[0m     \u001b[0;32mreturn\u001b[0m \u001b[0mx\u001b[0m\u001b[0;34m\u001b[0m\u001b[0;34m\u001b[0m\u001b[0m\n",
      "\u001b[0;31mAttributeError\u001b[0m: 'str' object has no attribute 'ndim'"
     ]
    }
   ],
   "source": [
    "history = model.fit(X_train, y_train, batch_size=128, epochs=6, verbose=1, validation_split=0.2)\n",
    "\n",
    "score = model.evaluate(X_test, y_test, verbose=1)\n"
   ]
  },
  {
   "cell_type": "code",
   "execution_count": null,
   "metadata": {},
   "outputs": [],
   "source": [
    "print(\"Test Score:\", score[0])\n",
    "print(\"Test Accuracy:\", score[1])"
   ]
  },
  {
   "cell_type": "code",
   "execution_count": null,
   "metadata": {},
   "outputs": [],
   "source": [
    "import matplotlib.pyplot as plt\n",
    "\n",
    "plt.plot(history.history['acc'])\n",
    "plt.plot(history.history['val_acc'])\n",
    "\n",
    "plt.title('model accuracy')\n",
    "plt.ylabel('accuracy')\n",
    "plt.xlabel('epoch')\n",
    "plt.legend(['train','test'], loc='upper left')\n",
    "plt.show()\n",
    "\n",
    "plt.plot(history.history['loss'])\n",
    "plt.plot(history.history['val_loss'])\n",
    "\n",
    "plt.title('model loss')\n",
    "plt.ylabel('loss')\n",
    "plt.xlabel('epoch')\n",
    "plt.legend(['train','test'], loc='upper left')\n",
    "plt.show()\n"
   ]
  },
  {
   "cell_type": "markdown",
   "metadata": {},
   "source": [
    "# Predict sentiments"
   ]
  },
  {
   "cell_type": "code",
   "execution_count": null,
   "metadata": {},
   "outputs": [],
   "source": [
    "instance = X[57]\n",
    "print(instance)"
   ]
  },
  {
   "cell_type": "markdown",
   "metadata": {},
   "source": [
    "####  - convert review into numeric form (using the tokenizer)\n",
    "####  - text_to_sequences method will convert the sentence into its numeric counter part\n",
    "####  - positive = 1, negative = 0\n",
    "####  - sigmoid function predicts floating value between 0 and 1. \n",
    "####  - value < 0.5 = negative sentiment \n",
    "####  - value > 0.5 = positive sentiment \n"
   ]
  },
  {
   "cell_type": "code",
   "execution_count": null,
   "metadata": {},
   "outputs": [],
   "source": [
    "instance = tokenizer.texts_to_sequences(instance)\n",
    "\n",
    "flat_list = []\n",
    "for sublist in instance:\n",
    "    for item in sublist:\n",
    "        flat_list.append(item)\n",
    "\n",
    "flat_list = [flat_list]\n",
    "\n",
    "instance = pad_sequences(flat_list, padding='post', maxlen=maxlen)\n",
    "\n",
    "model.predict(instance)"
   ]
  },
  {
   "cell_type": "code",
   "execution_count": null,
   "metadata": {},
   "outputs": [],
   "source": []
  }
 ],
 "metadata": {
  "kernelspec": {
   "display_name": "Python 3",
   "language": "python",
   "name": "python3"
  },
  "language_info": {
   "codemirror_mode": {
    "name": "ipython",
    "version": 3
   },
   "file_extension": ".py",
   "mimetype": "text/x-python",
   "name": "python",
   "nbconvert_exporter": "python",
   "pygments_lexer": "ipython3",
   "version": "3.7.3"
  }
 },
 "nbformat": 4,
 "nbformat_minor": 4
}
